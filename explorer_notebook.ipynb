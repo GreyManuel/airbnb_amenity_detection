{
 "cells": [
  {
   "cell_type": "markdown",
   "metadata": {},
   "source": [
    "# Explorer Notebook\n",
    "This notebook is for a bunch of little experiments here and there. Mostly just a place to run Python code."
   ]
  },
  {
   "cell_type": "code",
   "execution_count": 2,
   "metadata": {},
   "outputs": [],
   "source": [
    "import pandas as pd"
   ]
  },
  {
   "cell_type": "code",
   "execution_count": 68,
   "metadata": {},
   "outputs": [
    {
     "data": {
      "text/plain": [
       "30"
      ]
     },
     "execution_count": 68,
     "metadata": {},
     "output_type": "execute_result"
    }
   ],
   "source": [
    "# These are the subset of classes Airbnb are most concerned with\n",
    "subset = [\"Toilet\",\n",
    "          \"Swimming_pool\",\n",
    "          \"Bed\",\n",
    "          \"Billiard_table\",\n",
    "          \"Sink\",\n",
    "          \"Fountain\",\n",
    "          \"Oven\",\n",
    "          \"Ceiling_fan\",\n",
    "          \"Television\",\n",
    "          \"Microwave_oven\",\n",
    "          \"Gas_stove\",\n",
    "          \"Refrigerator\",\n",
    "          \"Kitchen_&_dining_room_table\",\n",
    "          \"Washing_machine\",\n",
    "          \"Bathtub\",\n",
    "          \"Stairs\",\n",
    "          \"Fireplace\",\n",
    "          \"Pillow\",\n",
    "          \"Mirror\",\n",
    "          \"Shower\",\n",
    "          \"Couch\",\n",
    "          \"Countertop\",\n",
    "          \"Coffeemaker\",\n",
    "          \"Dishwasher\",\n",
    "          \"Sofa_bed\",\n",
    "          \"Tree_house\",\n",
    "          \"Towel\",\n",
    "          \"Porch\",\n",
    "          \"Wine_rack\",\n",
    "          \"Jacuzzi\"]\n",
    "\n",
    "len(subset)"
   ]
  },
  {
   "cell_type": "markdown",
   "metadata": {},
   "source": [
    "## Start exploring the class names in Open Images\n",
    "Downloaded the class descriptions from Open Images: `!wget https://storage.googleapis.com/openimages/2018_04/class-descriptions-boxable.csv`\n",
    "\n",
    "This file contains all of the codenames for the classes which have bounding box labels in Open Images."
   ]
  },
  {
   "cell_type": "code",
   "execution_count": null,
   "metadata": {},
   "outputs": [],
   "source": [
    "#!wget https://storage.googleapis.com/openimages/2018_04/class-descriptions-boxable.csv"
   ]
  },
  {
   "cell_type": "code",
   "execution_count": 69,
   "metadata": {},
   "outputs": [
    {
     "data": {
      "text/html": [
       "<div>\n",
       "<style scoped>\n",
       "    .dataframe tbody tr th:only-of-type {\n",
       "        vertical-align: middle;\n",
       "    }\n",
       "\n",
       "    .dataframe tbody tr th {\n",
       "        vertical-align: top;\n",
       "    }\n",
       "\n",
       "    .dataframe thead th {\n",
       "        text-align: right;\n",
       "    }\n",
       "</style>\n",
       "<table border=\"1\" class=\"dataframe\">\n",
       "  <thead>\n",
       "    <tr style=\"text-align: right;\">\n",
       "      <th></th>\n",
       "      <th>ID</th>\n",
       "      <th>Name</th>\n",
       "    </tr>\n",
       "  </thead>\n",
       "  <tbody>\n",
       "    <tr>\n",
       "      <th>0</th>\n",
       "      <td>/m/011k07</td>\n",
       "      <td>Tortoise</td>\n",
       "    </tr>\n",
       "    <tr>\n",
       "      <th>1</th>\n",
       "      <td>/m/011q46kg</td>\n",
       "      <td>Container</td>\n",
       "    </tr>\n",
       "    <tr>\n",
       "      <th>2</th>\n",
       "      <td>/m/012074</td>\n",
       "      <td>Magpie</td>\n",
       "    </tr>\n",
       "    <tr>\n",
       "      <th>3</th>\n",
       "      <td>/m/0120dh</td>\n",
       "      <td>Sea turtle</td>\n",
       "    </tr>\n",
       "    <tr>\n",
       "      <th>4</th>\n",
       "      <td>/m/01226z</td>\n",
       "      <td>Football</td>\n",
       "    </tr>\n",
       "    <tr>\n",
       "      <th>...</th>\n",
       "      <td>...</td>\n",
       "      <td>...</td>\n",
       "    </tr>\n",
       "    <tr>\n",
       "      <th>596</th>\n",
       "      <td>/m/0qmmr</td>\n",
       "      <td>Wheelchair</td>\n",
       "    </tr>\n",
       "    <tr>\n",
       "      <th>597</th>\n",
       "      <td>/m/0wdt60w</td>\n",
       "      <td>Rugby ball</td>\n",
       "    </tr>\n",
       "    <tr>\n",
       "      <th>598</th>\n",
       "      <td>/m/0xfy</td>\n",
       "      <td>Armadillo</td>\n",
       "    </tr>\n",
       "    <tr>\n",
       "      <th>599</th>\n",
       "      <td>/m/0xzly</td>\n",
       "      <td>Maracas</td>\n",
       "    </tr>\n",
       "    <tr>\n",
       "      <th>600</th>\n",
       "      <td>/m/0zvk5</td>\n",
       "      <td>Helmet</td>\n",
       "    </tr>\n",
       "  </tbody>\n",
       "</table>\n",
       "<p>601 rows × 2 columns</p>\n",
       "</div>"
      ],
      "text/plain": [
       "              ID        Name\n",
       "0      /m/011k07    Tortoise\n",
       "1    /m/011q46kg   Container\n",
       "2      /m/012074      Magpie\n",
       "3      /m/0120dh  Sea turtle\n",
       "4      /m/01226z    Football\n",
       "..           ...         ...\n",
       "596     /m/0qmmr  Wheelchair\n",
       "597   /m/0wdt60w  Rugby ball\n",
       "598      /m/0xfy   Armadillo\n",
       "599     /m/0xzly     Maracas\n",
       "600     /m/0zvk5      Helmet\n",
       "\n",
       "[601 rows x 2 columns]"
      ]
     },
     "execution_count": 69,
     "metadata": {},
     "output_type": "execute_result"
    }
   ],
   "source": [
    "# All the classes in Open Images\n",
    "classes = pd.read_csv(\"class-descriptions-boxable.csv\", names=[\"ID\", \"Name\"])\n",
    "classes"
   ]
  },
  {
   "cell_type": "code",
   "execution_count": 70,
   "metadata": {},
   "outputs": [
    {
     "data": {
      "text/html": [
       "<div>\n",
       "<style scoped>\n",
       "    .dataframe tbody tr th:only-of-type {\n",
       "        vertical-align: middle;\n",
       "    }\n",
       "\n",
       "    .dataframe tbody tr th {\n",
       "        vertical-align: top;\n",
       "    }\n",
       "\n",
       "    .dataframe thead th {\n",
       "        text-align: right;\n",
       "    }\n",
       "</style>\n",
       "<table border=\"1\" class=\"dataframe\">\n",
       "  <thead>\n",
       "    <tr style=\"text-align: right;\">\n",
       "      <th></th>\n",
       "      <th>ID</th>\n",
       "      <th>Name</th>\n",
       "      <th>match</th>\n",
       "    </tr>\n",
       "  </thead>\n",
       "  <tbody>\n",
       "    <tr>\n",
       "      <th>0</th>\n",
       "      <td>/m/011k07</td>\n",
       "      <td>Tortoise</td>\n",
       "      <td>False</td>\n",
       "    </tr>\n",
       "    <tr>\n",
       "      <th>1</th>\n",
       "      <td>/m/011q46kg</td>\n",
       "      <td>Container</td>\n",
       "      <td>False</td>\n",
       "    </tr>\n",
       "    <tr>\n",
       "      <th>2</th>\n",
       "      <td>/m/012074</td>\n",
       "      <td>Magpie</td>\n",
       "      <td>False</td>\n",
       "    </tr>\n",
       "    <tr>\n",
       "      <th>3</th>\n",
       "      <td>/m/0120dh</td>\n",
       "      <td>Sea turtle</td>\n",
       "      <td>False</td>\n",
       "    </tr>\n",
       "    <tr>\n",
       "      <th>4</th>\n",
       "      <td>/m/01226z</td>\n",
       "      <td>Football</td>\n",
       "      <td>False</td>\n",
       "    </tr>\n",
       "    <tr>\n",
       "      <th>...</th>\n",
       "      <td>...</td>\n",
       "      <td>...</td>\n",
       "      <td>...</td>\n",
       "    </tr>\n",
       "    <tr>\n",
       "      <th>596</th>\n",
       "      <td>/m/0qmmr</td>\n",
       "      <td>Wheelchair</td>\n",
       "      <td>False</td>\n",
       "    </tr>\n",
       "    <tr>\n",
       "      <th>597</th>\n",
       "      <td>/m/0wdt60w</td>\n",
       "      <td>Rugby ball</td>\n",
       "      <td>False</td>\n",
       "    </tr>\n",
       "    <tr>\n",
       "      <th>598</th>\n",
       "      <td>/m/0xfy</td>\n",
       "      <td>Armadillo</td>\n",
       "      <td>False</td>\n",
       "    </tr>\n",
       "    <tr>\n",
       "      <th>599</th>\n",
       "      <td>/m/0xzly</td>\n",
       "      <td>Maracas</td>\n",
       "      <td>False</td>\n",
       "    </tr>\n",
       "    <tr>\n",
       "      <th>600</th>\n",
       "      <td>/m/0zvk5</td>\n",
       "      <td>Helmet</td>\n",
       "      <td>False</td>\n",
       "    </tr>\n",
       "  </tbody>\n",
       "</table>\n",
       "<p>601 rows × 3 columns</p>\n",
       "</div>"
      ],
      "text/plain": [
       "              ID        Name  match\n",
       "0      /m/011k07    Tortoise  False\n",
       "1    /m/011q46kg   Container  False\n",
       "2      /m/012074      Magpie  False\n",
       "3      /m/0120dh  Sea turtle  False\n",
       "4      /m/01226z    Football  False\n",
       "..           ...         ...    ...\n",
       "596     /m/0qmmr  Wheelchair  False\n",
       "597   /m/0wdt60w  Rugby ball  False\n",
       "598      /m/0xfy   Armadillo  False\n",
       "599     /m/0xzly     Maracas  False\n",
       "600     /m/0zvk5      Helmet  False\n",
       "\n",
       "[601 rows x 3 columns]"
      ]
     },
     "execution_count": 70,
     "metadata": {},
     "output_type": "execute_result"
    }
   ],
   "source": [
    "# Let's get a subset or at least all the columns which match\n",
    "classes[\"match\"] = classes[\"Name\"].isin(subset)\n",
    "classes"
   ]
  },
  {
   "cell_type": "code",
   "execution_count": 71,
   "metadata": {},
   "outputs": [
    {
     "data": {
      "text/plain": [
       "False    581\n",
       "True      20\n",
       "Name: match, dtype: int64"
      ]
     },
     "execution_count": 71,
     "metadata": {},
     "output_type": "execute_result"
    }
   ],
   "source": [
    "classes.match.value_counts()"
   ]
  },
  {
   "cell_type": "code",
   "execution_count": 72,
   "metadata": {},
   "outputs": [
    {
     "data": {
      "text/plain": [
       "['Sink',\n",
       " 'Towel',\n",
       " 'Stairs',\n",
       " 'Fountain',\n",
       " 'Oven',\n",
       " 'Couch',\n",
       " 'Shower',\n",
       " 'Pillow',\n",
       " 'Bathtub',\n",
       " 'Bed',\n",
       " 'Fireplace',\n",
       " 'Refrigerator',\n",
       " 'Porch',\n",
       " 'Mirror',\n",
       " 'Jacuzzi',\n",
       " 'Television',\n",
       " 'Coffeemaker',\n",
       " 'Toilet',\n",
       " 'Countertop',\n",
       " 'Dishwasher']"
      ]
     },
     "execution_count": 72,
     "metadata": {},
     "output_type": "execute_result"
    }
   ],
   "source": [
    "# Where do they match up?\n",
    "matches = classes[classes[\"match\"] == True][\"Name\"].tolist()\n",
    "matches"
   ]
  },
  {
   "cell_type": "code",
   "execution_count": 73,
   "metadata": {},
   "outputs": [
    {
     "data": {
      "text/plain": [
       "['Kitchen_&_dining_room_table',\n",
       " 'Swimming_pool',\n",
       " 'Gas_stove',\n",
       " 'Ceiling_fan',\n",
       " 'Washing_machine',\n",
       " 'Tree_house',\n",
       " 'Billiard_table',\n",
       " 'Microwave_oven',\n",
       " 'Sofa_bed',\n",
       " 'Wine_rack']"
      ]
     },
     "execution_count": 73,
     "metadata": {},
     "output_type": "execute_result"
    }
   ],
   "source": [
    "# Where are they different?\n",
    "missing_classes = list(set(subset)-set(matches))\n",
    "missing_classes # missing classes in Open Images that are in Airbnb's classes of concern "
   ]
  },
  {
   "cell_type": "code",
   "execution_count": 74,
   "metadata": {},
   "outputs": [
    {
     "data": {
      "text/html": [
       "<div>\n",
       "<style scoped>\n",
       "    .dataframe tbody tr th:only-of-type {\n",
       "        vertical-align: middle;\n",
       "    }\n",
       "\n",
       "    .dataframe tbody tr th {\n",
       "        vertical-align: top;\n",
       "    }\n",
       "\n",
       "    .dataframe thead th {\n",
       "        text-align: right;\n",
       "    }\n",
       "</style>\n",
       "<table border=\"1\" class=\"dataframe\">\n",
       "  <thead>\n",
       "    <tr style=\"text-align: right;\">\n",
       "      <th></th>\n",
       "      <th>ID</th>\n",
       "      <th>Name</th>\n",
       "      <th>match</th>\n",
       "    </tr>\n",
       "  </thead>\n",
       "  <tbody>\n",
       "    <tr>\n",
       "      <th>444</th>\n",
       "      <td>/m/0b_rs</td>\n",
       "      <td>Swimming pool</td>\n",
       "      <td>False</td>\n",
       "    </tr>\n",
       "  </tbody>\n",
       "</table>\n",
       "</div>"
      ],
      "text/plain": [
       "           ID           Name  match\n",
       "444  /m/0b_rs  Swimming pool  False"
      ]
     },
     "execution_count": 74,
     "metadata": {},
     "output_type": "execute_result"
    }
   ],
   "source": [
    "# Are there similar versions of these classes in the descriptions I could use?\n",
    "classes[classes[\"Name\"].str.contains(\"pool\")]"
   ]
  },
  {
   "cell_type": "code",
   "execution_count": 75,
   "metadata": {},
   "outputs": [
    {
     "data": {
      "text/html": [
       "<div>\n",
       "<style scoped>\n",
       "    .dataframe tbody tr th:only-of-type {\n",
       "        vertical-align: middle;\n",
       "    }\n",
       "\n",
       "    .dataframe tbody tr th {\n",
       "        vertical-align: top;\n",
       "    }\n",
       "\n",
       "    .dataframe thead th {\n",
       "        text-align: right;\n",
       "    }\n",
       "</style>\n",
       "<table border=\"1\" class=\"dataframe\">\n",
       "  <thead>\n",
       "    <tr style=\"text-align: right;\">\n",
       "      <th></th>\n",
       "      <th>ID</th>\n",
       "      <th>Name</th>\n",
       "      <th>match</th>\n",
       "    </tr>\n",
       "  </thead>\n",
       "  <tbody>\n",
       "    <tr>\n",
       "      <th>197</th>\n",
       "      <td>/m/02wv84t</td>\n",
       "      <td>Gas stove</td>\n",
       "      <td>False</td>\n",
       "    </tr>\n",
       "    <tr>\n",
       "      <th>270</th>\n",
       "      <td>/m/04169hn</td>\n",
       "      <td>Wood-burning stove</td>\n",
       "      <td>False</td>\n",
       "    </tr>\n",
       "  </tbody>\n",
       "</table>\n",
       "</div>"
      ],
      "text/plain": [
       "             ID                Name  match\n",
       "197  /m/02wv84t           Gas stove  False\n",
       "270  /m/04169hn  Wood-burning stove  False"
      ]
     },
     "execution_count": 75,
     "metadata": {},
     "output_type": "execute_result"
    }
   ],
   "source": [
    "classes[classes[\"Name\"].str.contains(\"stove\")]"
   ]
  },
  {
   "cell_type": "code",
   "execution_count": 76,
   "metadata": {},
   "outputs": [
    {
     "data": {
      "text/plain": [
       "['Gas stove', 'Wood-burning stove']"
      ]
     },
     "execution_count": 76,
     "metadata": {},
     "output_type": "execute_result"
    }
   ],
   "source": [
    "classes[classes[\"Name\"].str.contains(\"stove\")][\"Name\"].tolist()"
   ]
  },
  {
   "cell_type": "code",
   "execution_count": 77,
   "metadata": {},
   "outputs": [
    {
     "data": {
      "text/plain": [
       "['Kitchen',\n",
       " '&',\n",
       " 'dining',\n",
       " 'room',\n",
       " 'table',\n",
       " 'Swimming',\n",
       " 'pool',\n",
       " 'Gas',\n",
       " 'stove',\n",
       " 'Ceiling',\n",
       " 'fan',\n",
       " 'Washing',\n",
       " 'machine',\n",
       " 'Tree',\n",
       " 'house',\n",
       " 'Billiard',\n",
       " 'table',\n",
       " 'Microwave',\n",
       " 'oven',\n",
       " 'Sofa',\n",
       " 'bed',\n",
       " 'Wine',\n",
       " 'rack']"
      ]
     },
     "execution_count": 77,
     "metadata": {},
     "output_type": "execute_result"
    }
   ],
   "source": [
    "# Get the individual words from each string of missing classes\n",
    "strings = [i.split('_') for i in missing_classes]\n",
    "strings = [item for sublist in strings for item in sublist]\n",
    "strings"
   ]
  },
  {
   "cell_type": "code",
   "execution_count": 78,
   "metadata": {},
   "outputs": [
    {
     "data": {
      "text/plain": [
       "['Mechanical fan',\n",
       " 'Tree',\n",
       " 'Bathroom accessory',\n",
       " 'Table tennis racket',\n",
       " 'Mushroom',\n",
       " 'Infant bed',\n",
       " 'Kitchenware',\n",
       " 'Tennis racket',\n",
       " 'Kitchen utensil',\n",
       " 'Kitchen appliance',\n",
       " 'Spice rack',\n",
       " 'Wine glass',\n",
       " 'Gas stove',\n",
       " 'Bathroom cabinet',\n",
       " 'Billiard table',\n",
       " 'Kitchen & dining room table',\n",
       " 'Washing machine',\n",
       " 'Tree house',\n",
       " 'Kitchen knife',\n",
       " 'Dog bed',\n",
       " 'Lighthouse',\n",
       " 'Wine rack',\n",
       " 'Wood-burning stove',\n",
       " 'Ceiling fan',\n",
       " 'Swimming pool',\n",
       " 'Wine',\n",
       " 'Sewing machine',\n",
       " 'Sofa bed',\n",
       " 'Coffee table',\n",
       " 'Microwave oven',\n",
       " 'Vegetable']"
      ]
     },
     "execution_count": 78,
     "metadata": {},
     "output_type": "execute_result"
    }
   ],
   "source": [
    "# Now find if any of the strings match up\n",
    "more_matches = []\n",
    "for string in strings:\n",
    "    more_matches.append(classes[classes[\"Name\"].str.contains(string)][\"Name\"].tolist())\n",
    "more_matches = list(set([item for sublist in more_matches for item in sublist]))\n",
    "more_matches"
   ]
  },
  {
   "cell_type": "code",
   "execution_count": 80,
   "metadata": {},
   "outputs": [
    {
     "data": {
      "text/plain": [
       "['Kitchen & dining room table',\n",
       " 'Swimming pool',\n",
       " 'Gas stove',\n",
       " 'Ceiling fan',\n",
       " 'Washing machine',\n",
       " 'Tree house',\n",
       " 'Billiard table',\n",
       " 'Microwave oven',\n",
       " 'Sofa bed',\n",
       " 'Wine rack']"
      ]
     },
     "execution_count": 80,
     "metadata": {},
     "output_type": "execute_result"
    }
   ],
   "source": [
    "# Take out the underscore\n",
    "missing_classes_no_space = [i.replace(\"_\", \" \") for i in missing_classes]\n",
    "missing_classes_no_space"
   ]
  },
  {
   "cell_type": "code",
   "execution_count": 82,
   "metadata": {},
   "outputs": [
    {
     "data": {
      "text/plain": [
       "[]"
      ]
     },
     "execution_count": 82,
     "metadata": {},
     "output_type": "execute_result"
    }
   ],
   "source": [
    "# Find the actual missing classes\n",
    "actual_missing_classes = list(set(missing_classes_no_space) - set(more_matches))\n",
    "actual_missing_classes"
   ]
  },
  {
   "cell_type": "markdown",
   "metadata": {},
   "source": [
    "Turns out there aren't any missing classes from the Open Images set! The only difference here is the naming convention. Airbnb used underscores \"_\" in their class names. This is a simple fix we can implement later. \n",
    "\n",
    "Let's remove the underscores from our `subset` list and play with that to start downloading classes."
   ]
  },
  {
   "cell_type": "code",
   "execution_count": 83,
   "metadata": {},
   "outputs": [
    {
     "data": {
      "text/plain": [
       "['Toilet',\n",
       " 'Swimming pool',\n",
       " 'Bed',\n",
       " 'Billiard table',\n",
       " 'Sink',\n",
       " 'Fountain',\n",
       " 'Oven',\n",
       " 'Ceiling fan',\n",
       " 'Television',\n",
       " 'Microwave oven',\n",
       " 'Gas stove',\n",
       " 'Refrigerator',\n",
       " 'Kitchen & dining room table',\n",
       " 'Washing machine',\n",
       " 'Bathtub',\n",
       " 'Stairs',\n",
       " 'Fireplace',\n",
       " 'Pillow',\n",
       " 'Mirror',\n",
       " 'Shower',\n",
       " 'Couch',\n",
       " 'Countertop',\n",
       " 'Coffeemaker',\n",
       " 'Dishwasher',\n",
       " 'Sofa bed',\n",
       " 'Tree house',\n",
       " 'Towel',\n",
       " 'Porch',\n",
       " 'Wine rack',\n",
       " 'Jacuzzi']"
      ]
     },
     "execution_count": 83,
     "metadata": {},
     "output_type": "execute_result"
    }
   ],
   "source": [
    "subset_no_underscore = [i.replace(\"_\", \" \") for i in subset]\n",
    "subset_no_underscore"
   ]
  },
  {
   "cell_type": "markdown",
   "metadata": {},
   "source": [
    "Okay we'll start with a small class (small as in, there are likely not many examples), let's use `Jacuzzi` first."
   ]
  },
  {
   "cell_type": "code",
   "execution_count": 85,
   "metadata": {},
   "outputs": [
    {
     "name": "stdout",
     "output_type": "stream",
     "text": [
      "Class 0 : Jacuzzi\n",
      "grep: ./train-annotations-bbox.csv: No such file or directory\n",
      "Annotation Count : 0\n",
      "Number of images to be downloaded : 0\n",
      "0it [00:00, ?it/s]\n"
     ]
    }
   ],
   "source": [
    "!python3 downloadOI.py --classes 'Jacuzzi' --mode train"
   ]
  },
  {
   "cell_type": "markdown",
   "metadata": {},
   "source": [
    "Get all the files we need from Open Images (labels, annotations, descriptions, etc)"
   ]
  },
  {
   "cell_type": "code",
   "execution_count": 86,
   "metadata": {},
   "outputs": [
    {
     "name": "stdout",
     "output_type": "stream",
     "text": [
      "--2020-02-20 06:04:12--  https://storage.googleapis.com/openimages/2018_04/class-descriptions-boxable.csv\n",
      "Resolving storage.googleapis.com (storage.googleapis.com)... 216.58.203.112, 2404:6800:4006:807::2010\n",
      "Connecting to storage.googleapis.com (storage.googleapis.com)|216.58.203.112|:443... connected.\n",
      "HTTP request sent, awaiting response... 200 OK\n",
      "Length: 11255 (11K) [text/csv]\n",
      "Saving to: ‘class-descriptions-boxable.csv.1’\n",
      "\n",
      "class-descriptions- 100%[===================>]  10.99K  --.-KB/s    in 0s      \n",
      "\n",
      "2020-02-20 06:04:13 (75.0 MB/s) - ‘class-descriptions-boxable.csv.1’ saved [11255/11255]\n",
      "\n",
      "--2020-02-20 06:04:13--  https://storage.googleapis.com/openimages/2018_04/train/train-annotations-bbox.csv\n",
      "Resolving storage.googleapis.com (storage.googleapis.com)... 172.217.167.112, 2404:6800:4006:803::2010\n",
      "Connecting to storage.googleapis.com (storage.googleapis.com)|172.217.167.112|:443... connected.\n",
      "HTTP request sent, awaiting response... 200 OK\n",
      "Length: 1194033454 (1.1G) [text/csv]\n",
      "Saving to: ‘train-annotations-bbox.csv’\n",
      "\n",
      "train-annotations-b 100%[===================>]   1.11G  52.8MB/s    in 25s     \n",
      "\n",
      "2020-02-20 06:04:39 (45.6 MB/s) - ‘train-annotations-bbox.csv’ saved [1194033454/1194033454]\n",
      "\n",
      "--2020-02-20 06:04:39--  https://storage.googleapis.com/openimages/2018_04/validation/validation-annotations-bbox.csv\n",
      "Resolving storage.googleapis.com (storage.googleapis.com)... 216.58.203.112, 2404:6800:4006:804::2010\n",
      "Connecting to storage.googleapis.com (storage.googleapis.com)|216.58.203.112|:443... connected.\n",
      "HTTP request sent, awaiting response... 200 OK\n",
      "Length: 17074036 (16M) [text/csv]\n",
      "Saving to: ‘validation-annotations-bbox.csv.1’\n",
      "\n",
      "validation-annotati 100%[===================>]  16.28M  22.6MB/s    in 0.7s    \n",
      "\n",
      "2020-02-20 06:04:40 (22.6 MB/s) - ‘validation-annotations-bbox.csv.1’ saved [17074036/17074036]\n",
      "\n",
      "--2020-02-20 06:04:40--  https://storage.googleapis.com/openimages/2018_04/test/test-annotations-bbox.csv\n",
      "Resolving storage.googleapis.com (storage.googleapis.com)... 172.217.167.112, 2404:6800:4006:807::2010\n",
      "Connecting to storage.googleapis.com (storage.googleapis.com)|172.217.167.112|:443... connected.\n",
      "HTTP request sent, awaiting response... 200 OK\n",
      "Length: 52174204 (50M) [text/csv]\n",
      "Saving to: ‘test-annotations-bbox.csv’\n",
      "\n",
      "test-annotations-bb 100%[===================>]  49.76M  37.3MB/s    in 1.3s    \n",
      "\n",
      "2020-02-20 06:04:43 (37.3 MB/s) - ‘test-annotations-bbox.csv’ saved [52174204/52174204]\n",
      "\n"
     ]
    }
   ],
   "source": [
    "!wget https://storage.googleapis.com/openimages/2018_04/class-descriptions-boxable.csv\n",
    " \n",
    "!wget https://storage.googleapis.com/openimages/2018_04/train/train-annotations-bbox.csv\n",
    " \n",
    "!wget https://storage.googleapis.com/openimages/2018_04/validation/validation-annotations-bbox.csv\n",
    " \n",
    "!wget https://storage.googleapis.com/openimages/2018_04/test/test-annotations-bbox.csv "
   ]
  },
  {
   "cell_type": "code",
   "execution_count": 87,
   "metadata": {},
   "outputs": [
    {
     "name": "stdout",
     "output_type": "stream",
     "text": [
      "Class 0 : Jacuzzi\n",
      "Annotation Count : 103\n",
      "Number of images to be downloaded : 102\n",
      "100%|█████████████████████████████████████████| 102/102 [00:24<00:00,  4.15it/s]\n"
     ]
    }
   ],
   "source": [
    "!python3 downloadOI.py --classes 'Jacuzzi' --mode train"
   ]
  },
  {
   "cell_type": "code",
   "execution_count": 90,
   "metadata": {},
   "outputs": [
    {
     "name": "stdout",
     "output_type": "stream",
     "text": [
      "Class 0 : Toilet\n",
      "Class 1 : Bathtub\n",
      "Annotation Count : 55\n",
      "Number of images to be downloaded : 45\n",
      "100%|███████████████████████████████████████████| 45/45 [00:10<00:00,  4.13it/s]\n"
     ]
    }
   ],
   "source": [
    "!python3 downloadOI.py --classes 'Toilet,Bathtub' --mode validation"
   ]
  },
  {
   "cell_type": "code",
   "execution_count": null,
   "metadata": {},
   "outputs": [],
   "source": []
  }
 ],
 "metadata": {
  "kernelspec": {
   "display_name": "Python 3",
   "language": "python",
   "name": "python3"
  },
  "language_info": {
   "codemirror_mode": {
    "name": "ipython",
    "version": 3
   },
   "file_extension": ".py",
   "mimetype": "text/x-python",
   "name": "python",
   "nbconvert_exporter": "python",
   "pygments_lexer": "ipython3",
   "version": "3.7.4"
  }
 },
 "nbformat": 4,
 "nbformat_minor": 4
}
