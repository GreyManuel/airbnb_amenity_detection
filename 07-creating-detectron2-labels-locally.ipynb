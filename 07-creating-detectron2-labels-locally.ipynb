{
 "cells": [
  {
   "cell_type": "markdown",
   "metadata": {
    "colab_type": "text",
    "id": "QHnVupBBn9eR"
   },
   "source": [
    "# Detectron2 Preprocessing Code Improvements \n",
    "\n",
    "This notebook builds upon the Detectron2 experiment tracking notebook.\n",
    "\n",
    "It is dedicated to improving data preprocessing code speed/robustness.\n",
    "\n",
    "Previous notebook: https://colab.research.google.com/drive/1cdiavsEgnHHiKk9uz5LmkiVYuRfLgFt1\n",
    "\n",
    "Original Detectron2 tutorial: https://colab.research.google.com/drive/16jcaJoc6bCFAQ96jDe2HwtXj7BMD_-m5\n",
    "\n",
    "<img src=\"https://dl.fbaipublicfiles.com/detectron2/Detectron2-Logo-Horz.png\" width=\"500\">\n",
    "\n",
    "+\n",
    "\n",
    "<img src=\"https://i.imgur.com/1oTyk79.png\" width=\"500\">\n"
   ]
  },
  {
   "cell_type": "markdown",
   "metadata": {
    "colab_type": "text",
    "id": "vM54r6jlKTII"
   },
   "source": [
    "# Install detectron2"
   ]
  },
  {
   "cell_type": "code",
   "execution_count": 1,
   "metadata": {
    "colab": {},
    "colab_type": "code",
    "id": "9_FzH13EjseR"
   },
   "outputs": [
    {
     "name": "stdout",
     "output_type": "stream",
     "text": [
      "Looking in links: https://download.pytorch.org/whl/torch_stable.html\n",
      "Collecting torch==1.4+cu100\n",
      "\u001b[?25l  Downloading https://download.pytorch.org/whl/cu100/torch-1.4.0%2Bcu100-cp37-cp37m-linux_x86_64.whl (723.9MB)\n",
      "\u001b[K     |████████████████████████████████| 723.9MB 14kB/s s eta 0:00:014�█████████▍          | 483.8MB 627kB/s eta 0:06:23████████████████          | 499.5MB 76.1MB/s eta 0:00:03:00:04��        | 528.3MB 61.3MB/s eta 0:00:04████████████████████████      | 588.6MB 65.9MB/s eta 0:00:03��███▋    | 625.3MB 24.2MB/s eta 0:00:0553.4MB/s eta 0:00:01\n",
      "\u001b[?25hCollecting torchvision==0.5+cu100\n",
      "\u001b[?25l  Downloading https://download.pytorch.org/whl/cu100/torchvision-0.5.0%2Bcu100-cp37-cp37m-linux_x86_64.whl (4.0MB)\n",
      "\u001b[K     |████████████████████████████████| 4.0MB 62.1MB/s eta 0:00:01\n",
      "\u001b[?25hRequirement already satisfied, skipping upgrade: pillow>=4.1.1 in /opt/anaconda3/lib/python3.7/site-packages (from torchvision==0.5+cu100) (6.2.1)\n",
      "Requirement already satisfied, skipping upgrade: six in /opt/anaconda3/lib/python3.7/site-packages (from torchvision==0.5+cu100) (1.12.0)\n",
      "Requirement already satisfied, skipping upgrade: numpy in /opt/anaconda3/lib/python3.7/site-packages (from torchvision==0.5+cu100) (1.17.4)\n",
      "\u001b[31mERROR: fastai 1.0.59 requires nvidia-ml-py3, which is not installed.\u001b[0m\n",
      "Installing collected packages: torch, torchvision\n",
      "  Found existing installation: torch 1.3.1\n",
      "    Uninstalling torch-1.3.1:\n",
      "      Successfully uninstalled torch-1.3.1\n",
      "  Found existing installation: torchvision 0.4.2\n",
      "    Uninstalling torchvision-0.4.2:\n",
      "      Successfully uninstalled torchvision-0.4.2\n",
      "Successfully installed torch-1.4.0+cu100 torchvision-0.5.0+cu100\n",
      "Requirement already satisfied: cython in /opt/anaconda3/lib/python3.7/site-packages (0.29.14)\n",
      "Collecting pyyaml==5.1\n",
      "\u001b[?25l  Downloading https://files.pythonhosted.org/packages/9f/2c/9417b5c774792634834e730932745bc09a7d36754ca00acf1ccd1ac2594d/PyYAML-5.1.tar.gz (274kB)\n",
      "\u001b[K     |████████████████████████████████| 276kB 46.8MB/s eta 0:00:01\n",
      "\u001b[?25hBuilding wheels for collected packages: pyyaml\n",
      "  Building wheel for pyyaml (setup.py) ... \u001b[?25ldone\n",
      "\u001b[?25h  Created wheel for pyyaml: filename=PyYAML-5.1-cp37-cp37m-linux_x86_64.whl size=44074 sha256=435f905062a55ef44b9d16596d86e88c27f8fd01ef665b86f67dc4f1f6693358\n",
      "  Stored in directory: /home/jupyter/.cache/pip/wheels/ad/56/bc/1522f864feb2a358ea6f1a92b4798d69ac783a28e80567a18b\n",
      "Successfully built pyyaml\n",
      "\u001b[31mERROR: spyder 4.0.0 requires pyqt5<5.13; python_version >= \"3\", which is not installed.\u001b[0m\n",
      "\u001b[31mERROR: spyder 4.0.0 requires pyqtwebengine<5.13; python_version >= \"3\", which is not installed.\u001b[0m\n",
      "\u001b[31mERROR: fastai 1.0.59 requires nvidia-ml-py3, which is not installed.\u001b[0m\n",
      "\u001b[31mERROR: datalab 1.1.5 has requirement pandas-profiling==1.4.0, but you'll have pandas-profiling 2.3.0 which is incompatible.\u001b[0m\n",
      "Installing collected packages: pyyaml\n",
      "  Found existing installation: PyYAML 5.2\n",
      "\u001b[31mERROR: Cannot uninstall 'PyYAML'. It is a distutils installed project and thus we cannot accurately determine which files belong to it which would lead to only a partial uninstall.\u001b[0m\n",
      "Collecting git+https://github.com/cocodataset/cocoapi.git#subdirectory=PythonAPI\n",
      "  Cloning https://github.com/cocodataset/cocoapi.git to /tmp/pip-req-build-7d6vza_f\n",
      "  Running command git clone -q https://github.com/cocodataset/cocoapi.git /tmp/pip-req-build-7d6vza_f\n",
      "Requirement already satisfied, skipping upgrade: setuptools>=18.0 in /opt/anaconda3/lib/python3.7/site-packages (from pycocotools==2.0) (41.4.0)\n",
      "Requirement already satisfied, skipping upgrade: cython>=0.27.3 in /opt/anaconda3/lib/python3.7/site-packages (from pycocotools==2.0) (0.29.14)\n",
      "Requirement already satisfied, skipping upgrade: matplotlib>=2.1.0 in /opt/anaconda3/lib/python3.7/site-packages (from pycocotools==2.0) (3.1.1)\n",
      "Requirement already satisfied, skipping upgrade: cycler>=0.10 in /opt/anaconda3/lib/python3.7/site-packages (from matplotlib>=2.1.0->pycocotools==2.0) (0.10.0)\n",
      "Requirement already satisfied, skipping upgrade: kiwisolver>=1.0.1 in /opt/anaconda3/lib/python3.7/site-packages (from matplotlib>=2.1.0->pycocotools==2.0) (1.1.0)\n",
      "Requirement already satisfied, skipping upgrade: pyparsing!=2.0.4,!=2.1.2,!=2.1.6,>=2.0.1 in /opt/anaconda3/lib/python3.7/site-packages (from matplotlib>=2.1.0->pycocotools==2.0) (2.4.5)\n",
      "Requirement already satisfied, skipping upgrade: python-dateutil>=2.1 in /opt/anaconda3/lib/python3.7/site-packages (from matplotlib>=2.1.0->pycocotools==2.0) (2.8.1)\n",
      "Requirement already satisfied, skipping upgrade: numpy>=1.11 in /opt/anaconda3/lib/python3.7/site-packages (from matplotlib>=2.1.0->pycocotools==2.0) (1.17.4)\n",
      "Requirement already satisfied, skipping upgrade: six in /opt/anaconda3/lib/python3.7/site-packages (from cycler>=0.10->matplotlib>=2.1.0->pycocotools==2.0) (1.12.0)\n",
      "Building wheels for collected packages: pycocotools\n",
      "  Building wheel for pycocotools (setup.py) ... \u001b[?25ldone\n",
      "\u001b[?25h  Created wheel for pycocotools: filename=pycocotools-2.0-cp37-cp37m-linux_x86_64.whl size=285608 sha256=0573b257c64e325b73a123c04f3a251236c429a09a09d2f9c515459252f2ddff\n",
      "  Stored in directory: /tmp/pip-ephem-wheel-cache-nta_2dt2/wheels/90/51/41/646daf401c3bc408ff10de34ec76587a9b3ebfac8d21ca5c3a\n",
      "Successfully built pycocotools\n",
      "Installing collected packages: pycocotools\n",
      "Successfully installed pycocotools-2.0\n",
      "Looking in links: https://dl.fbaipublicfiles.com/detectron2/wheels/cu100/index.html\n",
      "Collecting detectron2\n",
      "\u001b[?25l  Downloading https://dl.fbaipublicfiles.com/detectron2/wheels/cu100/detectron2-0.1.1%2Bcu100-cp37-cp37m-linux_x86_64.whl (6.2MB)\n",
      "\u001b[K     |████████████████████████████████| 6.2MB 705kB/s eta 0:00:01\n",
      "\u001b[?25hRequirement already satisfied: tqdm>4.29.0 in /opt/anaconda3/lib/python3.7/site-packages (from detectron2) (4.40.2)\n",
      "Collecting tabulate\n",
      "  Downloading https://files.pythonhosted.org/packages/c4/f4/770ae9385990f5a19a91431163d262182d3203662ea2b5739d0fcfc080f1/tabulate-0.8.7-py3-none-any.whl\n",
      "Collecting fvcore\n",
      "  Downloading https://files.pythonhosted.org/packages/fa/d0/eaf4d8feac2327ba83201849c4d40aa5e4a7793dd599b91578eaa315d188/fvcore-0.1.dev200325.tar.gz\n",
      "Requirement already satisfied: future in /opt/anaconda3/lib/python3.7/site-packages (from detectron2) (0.18.2)\n",
      "Requirement already satisfied: matplotlib in /opt/anaconda3/lib/python3.7/site-packages (from detectron2) (3.1.1)\n",
      "Collecting tensorboard\n",
      "\u001b[?25l  Downloading https://files.pythonhosted.org/packages/54/f5/d75a6f7935e4a4870d85770bc9976b12e7024fbceb83a1a6bc50e6deb7c4/tensorboard-2.2.0-py3-none-any.whl (2.8MB)\n",
      "\u001b[K     |████████████████████████████████| 2.8MB 25.9MB/s eta 0:00:01\n",
      "\u001b[?25hCollecting termcolor>=1.1\n",
      "  Downloading https://files.pythonhosted.org/packages/8a/48/a76be51647d0eb9f10e2a4511bf3ffb8cc1e6b14e9e4fab46173aa79f981/termcolor-1.1.0.tar.gz\n",
      "Requirement already satisfied: Pillow in /opt/anaconda3/lib/python3.7/site-packages (from detectron2) (6.2.1)\n",
      "Requirement already satisfied: cloudpickle in /opt/anaconda3/lib/python3.7/site-packages (from detectron2) (1.2.2)\n",
      "Requirement already satisfied: pydot in /opt/anaconda3/lib/python3.7/site-packages (from detectron2) (1.4.1)\n",
      "Collecting yacs>=0.1.6\n",
      "  Downloading https://files.pythonhosted.org/packages/2f/51/9d613d67a8561a0cdf696c3909870f157ed85617fea3cff769bb7de09ef7/yacs-0.1.6-py3-none-any.whl\n",
      "Requirement already satisfied: numpy in /opt/anaconda3/lib/python3.7/site-packages (from fvcore->detectron2) (1.17.4)\n",
      "Requirement already satisfied: pyyaml>=5.1 in /opt/anaconda3/lib/python3.7/site-packages (from fvcore->detectron2) (5.2)\n",
      "Collecting portalocker\n",
      "  Downloading https://files.pythonhosted.org/packages/64/03/9abfb3374d67838daf24f1a388528714bec1debb1d13749f0abd7fb07cfb/portalocker-1.6.0-py2.py3-none-any.whl\n",
      "Requirement already satisfied: cycler>=0.10 in /opt/anaconda3/lib/python3.7/site-packages (from matplotlib->detectron2) (0.10.0)\n",
      "Requirement already satisfied: kiwisolver>=1.0.1 in /opt/anaconda3/lib/python3.7/site-packages (from matplotlib->detectron2) (1.1.0)\n",
      "Requirement already satisfied: pyparsing!=2.0.4,!=2.1.2,!=2.1.6,>=2.0.1 in /opt/anaconda3/lib/python3.7/site-packages (from matplotlib->detectron2) (2.4.5)\n",
      "Requirement already satisfied: python-dateutil>=2.1 in /opt/anaconda3/lib/python3.7/site-packages (from matplotlib->detectron2) (2.8.1)\n",
      "Requirement already satisfied: six>=1.10.0 in /opt/anaconda3/lib/python3.7/site-packages (from tensorboard->detectron2) (1.12.0)\n",
      "Requirement already satisfied: google-auth-oauthlib<0.5,>=0.4.1 in /opt/anaconda3/lib/python3.7/site-packages (from tensorboard->detectron2) (0.4.1)\n",
      "Collecting absl-py>=0.4\n",
      "\u001b[?25l  Downloading https://files.pythonhosted.org/packages/1a/53/9243c600e047bd4c3df9e69cfabc1e8004a82cac2e0c484580a78a94ba2a/absl-py-0.9.0.tar.gz (104kB)\n",
      "\u001b[K     |████████████████████████████████| 112kB 64.6MB/s eta 0:00:01\n",
      "\u001b[?25hRequirement already satisfied: markdown>=2.6.8 in /opt/anaconda3/lib/python3.7/site-packages (from tensorboard->detectron2) (3.1.1)\n",
      "Requirement already satisfied: setuptools>=41.0.0 in /opt/anaconda3/lib/python3.7/site-packages (from tensorboard->detectron2) (41.4.0)\n",
      "Collecting tensorboard-plugin-wit>=1.6.0\n",
      "\u001b[?25l  Downloading https://files.pythonhosted.org/packages/41/ec/3da49289b93963bd8b32d29ed108f1809436ff3d9cd4e29c90bac4a7292f/tensorboard_plugin_wit-1.6.0.post2-py3-none-any.whl (775kB)\n",
      "\u001b[K     |████████████████████████████████| 778kB 61.5MB/s eta 0:00:01\n",
      "\u001b[?25hRequirement already satisfied: grpcio>=1.24.3 in /opt/anaconda3/lib/python3.7/site-packages (from tensorboard->detectron2) (1.26.0)\n",
      "Requirement already satisfied: requests<3,>=2.21.0 in /opt/anaconda3/lib/python3.7/site-packages (from tensorboard->detectron2) (2.22.0)\n",
      "Requirement already satisfied: werkzeug>=0.11.15 in /opt/anaconda3/lib/python3.7/site-packages (from tensorboard->detectron2) (0.16.0)\n",
      "Requirement already satisfied: wheel>=0.26; python_version >= \"3\" in /opt/anaconda3/lib/python3.7/site-packages (from tensorboard->detectron2) (0.33.6)\n",
      "Requirement already satisfied: google-auth<2,>=1.6.3 in /opt/anaconda3/lib/python3.7/site-packages (from tensorboard->detectron2) (1.10.0)\n",
      "Requirement already satisfied: protobuf>=3.6.0 in /opt/anaconda3/lib/python3.7/site-packages (from tensorboard->detectron2) (3.11.1)\n",
      "Requirement already satisfied: requests-oauthlib>=0.7.0 in /opt/anaconda3/lib/python3.7/site-packages (from google-auth-oauthlib<0.5,>=0.4.1->tensorboard->detectron2) (1.3.0)\n",
      "Requirement already satisfied: idna<2.9,>=2.5 in /opt/anaconda3/lib/python3.7/site-packages (from requests<3,>=2.21.0->tensorboard->detectron2) (2.8)\n",
      "Requirement already satisfied: certifi>=2017.4.17 in /opt/anaconda3/lib/python3.7/site-packages (from requests<3,>=2.21.0->tensorboard->detectron2) (2019.11.28)\n",
      "Requirement already satisfied: urllib3!=1.25.0,!=1.25.1,<1.26,>=1.21.1 in /opt/anaconda3/lib/python3.7/site-packages (from requests<3,>=2.21.0->tensorboard->detectron2) (1.24.2)\n",
      "Requirement already satisfied: chardet<3.1.0,>=3.0.2 in /opt/anaconda3/lib/python3.7/site-packages (from requests<3,>=2.21.0->tensorboard->detectron2) (3.0.4)\n",
      "Requirement already satisfied: pyasn1-modules>=0.2.1 in /opt/anaconda3/lib/python3.7/site-packages (from google-auth<2,>=1.6.3->tensorboard->detectron2) (0.2.7)\n",
      "Requirement already satisfied: rsa<4.1,>=3.1.4 in /opt/anaconda3/lib/python3.7/site-packages (from google-auth<2,>=1.6.3->tensorboard->detectron2) (4.0)\n",
      "Requirement already satisfied: cachetools<5.0,>=2.0.0 in /opt/anaconda3/lib/python3.7/site-packages (from google-auth<2,>=1.6.3->tensorboard->detectron2) (4.0.0)\n",
      "Requirement already satisfied: oauthlib>=3.0.0 in /opt/anaconda3/lib/python3.7/site-packages (from requests-oauthlib>=0.7.0->google-auth-oauthlib<0.5,>=0.4.1->tensorboard->detectron2) (3.1.0)\n",
      "Requirement already satisfied: pyasn1<0.5.0,>=0.4.6 in /opt/anaconda3/lib/python3.7/site-packages (from pyasn1-modules>=0.2.1->google-auth<2,>=1.6.3->tensorboard->detectron2) (0.4.8)\n",
      "Building wheels for collected packages: fvcore, termcolor, absl-py\n",
      "  Building wheel for fvcore (setup.py) ... \u001b[?25ldone\n",
      "\u001b[?25h  Created wheel for fvcore: filename=fvcore-0.1.dev200325-cp37-none-any.whl size=38930 sha256=705e7573c897f8c13974813dbeef525fe7c6ee8b2d6e02b206b0273249ea6b61\n",
      "  Stored in directory: /home/jupyter/.cache/pip/wheels/58/4f/d1/6b0ada294145df5fe73092d9849d27be5b5b720fd8cfdd1b98\n",
      "  Building wheel for termcolor (setup.py) ... \u001b[?25ldone\n",
      "\u001b[?25h  Created wheel for termcolor: filename=termcolor-1.1.0-cp37-none-any.whl size=4832 sha256=512933c12f5b9d7468f32622f91f9132f99e722dc3324e549c3442260c831152\n",
      "  Stored in directory: /home/jupyter/.cache/pip/wheels/7c/06/54/bc84598ba1daf8f970247f550b175aaaee85f68b4b0c5ab2c6\n",
      "  Building wheel for absl-py (setup.py) ... \u001b[?25ldone\n",
      "\u001b[?25h  Created wheel for absl-py: filename=absl_py-0.9.0-cp37-none-any.whl size=121932 sha256=83e0881c893d4ba271711339fe058538de0fc4c644fcc57747f68befe54e63ab\n",
      "  Stored in directory: /home/jupyter/.cache/pip/wheels/8e/28/49/fad4e7f0b9a1227708cbbee4487ac8558a7334849cb81c813d\n",
      "Successfully built fvcore termcolor absl-py\n",
      "Installing collected packages: tabulate, yacs, portalocker, termcolor, fvcore, absl-py, tensorboard-plugin-wit, tensorboard, detectron2\n",
      "Successfully installed absl-py-0.9.0 detectron2-0.1.1+cu100 fvcore-0.1.dev200325 portalocker-1.6.0 tabulate-0.8.7 tensorboard-2.2.0 tensorboard-plugin-wit-1.6.0.post2 termcolor-1.1.0 yacs-0.1.6\n",
      "Collecting awscli\n",
      "\u001b[?25l  Downloading https://files.pythonhosted.org/packages/da/b0/a690aa647faecf2a23e551bb83353f2a899757283a09ede982509b1bdad8/awscli-1.18.28-py2.py3-none-any.whl (3.0MB)\n",
      "\u001b[K     |████████████████████████████████| 3.0MB 16.2MB/s eta 0:00:01\n",
      "\u001b[?25hCollecting rsa<=3.5.0,>=3.1.2\n",
      "  Using cached https://files.pythonhosted.org/packages/e1/ae/baedc9cb175552e95f3395c43055a6a5e125ae4d48a1d7a924baca83e92e/rsa-3.4.2-py2.py3-none-any.whl\n",
      "Requirement already satisfied: docutils<0.16,>=0.10 in /opt/anaconda3/lib/python3.7/site-packages (from awscli) (0.15.2)\n",
      "Collecting s3transfer<0.4.0,>=0.3.0\n",
      "  Using cached https://files.pythonhosted.org/packages/69/79/e6afb3d8b0b4e96cefbdc690f741d7dd24547ff1f94240c997a26fa908d3/s3transfer-0.3.3-py2.py3-none-any.whl\n",
      "Requirement already satisfied: colorama<0.4.4,>=0.2.5; python_version != \"3.4\" in /opt/anaconda3/lib/python3.7/site-packages (from awscli) (0.4.3)\n",
      "Requirement already satisfied: PyYAML<5.4,>=3.10; python_version != \"3.4\" in /opt/anaconda3/lib/python3.7/site-packages (from awscli) (5.2)\n",
      "Collecting botocore==1.15.28\n",
      "\u001b[?25l  Downloading https://files.pythonhosted.org/packages/a5/f2/353f2446c904b4006c3be6e26a81ff71215e7c95baf3c81f25401f2d54c9/botocore-1.15.28-py2.py3-none-any.whl (6.0MB)\n",
      "\u001b[K     |████████████████████████████████| 6.0MB 56.2MB/s eta 0:00:01\n",
      "\u001b[?25hRequirement already satisfied: pyasn1>=0.1.3 in /opt/anaconda3/lib/python3.7/site-packages (from rsa<=3.5.0,>=3.1.2->awscli) (0.4.8)\n",
      "Requirement already satisfied: python-dateutil<3.0.0,>=2.1 in /opt/anaconda3/lib/python3.7/site-packages (from botocore==1.15.28->awscli) (2.8.1)\n",
      "Requirement already satisfied: urllib3<1.26,>=1.20; python_version != \"3.4\" in /opt/anaconda3/lib/python3.7/site-packages (from botocore==1.15.28->awscli) (1.24.2)\n",
      "Collecting jmespath<1.0.0,>=0.7.1\n",
      "  Downloading https://files.pythonhosted.org/packages/a3/43/1e939e1fcd87b827fe192d0c9fc25b48c5b3368902bfb913de7754b0dc03/jmespath-0.9.5-py2.py3-none-any.whl\n",
      "Requirement already satisfied: six>=1.5 in /opt/anaconda3/lib/python3.7/site-packages (from python-dateutil<3.0.0,>=2.1->botocore==1.15.28->awscli) (1.12.0)\n",
      "\u001b[31mERROR: datalab 1.1.5 has requirement pandas-profiling==1.4.0, but you'll have pandas-profiling 2.3.0 which is incompatible.\u001b[0m\n",
      "Installing collected packages: rsa, jmespath, botocore, s3transfer, awscli\n",
      "  Found existing installation: rsa 4.0\n",
      "    Uninstalling rsa-4.0:\n",
      "      Successfully uninstalled rsa-4.0\n",
      "Successfully installed awscli-1.18.28 botocore-1.15.28 jmespath-0.9.5 rsa-3.4.2 s3transfer-0.3.3\n",
      "#### Versions: ####\n",
      "gcc (Debian 6.3.0-18+deb9u1) 6.3.0 20170516\n",
      "Copyright (C) 2016 Free Software Foundation, Inc.\n",
      "This is free software; see the source for copying conditions.  There is NO\n",
      "warranty; not even for MERCHANTABILITY or FITNESS FOR A PARTICULAR PURPOSE.\n",
      "\n"
     ]
    }
   ],
   "source": [
    "# install dependencies: (use cu100 because colab is on CUDA 10.0)\n",
    "!pip install -U torch==1.4+cu100 torchvision==0.5+cu100 -f https://download.pytorch.org/whl/torch_stable.html \n",
    "!pip install cython pyyaml==5.1\n",
    "!pip install -U 'git+https://github.com/cocodataset/cocoapi.git#subdirectory=PythonAPI'\n",
    "\n",
    "# install detectron2:\n",
    "!pip install detectron2 -f https://dl.fbaipublicfiles.com/detectron2/wheels/cu100/index.html\n",
    "\n",
    "# WandB - Install the W&B library\n",
    "!pip install wandb -q\n",
    "\n",
    "# Need awscli to download images from AWS (labels come from GCP)\n",
    "!pip install awscli\n",
    "\n",
    "print(\"#### Versions: ####\")\n",
    "import torch, torchvision\n",
    "torch.__version__\n",
    "!gcc --version\n",
    "# opencv is pre-installed on colab"
   ]
  },
  {
   "cell_type": "code",
   "execution_count": 1,
   "metadata": {
    "colab": {},
    "colab_type": "code",
    "id": "pKejAERoyYA0"
   },
   "outputs": [],
   "source": [
    "import logging\n",
    "import os\n",
    "import argparse\n",
    "from collections import OrderedDict\n",
    "import pandas as pd\n",
    "import numpy as np\n",
    "import torch\n",
    "from torch.nn.parallel import DistributedDataParallel\n",
    "\n",
    "import detectron2.utils.comm as comm\n",
    "from detectron2.checkpoint import DetectionCheckpointer, PeriodicCheckpointer\n",
    "from detectron2 import model_zoo\n",
    "from detectron2.config import get_cfg\n",
    "from detectron2.data import (\n",
    "    MetadataCatalog,\n",
    "    build_detection_test_loader,\n",
    "    build_detection_train_loader,\n",
    ")\n",
    "from detectron2.engine import default_argument_parser, default_setup, launch\n",
    "from detectron2.evaluation import ( ### Changes from original, I don't need all the different evaluators\n",
    "    COCOEvaluator,\n",
    "    DatasetEvaluators,\n",
    "    inference_on_dataset,\n",
    "    print_csv_format\n",
    ")\n",
    "from detectron2.modeling import build_model\n",
    "from detectron2.solver import build_lr_scheduler, build_optimizer\n",
    "# Not sure what these do but they may help to track experiments\n",
    "from detectron2.utils.events import (\n",
    "    CommonMetricPrinter,\n",
    "    EventStorage,\n",
    "    JSONWriter,\n",
    "    TensorboardXWriter\n",
    ")\n",
    "\n",
    "from detectron2.utils.visualizer import Visualizer\n",
    "\n",
    "# Setup logger\n",
    "logger = logging.getLogger(\"detectron2\")"
   ]
  },
  {
   "cell_type": "code",
   "execution_count": 2,
   "metadata": {
    "colab": {
     "base_uri": "https://localhost:8080/",
     "height": 121
    },
    "colab_type": "code",
    "id": "ZyAvNCJMmvFF",
    "outputId": "1fad75bd-2db7-4b0d-c9c8-d5ee4e5fd3b1"
   },
   "outputs": [
    {
     "name": "stdout",
     "output_type": "stream",
     "text": [
      "1.4.0\n",
      "Configured with: --prefix=/Applications/Xcode.app/Contents/Developer/usr --with-gxx-include-dir=/Applications/Xcode.app/Contents/Developer/Platforms/MacOSX.platform/Developer/SDKs/MacOSX.sdk/usr/include/c++/4.2.1\n",
      "Apple clang version 11.0.0 (clang-1100.0.33.17)\n",
      "Target: x86_64-apple-darwin19.3.0\n",
      "Thread model: posix\n",
      "InstalledDir: /Applications/Xcode.app/Contents/Developer/Toolchains/XcodeDefault.xctoolchain/usr/bin\n"
     ]
    }
   ],
   "source": [
    "# import some common libraries\n",
    "import cv2\n",
    "import json\n",
    "import random\n",
    "import os\n",
    "import pandas as pd\n",
    "import numpy as np\n",
    "#from google.colab.patches import cv2_imshow\n",
    "from tqdm import tqdm\n",
    "\n",
    "# wandb - Import weight's & biases\n",
    "import wandb\n",
    "\n",
    "import torch, torchvision\n",
    "print(torch.__version__)\n",
    "!gcc --version\n",
    "# opencv is pre-installed on colab"
   ]
  },
  {
   "cell_type": "code",
   "execution_count": 3,
   "metadata": {
    "colab": {
     "base_uri": "https://localhost:8080/",
     "height": 311
    },
    "colab_type": "code",
    "id": "Qj4cTVvsqx7e",
    "outputId": "d6b98d45-57a8-4e6b-a79d-61a39469de7d"
   },
   "outputs": [
    {
     "name": "stdout",
     "output_type": "stream",
     "text": [
      "/bin/sh: nvidia-smi: command not found\n"
     ]
    }
   ],
   "source": [
    "# What GPU are we using?\n",
    "!nvidia-smi"
   ]
  },
  {
   "cell_type": "code",
   "execution_count": null,
   "metadata": {
    "colab": {},
    "colab_type": "code",
    "id": "js46nlyluFAk"
   },
   "outputs": [],
   "source": [
    "# wandb - Login to wandb account so all metrics can be logged\n",
    "!wandb login"
   ]
  },
  {
   "cell_type": "code",
   "execution_count": null,
   "metadata": {
    "colab": {},
    "colab_type": "code",
    "id": "n9xyqh9Y5pAC"
   },
   "outputs": [],
   "source": [
    "# Initialize Weights & Biases\n",
    "import wandb\n",
    "wandb.init(project=\"airbnb-object-detection\", \n",
    "           sync_tensorboard=True)"
   ]
  },
  {
   "cell_type": "markdown",
   "metadata": {
    "colab_type": "text",
    "id": "Q5oAbVaqUc2a"
   },
   "source": [
    "# Setup Custom Dataset\n",
    "\n",
    "TODO - add annotations"
   ]
  },
  {
   "cell_type": "code",
   "execution_count": null,
   "metadata": {
    "colab": {},
    "colab_type": "code",
    "id": "9Gve0ORiUqxy"
   },
   "outputs": [],
   "source": [
    "# from google.colab import drive\n",
    "# drive.mount('/content/drive')"
   ]
  },
  {
   "cell_type": "code",
   "execution_count": 6,
   "metadata": {
    "colab": {},
    "colab_type": "code",
    "id": "6ENfScMOiQLH"
   },
   "outputs": [],
   "source": [
    "valid_path = \"validation\"\n",
    "train_path = \"train\"\n",
    "test_path = \"test\""
   ]
  },
  {
   "cell_type": "code",
   "execution_count": 7,
   "metadata": {},
   "outputs": [],
   "source": [
    "# !ls cmaker-bathtub-train"
   ]
  },
  {
   "cell_type": "markdown",
   "metadata": {
    "colab_type": "text",
    "id": "8_em6-NTWsco"
   },
   "source": [
    "**Note:** You only need to run the cell below once."
   ]
  },
  {
   "cell_type": "code",
   "execution_count": 10,
   "metadata": {
    "colab": {},
    "colab_type": "code",
    "id": "CkY1u60WUjCb"
   },
   "outputs": [],
   "source": [
    "# # Download required meta-files for V5 - https://storage.googleapis.com/openimages/web/download.html\n",
    "\n",
    "# # Training bounding boxes (1.11G)\n",
    "# !wget https://storage.googleapis.com/openimages/2018_04/train/train-annotations-bbox.csv\n",
    "\n",
    "# # Validating bounding boxes (23.94M)\n",
    "# !wget https://storage.googleapis.com/openimages/v5/validation-annotations-bbox.csv\n",
    "    \n",
    "# # Testing bounding boxes (73.89M)\n",
    "# !wget https://storage.googleapis.com/openimages/v5/test-annotations-bbox.csv\n",
    "\n",
    "# # Class Names (11.73K)\n",
    "# !wget https://storage.googleapis.com/openimages/v5/class-descriptions-boxable.csv"
   ]
  },
  {
   "cell_type": "code",
   "execution_count": 12,
   "metadata": {
    "colab": {
     "base_uri": "https://localhost:8080/",
     "height": 55
    },
    "colab_type": "code",
    "id": "8KghB8rfU1lX",
    "outputId": "e46ed801-469b-462b-bdb5-bcaf5389c841"
   },
   "outputs": [
    {
     "data": {
      "text/plain": [
       "['Toilet',\n",
       " 'Swimming pool',\n",
       " 'Bed',\n",
       " 'Billiard table',\n",
       " 'Sink',\n",
       " 'Fountain',\n",
       " 'Oven',\n",
       " 'Ceiling fan',\n",
       " 'Television',\n",
       " 'Microwave oven',\n",
       " 'Gas stove',\n",
       " 'Refrigerator',\n",
       " 'Kitchen & dining room table',\n",
       " 'Washing machine',\n",
       " 'Bathtub',\n",
       " 'Stairs',\n",
       " 'Fireplace',\n",
       " 'Pillow',\n",
       " 'Mirror',\n",
       " 'Shower',\n",
       " 'Couch',\n",
       " 'Countertop',\n",
       " 'Coffeemaker',\n",
       " 'Dishwasher',\n",
       " 'Sofa bed',\n",
       " 'Tree house',\n",
       " 'Towel',\n",
       " 'Porch',\n",
       " 'Wine rack',\n",
       " 'Jacuzzi']"
      ]
     },
     "execution_count": 12,
     "metadata": {},
     "output_type": "execute_result"
    }
   ],
   "source": [
    "# Classes of amenities Airbnb mostly cares about\n",
    "subset = [\"Toilet\",\n",
    "          \"Swimming_pool\",\n",
    "          \"Bed\",\n",
    "          \"Billiard_table\",\n",
    "          \"Sink\",\n",
    "          \"Fountain\",\n",
    "          \"Oven\",\n",
    "          \"Ceiling_fan\",\n",
    "          \"Television\",\n",
    "          \"Microwave_oven\",\n",
    "          \"Gas_stove\",\n",
    "          \"Refrigerator\",\n",
    "          \"Kitchen_&_dining_room_table\",\n",
    "          \"Washing_machine\",\n",
    "          \"Bathtub\",\n",
    "          \"Stairs\",\n",
    "          \"Fireplace\",\n",
    "          \"Pillow\",\n",
    "          \"Mirror\",\n",
    "          \"Shower\",\n",
    "          \"Couch\",\n",
    "          \"Countertop\",\n",
    "          \"Coffeemaker\",\n",
    "          \"Dishwasher\",\n",
    "          \"Sofa_bed\",\n",
    "          \"Tree_house\",\n",
    "          \"Towel\",\n",
    "          \"Porch\",\n",
    "          \"Wine_rack\",\n",
    "          \"Jacuzzi\"]\n",
    "\n",
    "# # Create download string\n",
    "# dl_string = \"\"\n",
    "# for cat in subset:\n",
    "#   cat = cat.replace(\"_\", \" \")\n",
    "#   dl_string += cat+\",\"\n",
    "# dl_string[:-1]\n",
    "\n",
    "# Remove underscores from subset list strings\n",
    "subset_targets = [amenity.replace(\"_\", \" \") for amenity in subset]\n",
    "subset_targets"
   ]
  },
  {
   "cell_type": "markdown",
   "metadata": {
    "colab_type": "text",
    "id": "Lhat1iyqZpyf"
   },
   "source": [
    "What is `grep`?\n",
    "\n",
    "`grep` is a command line utility for searching plain text documents for lines which match a certain regular expression: https://en.wikipedia.org/wiki/Grep\n",
    "\n",
    "E.g.\n",
    "\n",
    "\"`grep /m/07xyvk ./train-annotations-bbox.csv`\" will look for \"`/m/07xyvk`\" in \"`./train-annotations-bbox.csv`\""
   ]
  },
  {
   "cell_type": "code",
   "execution_count": 13,
   "metadata": {
    "colab": {
     "base_uri": "https://localhost:8080/",
     "height": 35
    },
    "colab_type": "code",
    "id": "bPME8ARlhaps",
    "outputId": "6786cb8d-5ccc-4a69-d9e2-e52b7faca7b3"
   },
   "outputs": [],
   "source": [
    "# target_classes=[\"Coffeemaker\", \"Bathtub\", \"Tree house\"]\n",
    "# target_classes.sort()\n",
    "# valid_img_path = \"./validation\"\n",
    "# train_img_path = \"./train\"\n",
    "\n",
    "# # Create download string based on target_classes\n",
    "# download_string = \"\"\n",
    "# for string in target_classes:\n",
    "#   download_string += string+\",\"\n",
    "# download_string[:-1]"
   ]
  },
  {
   "cell_type": "code",
   "execution_count": 14,
   "metadata": {
    "colab": {},
    "colab_type": "code",
    "id": "YiZIzam3YS5P"
   },
   "outputs": [],
   "source": [
    "# !python3 downloadOI.py --dataset \"train\" --classes \"Coffeemaker,Bathtub\""
   ]
  },
  {
   "cell_type": "code",
   "execution_count": 15,
   "metadata": {
    "colab": {},
    "colab_type": "code",
    "id": "8jDtg0pnbGeg"
   },
   "outputs": [],
   "source": [
    "# !python3 downloadOI.py --dataset \"validation\" --classes \"Coffeemaker,Bathtub\""
   ]
  },
  {
   "cell_type": "code",
   "execution_count": 16,
   "metadata": {
    "colab": {},
    "colab_type": "code",
    "id": "8NWJt6PaU8wj"
   },
   "outputs": [],
   "source": [
    "def get_image_ids(image_folder=None):\n",
    "    \"\"\"\n",
    "    Explores a folder of images and gets their ID from their file name.\n",
    "    Returns a list of all image ID's in image_folder.\n",
    "    E.g. image_folder/608fda8c976e0ac.jpg -> [\"608fda8c976e0ac\"]\n",
    "    \n",
    "    Params\n",
    "    ------\n",
    "    image_folder (str): path to folder of images, e.g. \"../validation/\"\n",
    "    \"\"\"\n",
    "    return [os.path.splitext(img_name)[0] for img_name in os.listdir(image_folder) if img_name.endswith(\".jpg\")]"
   ]
  },
  {
   "cell_type": "code",
   "execution_count": 17,
   "metadata": {
    "colab": {},
    "colab_type": "code",
    "id": "pcOEmTBMVCIT"
   },
   "outputs": [],
   "source": [
    "# Make a function which formats a specific annotations csv based on what we're dealing with\n",
    "def format_annotations(image_folder, annotation_file, target_classes=None):\n",
    "    \"\"\"\n",
    "    TODO - NOTE: This function could (definitely can) be faster.\n",
    "    TODO - Some ideas: skip the use of pandas entirely and use CSV's\n",
    "    \n",
    "    Formats annotation_file based on images contained in image_folder.\n",
    "    Will get all unique image IDs and make sure annotation_file\n",
    "    only contains those (the target images).\n",
    "    Adds meta-data to annotation_file such as class names and categories.\n",
    "    If target_classes isn't None, the returned annotations will be filtered by this list.\n",
    "    Note: image_folder and annotation_file should both be validation if working on\n",
    "    validation set or both be training if working on training set.\n",
    "    \n",
    "    Params\n",
    "    ------\n",
    "    image_folder (str): path to folder of target images.\n",
    "    annotation_file (str): path to annotation file of target images.\n",
    "    target_classes (list), optional: a list of target classes you'd like to filter labels.\n",
    "    \"\"\"\n",
    "    # Get all image ids from target directory\n",
    "    image_ids = get_image_ids(image_folder)\n",
    "    \n",
    "    # Setup annotation file and classnames\n",
    "    # TODO - improve this, is pandas required? \n",
    "    annot_file = pd.read_csv(annotation_file)\n",
    "    classes = pd.read_csv(\"class-descriptions-boxable.csv\",\n",
    "                          names=[\"LabelName\", \"ClassName\"])\n",
    "    \n",
    "    # Create classname column on annotations which converts label codes to string labels\n",
    "    annot_file[\"ClassName\"] = annot_file[\"LabelName\"].map(classes.set_index(\"LabelName\")[\"ClassName\"])\n",
    "\n",
    "    # Sort annot_file by \"ClassName\" for alphabetical labels (used with target_classes)\n",
    "    annot_file.sort_values(by=[\"ClassName\"], inplace=True)\n",
    "    \n",
    "    # TODO - fix this, Make sure we only get the images we're concerned about\n",
    "    if target_classes:\n",
    "        annot_file = annot_file[annot_file[\"ImageID\"].isin(image_ids) & annot_file[\"ClassName\"].isin(target_classes)]\n",
    "    else:\n",
    "        annot_file = annot_file[annot_file[\"ImageID\"].isin(image_ids)]\n",
    "   \n",
    "    # Add ClassID column, e.g. \"Bathtub, Toilet\" -> 1, 2\n",
    "    annot_file[\"ClassName\"] = pd.Categorical(annot_file[\"ClassName\"])\n",
    "    annot_file[\"ClassID\"] = annot_file[\"ClassName\"].cat.codes\n",
    "    \n",
    "    return annot_file"
   ]
  },
  {
   "cell_type": "code",
   "execution_count": 18,
   "metadata": {
    "colab": {},
    "colab_type": "code",
    "id": "vO2_6CnfgrXk"
   },
   "outputs": [],
   "source": [
    "# %%time\n",
    "# valid_annots = format_annotations(valid_path, \n",
    "#                                   annotation_file=\"/content/validation-annotations-bbox.csv\",\n",
    "#                                   target_classes=target_classes)\n",
    "# valid_annots.head()"
   ]
  },
  {
   "cell_type": "code",
   "execution_count": 19,
   "metadata": {
    "colab": {},
    "colab_type": "code",
    "id": "ANTIXT3DVD52"
   },
   "outputs": [],
   "source": [
    "def rel_to_absolute(bbox, height, width):\n",
    "    \"\"\"\n",
    "    Converts bounding box dimensions from relative to absolute pixel values (Detectron2 style).\n",
    "    See: https://detectron2.readthedocs.io/modules/structures.html#detectron2.structures.BoxMode\n",
    "    \n",
    "    Params\n",
    "    ------\n",
    "    bbox (array): relative dimensions of bounding box in format (x0, y0, x1, y1 or Xmin, Ymin, Xmax, Ymax)\n",
    "    height (int): height of image\n",
    "    width (int): width of image\n",
    "    \"\"\"\n",
    "    bbox[0] = np.round(np.multiply(bbox[0], width)) # x0\n",
    "    bbox[1] = np.round(np.multiply(bbox[1], height)) # y0\n",
    "    bbox[2] = np.round(np.multiply(bbox[2], width)) # x1\n",
    "    bbox[3] = np.round(np.multiply(bbox[3], height)) # y1\n",
    "    return [i.astype(\"object\") for i in bbox] # convert all to objects for JSON saving"
   ]
  },
  {
   "cell_type": "code",
   "execution_count": 20,
   "metadata": {
    "colab": {},
    "colab_type": "code",
    "id": "StYUey2tiUX1"
   },
   "outputs": [],
   "source": [
    "import numpy as np\n",
    "from detectron2.structures import BoxMode\n",
    "import json\n",
    "import os\n",
    "\n",
    "def get_image_dicts(image_folder, annotation_file, target_classes=None):\n",
    "    \"\"\"\n",
    "    Create JSON of dectectron2 style labels to be reused later.\n",
    "    \n",
    "    TODO -- Maybe create some verbosity here? AKA, what are the outputs?\n",
    "    TODO -- what if annotations = None? Can we create a call to create an annotations CSV in 1 hit?\n",
    "    \n",
    "    Params\n",
    "    ------\n",
    "    image_folder (str): target folder containing images\n",
    "    annotations (DataFrame): DataFrame of image label data\n",
    "    \"\"\"\n",
    "    dataset_name = \"validation\" if \"valid\" in image_folder else \"train\"\n",
    "\n",
    "    print(f\"Using {annotation_file} for annotations...\")\n",
    "    # TODO: there should be some kind of asssertions here making sure the image folder and annotation files match\n",
    "    # E.g. train w/ train and valid w/ valid\n",
    "    annotations = format_annotations(image_folder=image_folder, \n",
    "                                     annotation_file=annotation_file,\n",
    "                                     target_classes=target_classes)\n",
    "\n",
    "    print(f\"On dataset: {dataset_name}\")\n",
    "    print(\"Classes we're using:\\n {}\".format(annotations[\"ClassName\"].value_counts()))\n",
    "\n",
    "    # Get all unique image ids from target folder\n",
    "    img_ids = get_image_ids(image_folder)\n",
    "    print(f\"Total number of images: {len(img_ids)}\")\n",
    "\n",
    "    # TODO: move img_data creation out of for loop and only work with subset of img_ids?\n",
    "    #img_data = annotations[annotations[\"ImageID\"] == img].reset_index() # reset index important for images with multiple objects\n",
    "    #change to something like \"img_data = annotations is in img_ids...\"\n",
    "    \n",
    "    # Start creating image dictionaries (Detectron2 style labelling)\n",
    "    img_dicts = []\n",
    "    for idx, img in tqdm(enumerate(img_ids)):\n",
    "        record = {}\n",
    "        \n",
    "        # Get image metadata\n",
    "        file_name = image_folder + \"/\" + img + \".jpg\"\n",
    "        height, width = cv2.imread(file_name).shape[:2]\n",
    "        img_data = annotations[annotations[\"ImageID\"] == img].reset_index() # reset index important for images\n",
    "                                                                            # with multiple objects\n",
    "        # Verbosity for image label troubleshooting\n",
    "        # print(f\"On image: {img}\")\n",
    "        # print(f\"Image category: {img_data.ClassID.values}\")\n",
    "        # print(f\"Image label: {img_data.ClassName.values}\")\n",
    "\n",
    "        # Update record dictionary\n",
    "        record[\"file_name\"] = file_name\n",
    "        record[\"image_id\"] = idx\n",
    "        record[\"height\"] = height\n",
    "        record[\"width\"] = width\n",
    "        \n",
    "        # Create list of image annotations (labels)\n",
    "        img_annotations = []\n",
    "        for i in range(len(img_data)): # this is where we loop through examples with multiple objects in an image\n",
    "            category_id = img_data.loc[i][\"ClassID\"].astype(\"object\") # JSON (for evalution) can't take int8 (NumPy type) must be native Python type\n",
    "            # print(f\"Image category 2: {category_id}\")\n",
    "            # Get bounding box coordinates in Detectron2 style (x0, y0, x1, y1)\n",
    "            bbox = np.float32(img_data.loc[i][[\"XMin\", \"YMin\", \"XMax\", \"YMax\"]].values) # needs to be float/int # TODO: change for JSON\n",
    "            # Convert bbox from relative to absolute pixel dimensions\n",
    "            bbox = rel_to_absolute(bbox=bbox, height=height, width=width)\n",
    "            # Setup annot (1 annot = 1 label, there might be more) dictionary\n",
    "            annot = {\n",
    "                \"bbox\": bbox, \n",
    "                \"bbox_mode\": BoxMode.XYXY_ABS, # See: https://detectron2.readthedocs.io/modules/structures.html#detectron2.structures.BoxMode.XYXY_ABS\n",
    "                \"category_id\": category_id\n",
    "            }\n",
    "            img_annotations.append(annot)\n",
    "            \n",
    "        # Update record dictionary with annotations\n",
    "        record[\"annotations\"] = img_annotations\n",
    "        \n",
    "        # Add record dictionary with image annotations to img_dicts list\n",
    "        img_dicts.append(record)\n",
    "\n",
    "    # TODO: Change this into it's own function??\n",
    "    # Save img_dicts to JSON for use later\n",
    "    json_file = os.path.join(image_folder, dataset_name+\"_labels.json\")\n",
    "    print(f\"Saving labels to: {json_file}...\")\n",
    "    with open(json_file, \"w\") as f:\n",
    "      json.dump(img_dicts, f)\n",
    "\n",
    "    # return img labels dictionary\n",
    "    return img_dicts"
   ]
  },
  {
   "cell_type": "code",
   "execution_count": 21,
   "metadata": {
    "colab": {},
    "colab_type": "code",
    "id": "e42p02yStEwq"
   },
   "outputs": [],
   "source": [
    "def load_json_labels(image_folder):\n",
    "    \"\"\"\n",
    "    Returns Detectron2 style labels of images in image_folder based on JSON label file in image_folder.\n",
    "    \n",
    "    TODO -- Maybe create some verbosity here? AKA, what are the outputs?\n",
    "    TODO -- what if annotations = None? Can we create a call to create an annotations CSV in 1 hit?\n",
    "    \n",
    "    Params\n",
    "    ------\n",
    "    image_folder (str): target folder containing images\n",
    "    \"\"\"\n",
    "    # Get absolute path of JSON label file\n",
    "    for file in os.listdir(image_folder):\n",
    "      if file.endswith(\".json\"):\n",
    "        json_file = os.path.join(image_folder, file)\n",
    "\n",
    "    # TODO: Fix this assertion\n",
    "    assert json_file, \"No .json label file found, please make one with annots_to_json()\"\n",
    "\n",
    "    with open(json_file, \"r\") as f:\n",
    "      img_dicts = json.load(f)\n",
    "\n",
    "    # Convert bbox_mode to Enum of BoxMode.XYXY_ABS (doesn't work loading normal from JSON)\n",
    "    for img_dict in img_dicts:\n",
    "      for annot in img_dict[\"annotations\"]:\n",
    "        annot[\"bbox_mode\"] = BoxMode.XYXY_ABS\n",
    "\n",
    "    return img_dicts"
   ]
  },
  {
   "cell_type": "markdown",
   "metadata": {
    "colab_type": "text",
    "id": "5Hut53DYxWdW"
   },
   "source": [
    "## Make Labels\n",
    "\n",
    "Use `annots_to_json()` to make image dictionaries in Detectron2 style and save them to JSON files for ease of use later."
   ]
  },
  {
   "cell_type": "code",
   "execution_count": 24,
   "metadata": {
    "colab": {},
    "colab_type": "code",
    "id": "jH4Mdv2hkKz5"
   },
   "outputs": [
    {
     "name": "stdout",
     "output_type": "stream",
     "text": [
      "Using validation-annotations-bbox.csv for annotations...\n",
      "On dataset: validation\n",
      "Classes we're using:\n",
      " Swimming pool                  161\n",
      "Bed                            125\n",
      "Kitchen & dining room table     76\n",
      "Pillow                          76\n",
      "Countertop                      68\n",
      "Couch                           61\n",
      "Sofa bed                        61\n",
      "Sink                            57\n",
      "Porch                           52\n",
      "Stairs                          45\n",
      "Television                      44\n",
      "Fireplace                       41\n",
      "Washing machine                 40\n",
      "Toilet                          37\n",
      "Oven                            36\n",
      "Mirror                          33\n",
      "Billiard table                  32\n",
      "Microwave oven                  30\n",
      "Refrigerator                    26\n",
      "Fountain                        24\n",
      "Gas stove                       23\n",
      "Coffeemaker                     21\n",
      "Bathtub                         18\n",
      "Wine rack                       17\n",
      "Jacuzzi                         16\n",
      "Ceiling fan                     11\n",
      "Tree house                      11\n",
      "Shower                           9\n",
      "Towel                            9\n",
      "Dishwasher                       3\n",
      "Name: ClassName, dtype: int64\n",
      "Total number of images: 859\n"
     ]
    },
    {
     "name": "stderr",
     "output_type": "stream",
     "text": [
      "859it [00:14, 58.69it/s]"
     ]
    },
    {
     "name": "stdout",
     "output_type": "stream",
     "text": [
      "Saving labels to: validation/validation_labels.json...\n",
      "CPU times: user 14.5 s, sys: 842 ms, total: 15.3 s\n",
      "Wall time: 16 s\n"
     ]
    },
    {
     "name": "stderr",
     "output_type": "stream",
     "text": [
      "\n"
     ]
    }
   ],
   "source": [
    "%%time\n",
    "valid_img_dicts = get_image_dicts(valid_path, \n",
    "                                  \"validation-annotations-bbox.csv\",\n",
    "                                  target_classes=subset_targets)"
   ]
  },
  {
   "cell_type": "code",
   "execution_count": 25,
   "metadata": {},
   "outputs": [
    {
     "data": {
      "text/plain": [
       "{'file_name': 'validation/5711198e8b0bad28.jpg',\n",
       " 'image_id': 0,\n",
       " 'height': 768,\n",
       " 'width': 1024,\n",
       " 'annotations': [{'bbox': [518.0, 424.0, 1022.0, 766.0],\n",
       "   'bbox_mode': <BoxMode.XYXY_ABS: 0>,\n",
       "   'category_id': 17},\n",
       "  {'bbox': [768.0, 646.0, 1024.0, 768.0],\n",
       "   'bbox_mode': <BoxMode.XYXY_ABS: 0>,\n",
       "   'category_id': 22}]}"
      ]
     },
     "execution_count": 25,
     "metadata": {},
     "output_type": "execute_result"
    }
   ],
   "source": [
    "valid_img_dicts[0]"
   ]
  },
  {
   "cell_type": "code",
   "execution_count": 26,
   "metadata": {},
   "outputs": [
    {
     "name": "stdout",
     "output_type": "stream",
     "text": [
      "Using test-annotations-bbox.csv for annotations...\n"
     ]
    },
    {
     "name": "stderr",
     "output_type": "stream",
     "text": [
      "6it [00:00, 58.70it/s]"
     ]
    },
    {
     "name": "stdout",
     "output_type": "stream",
     "text": [
      "On dataset: train\n",
      "Classes we're using:\n",
      " Swimming pool                  418\n",
      "Kitchen & dining room table    388\n",
      "Bed                            368\n",
      "Pillow                         335\n",
      "Countertop                     193\n",
      "Sofa bed                       165\n",
      "Porch                          155\n",
      "Stairs                         153\n",
      "Couch                          147\n",
      "Television                     145\n",
      "Sink                           135\n",
      "Refrigerator                   125\n",
      "Washing machine                123\n",
      "Mirror                         115\n",
      "Billiard table                  95\n",
      "Fountain                        82\n",
      "Oven                            79\n",
      "Microwave oven                  77\n",
      "Fireplace                       75\n",
      "Bathtub                         70\n",
      "Toilet                          66\n",
      "Coffeemaker                     64\n",
      "Gas stove                       60\n",
      "Wine rack                       48\n",
      "Ceiling fan                     42\n",
      "Jacuzzi                         37\n",
      "Shower                          32\n",
      "Towel                           31\n",
      "Tree house                      20\n",
      "Dishwasher                       3\n",
      "Name: ClassName, dtype: int64\n",
      "Total number of images: 2492\n"
     ]
    },
    {
     "name": "stderr",
     "output_type": "stream",
     "text": [
      "2492it [00:50, 49.24it/s]"
     ]
    },
    {
     "name": "stdout",
     "output_type": "stream",
     "text": [
      "Saving labels to: test/train_labels.json...\n",
      "CPU times: user 48.6 s, sys: 3.37 s, total: 52 s\n",
      "Wall time: 53.1 s\n"
     ]
    },
    {
     "name": "stderr",
     "output_type": "stream",
     "text": [
      "\n"
     ]
    }
   ],
   "source": [
    "%%time\n",
    "test_img_dicts = get_image_dicts(test_path, \n",
    "                                 \"test-annotations-bbox.csv\",\n",
    "                                 target_classes=subset_targets)"
   ]
  },
  {
   "cell_type": "code",
   "execution_count": 29,
   "metadata": {},
   "outputs": [
    {
     "name": "stdout",
     "output_type": "stream",
     "text": [
      "Using train-annotations-bbox.csv for annotations...\n"
     ]
    },
    {
     "name": "stderr",
     "output_type": "stream",
     "text": [
      "0it [00:00, ?it/s]"
     ]
    },
    {
     "name": "stdout",
     "output_type": "stream",
     "text": [
      "On dataset: train\n",
      "Classes we're using:\n",
      " Stairs                         5981\n",
      "Couch                          4259\n",
      "Swimming pool                  3881\n",
      "Porch                          3854\n",
      "Television                     3789\n",
      "Fountain                       3691\n",
      "Bed                            3563\n",
      "Pillow                         3508\n",
      "Countertop                     3113\n",
      "Kitchen & dining room table    2127\n",
      "Sink                           1648\n",
      "Mirror                         1572\n",
      "Sofa bed                       1501\n",
      "Toilet                         1099\n",
      "Billiard table                  912\n",
      "Fireplace                       711\n",
      "Washing machine                 655\n",
      "Oven                            637\n",
      "Refrigerator                    592\n",
      "Bathtub                         545\n",
      "Gas stove                       526\n",
      "Microwave oven                  485\n",
      "Ceiling fan                     478\n",
      "Towel                           338\n",
      "Coffeemaker                     323\n",
      "Wine rack                       254\n",
      "Shower                          235\n",
      "Tree house                      110\n",
      "Jacuzzi                         103\n",
      "Dishwasher                       92\n",
      "Name: ClassName, dtype: int64\n",
      "Total number of images: 34835\n"
     ]
    },
    {
     "name": "stderr",
     "output_type": "stream",
     "text": [
      "34835it [18:50, 30.81it/s]\n"
     ]
    },
    {
     "name": "stdout",
     "output_type": "stream",
     "text": [
      "Saving labels to: train/train_labels.json...\n",
      "CPU times: user 18min 15s, sys: 58.1 s, total: 19min 13s\n",
      "Wall time: 19min 31s\n"
     ]
    }
   ],
   "source": [
    "%%time\n",
    "train_img_dicts = get_image_dicts(train_path, \n",
    "                                  \"train-annotations-bbox.csv\",\n",
    "                                  target_classes=subset_targets)"
   ]
  },
  {
   "cell_type": "markdown",
   "metadata": {
    "colab_type": "text",
    "id": "Uy17e2oSxjA2"
   },
   "source": [
    "## Import premade labels"
   ]
  },
  {
   "cell_type": "code",
   "execution_count": 30,
   "metadata": {
    "colab": {
     "base_uri": "https://localhost:8080/",
     "height": 52
    },
    "colab_type": "code",
    "id": "mY542fo3o5MU",
    "outputId": "7d883a6d-c133-4e73-a0c2-04f94c9fe909"
   },
   "outputs": [
    {
     "name": "stdout",
     "output_type": "stream",
     "text": [
      "CPU times: user 367 ms, sys: 42.9 ms, total: 410 ms\n",
      "Wall time: 411 ms\n"
     ]
    }
   ],
   "source": [
    "%%time\n",
    "# These require .JSON files to be made in train/validation images folders\n",
    "val_img_dicts = load_json_labels(valid_path)\n",
    "train_img_dicts = load_json_labels(train_path)\n",
    "test_img_dicts = load_json_labels(test_path)"
   ]
  },
  {
   "cell_type": "code",
   "execution_count": 31,
   "metadata": {
    "colab": {
     "base_uri": "https://localhost:8080/",
     "height": 259
    },
    "colab_type": "code",
    "id": "ipPovHeiqSXV",
    "outputId": "06982ea7-055c-4570-dec8-531742d37c40"
   },
   "outputs": [
    {
     "data": {
      "text/plain": [
       "({'file_name': 'validation/5711198e8b0bad28.jpg',\n",
       "  'image_id': 0,\n",
       "  'height': 768,\n",
       "  'width': 1024,\n",
       "  'annotations': [{'bbox': [518.0, 424.0, 1022.0, 766.0],\n",
       "    'bbox_mode': <BoxMode.XYXY_ABS: 0>,\n",
       "    'category_id': 17},\n",
       "   {'bbox': [768.0, 646.0, 1024.0, 768.0],\n",
       "    'bbox_mode': <BoxMode.XYXY_ABS: 0>,\n",
       "    'category_id': 22}]},\n",
       " {'file_name': 'train/518dcbda354046bd.jpg',\n",
       "  'image_id': 1,\n",
       "  'height': 1024,\n",
       "  'width': 1024,\n",
       "  'annotations': [{'bbox': [640.0, 560.0, 827.0, 1022.0],\n",
       "    'bbox_mode': <BoxMode.XYXY_ABS: 0>,\n",
       "    'category_id': 1},\n",
       "   {'bbox': [222.0, 0.0, 827.0, 1022.0],\n",
       "    'bbox_mode': <BoxMode.XYXY_ABS: 0>,\n",
       "    'category_id': 14}]})"
      ]
     },
     "execution_count": 31,
     "metadata": {},
     "output_type": "execute_result"
    }
   ],
   "source": [
    "val_img_dicts[0], train_img_dicts[1]"
   ]
  },
  {
   "cell_type": "markdown",
   "metadata": {
    "colab_type": "text",
    "id": "b2bjrfb2LDeo"
   },
   "source": [
    "# Train on a custom dataset"
   ]
  },
  {
   "cell_type": "markdown",
   "metadata": {
    "colab_type": "text",
    "id": "gKhgPf7DyQHm"
   },
   "source": [
    "## plain_train_net.py \n",
    "\n",
    "I'm going to write out the plain_train_net.py script verbatim to see what it's doing.\n",
    "\n",
    "https://github.com/facebookresearch/detectron2/blob/master/tools/plain_train_net.py\n",
    "\n",
    "I'll leave notes and change it where I need to."
   ]
  },
  {
   "cell_type": "code",
   "execution_count": null,
   "metadata": {
    "colab": {},
    "colab_type": "code",
    "id": "KrnI50c2ZpsQ"
   },
   "outputs": [],
   "source": [
    "# Different models I'd like to try - https://github.com/facebookresearch/detectron2/blob/master/MODEL_ZOO.md\n",
    "models_to_try = {\n",
    "    \"R50-FPN-1x\": \"COCO-Detection/faster_rcnn_R_50_FPN_1x.yaml\",\n",
    "    \"R50-FPN-3x\": \"COCO-Detection/faster_rcnn_R_50_FPN_3x.yaml\",\n",
    "    \"R101-FPN-3x\": \"COCO-Detection/faster_rcnn_R_101_FPN_3x.yaml\",\n",
    "    \"X101-FPN-3x\": \"COCO-Detection/faster_rcnn_X_101_32x8d_FPN_3x.yaml\",\n",
    "    \"RN-R50-1x\": \"COCO-Detection/retinanet_R_50_FPN_1x.yaml\",\n",
    "    \"RN-R50-3x\": \"COCO-Detection/retinanet_R_50_FPN_3x.yaml\",\n",
    "    \"RN-R101-3x\": \"COCO-Detection/retinanet_R_101_FPN_3x.yaml\"\n",
    "}"
   ]
  },
  {
   "cell_type": "markdown",
   "metadata": {
    "colab_type": "text",
    "id": "HaK6NbD_HkAt"
   },
   "source": [
    "## Register dataset\n",
    "Before I can train a model I've got to register a dataset in Detectron2 style: https://detectron2.readthedocs.io/tutorials/datasets.html#register-a-dataset\n",
    "\n",
    "This will leverage my preprocessing functions.\n",
    "\n",
    "**Note:** Be sure to update the config for new datasets: https://detectron2.readthedocs.io/tutorials/datasets.html#update-the-config-for-new-datasets"
   ]
  },
  {
   "cell_type": "code",
   "execution_count": 33,
   "metadata": {
    "colab": {
     "base_uri": "https://localhost:8080/",
     "height": 69
    },
    "colab_type": "code",
    "id": "Ces49AiO0rga",
    "outputId": "aa83f62d-5084-4493-e09e-7e71474868d6"
   },
   "outputs": [
    {
     "data": {
      "text/plain": [
       "('train',\n",
       " 'validation',\n",
       " ['Toilet',\n",
       "  'Swimming pool',\n",
       "  'Bed',\n",
       "  'Billiard table',\n",
       "  'Sink',\n",
       "  'Fountain',\n",
       "  'Oven',\n",
       "  'Ceiling fan',\n",
       "  'Television',\n",
       "  'Microwave oven',\n",
       "  'Gas stove',\n",
       "  'Refrigerator',\n",
       "  'Kitchen & dining room table',\n",
       "  'Washing machine',\n",
       "  'Bathtub',\n",
       "  'Stairs',\n",
       "  'Fireplace',\n",
       "  'Pillow',\n",
       "  'Mirror',\n",
       "  'Shower',\n",
       "  'Couch',\n",
       "  'Countertop',\n",
       "  'Coffeemaker',\n",
       "  'Dishwasher',\n",
       "  'Sofa bed',\n",
       "  'Tree house',\n",
       "  'Towel',\n",
       "  'Porch',\n",
       "  'Wine rack',\n",
       "  'Jacuzzi'])"
      ]
     },
     "execution_count": 33,
     "metadata": {},
     "output_type": "execute_result"
    }
   ],
   "source": [
    "# Setup training and validation data paths\n",
    "train_path, valid_path, subset_targets"
   ]
  },
  {
   "cell_type": "code",
   "execution_count": 34,
   "metadata": {
    "colab": {},
    "colab_type": "code",
    "id": "Qxur706AKMwW"
   },
   "outputs": [],
   "source": [
    "from detectron2.data import DatasetCatalog, MetadataCatalog\n",
    "\n",
    "def register_datasets(train_path, valid_path=None, target_classes=None):\n",
    "  \"\"\"\n",
    "  Registers a Detectron2 style dataset from training paths.\n",
    "\n",
    "  Params\n",
    "  ------\n",
    "  train_path (str) : pathname to training data containing training images\n",
    "  valid_path (str) : pathname to validation data containing validation images\n",
    "  \"\"\"\n",
    "  # TODO - update to accept any kind of path, e.g. not only coffeemaker, maybe could take a dict as input?\n",
    "  # E.g. {\"training\": \"path/to/training\",\n",
    "  #          \"valid\": \"path/to/valid\"}\n",
    "  for d in [train_path, valid_path]:\n",
    "    dataset_name = d.split(\"/\")[-1]\n",
    "    print(\"Registering: {}\".format(dataset_name))\n",
    "    DatasetCatalog.register(dataset_name, lambda d=d: load_json_labels(d))\n",
    "    MetadataCatalog.get(dataset_name).set(thing_classes=target_classes)\n",
    "  return MetadataCatalog.get(dataset_name)"
   ]
  },
  {
   "cell_type": "code",
   "execution_count": 35,
   "metadata": {
    "colab": {
     "base_uri": "https://localhost:8080/",
     "height": 52
    },
    "colab_type": "code",
    "id": "yHrI-Ws8Mc81",
    "outputId": "273e855f-a141-45f3-de0e-569bfb7222ab"
   },
   "outputs": [
    {
     "name": "stdout",
     "output_type": "stream",
     "text": [
      "Registering: train\n",
      "Registering: validation\n"
     ]
    }
   ],
   "source": [
    "cmaker_bathtub_metadata = register_datasets(train_path=train_path,\n",
    "                                            valid_path=valid_path,\n",
    "                                            target_classes=subset_targets)"
   ]
  },
  {
   "cell_type": "code",
   "execution_count": null,
   "metadata": {
    "colab": {},
    "colab_type": "code",
    "id": "ZT0Jl0T1O9Jw"
   },
   "outputs": [],
   "source": [
    "# # Check registered dataset\n",
    "# DatasetCatalog._REGISTERED"
   ]
  },
  {
   "cell_type": "code",
   "execution_count": null,
   "metadata": {
    "colab": {},
    "colab_type": "code",
    "id": "FPHi9hpTFV03"
   },
   "outputs": [],
   "source": [
    "# # Remove a certain registered dataset if needed:\n",
    "# DatasetCatalog._REGISTERED.pop()"
   ]
  },
  {
   "cell_type": "markdown",
   "metadata": {
    "colab_type": "text",
    "id": "kDqCqaU8H5-w"
   },
   "source": [
    "## TODO - Visualize dataset\n",
    "\n",
    "Once you've got a dataset registered with Detectron2 it's a good idea to be able to visualize an image."
   ]
  },
  {
   "cell_type": "code",
   "execution_count": 36,
   "metadata": {
    "colab": {
     "base_uri": "https://localhost:8080/",
     "height": 138
    },
    "colab_type": "code",
    "id": "viQ7JRyoHnY6",
    "outputId": "80573a40-ce9d-4ec5-92f2-52e09c946354"
   },
   "outputs": [
    {
     "data": {
      "text/plain": [
       "{'file_name': 'validation/5711198e8b0bad28.jpg',\n",
       " 'image_id': 0,\n",
       " 'height': 768,\n",
       " 'width': 1024,\n",
       " 'annotations': [{'bbox': [518.0, 424.0, 1022.0, 766.0],\n",
       "   'bbox_mode': <BoxMode.XYXY_ABS: 0>,\n",
       "   'category_id': 17},\n",
       "  {'bbox': [768.0, 646.0, 1024.0, 768.0],\n",
       "   'bbox_mode': <BoxMode.XYXY_ABS: 0>,\n",
       "   'category_id': 22}]}"
      ]
     },
     "execution_count": 36,
     "metadata": {},
     "output_type": "execute_result"
    }
   ],
   "source": [
    "val_img_dicts[0]"
   ]
  },
  {
   "cell_type": "code",
   "execution_count": 41,
   "metadata": {
    "colab": {},
    "colab_type": "code",
    "id": "ZkZzUnAcqa2A"
   },
   "outputs": [],
   "source": [
    "def visualize_sample(data_dicts, metadata, n=1):\n",
    "  \"\"\"\n",
    "  Show n random samples from data_dicts, label with metadata.\n",
    "  \"\"\"\n",
    "  for d in random.sample(data_dicts, n):\n",
    "    print(d)\n",
    "    img = cv2.imread(d[\"file_name\"])\n",
    "    visualizer = Visualizer(img[:, :, ::-1], \n",
    "                            metadata=metadata, \n",
    "                            scale=0.5)\n",
    "    vis = visualizer.draw_dataset_dict(d)\n",
    "    cv2.imshow(\"image\", vis.get_image()[:, :, ::-1])"
   ]
  },
  {
   "cell_type": "code",
   "execution_count": 42,
   "metadata": {
    "colab": {
     "base_uri": "https://localhost:8080/",
     "height": 967
    },
    "colab_type": "code",
    "id": "YSd-bGm6qzs2",
    "outputId": "58549152-14fb-46bd-9adb-7c20b8930ca3"
   },
   "outputs": [
    {
     "name": "stdout",
     "output_type": "stream",
     "text": [
      "{'file_name': 'validation/97e7b0a09e39d453.jpg', 'image_id': 128, 'height': 683, 'width': 1024, 'annotations': [{'bbox': [127.0, 240.0, 362.0, 284.0], 'bbox_mode': <BoxMode.XYXY_ABS: 0>, 'category_id': 23}, {'bbox': [140.0, 277.0, 1024.0, 601.0], 'bbox_mode': <BoxMode.XYXY_ABS: 0>, 'category_id': 23}, {'bbox': [295.0, 154.0, 379.0, 189.0], 'bbox_mode': <BoxMode.XYXY_ABS: 0>, 'category_id': 23}]}\n",
      "{'file_name': 'validation/7b25926948b1a8bc.jpg', 'image_id': 496, 'height': 683, 'width': 1024, 'annotations': [{'bbox': [683.0, 499.0, 923.0, 641.0], 'bbox_mode': <BoxMode.XYXY_ABS: 0>, 'category_id': 17}, {'bbox': [154.0, 471.0, 520.0, 632.0], 'bbox_mode': <BoxMode.XYXY_ABS: 0>, 'category_id': 17}]}\n"
     ]
    }
   ],
   "source": [
    "visualize_sample(valid_img_dicts, cmaker_bathtub_metadata, n=2)"
   ]
  },
  {
   "cell_type": "markdown",
   "metadata": {
    "colab_type": "text",
    "id": "cf1rSuz3QdZ8"
   },
   "source": [
    "## Train\n",
    "\n",
    "The following code is original training code from the Detectron2 example notebook but I think we can make it better/suit our problem."
   ]
  },
  {
   "cell_type": "code",
   "execution_count": null,
   "metadata": {
    "colab": {
     "base_uri": "https://localhost:8080/",
     "height": 35
    },
    "colab_type": "code",
    "id": "F_Bd7ILEJkc1",
    "outputId": "212968b9-1bc7-40ea-dc66-5b861456100c"
   },
   "outputs": [
    {
     "data": {
      "text/plain": [
       "CfgNode({'TRAIN': ('my-training-data',), 'PROPOSAL_FILES_TRAIN': (), 'PRECOMPUTED_PROPOSAL_TOPK_TRAIN': 2000, 'TEST': (), 'PROPOSAL_FILES_TEST': (), 'PRECOMPUTED_PROPOSAL_TOPK_TEST': 1000})"
      ]
     },
     "execution_count": 44,
     "metadata": {
      "tags": []
     },
     "output_type": "execute_result"
    }
   ],
   "source": [
    "# # Example setup of default config\n",
    "# default_config = get_cfg()\n",
    "# default_config.DATASETS.TRAIN = (\"my-training-data\",)\n",
    "# default_config.DATASETS"
   ]
  },
  {
   "cell_type": "code",
   "execution_count": null,
   "metadata": {
    "colab": {
     "base_uri": "https://localhost:8080/",
     "height": 35
    },
    "colab_type": "code",
    "id": "FldONTtpX7D-",
    "outputId": "d03e72c6-dfde-4fb3-f40d-e38ba546427e"
   },
   "outputs": [
    {
     "data": {
      "text/plain": [
       "'https://dl.fbaipublicfiles.com/detectron2/COCO-Detection/faster_rcnn_R_50_FPN_1x/137257794/model_final_b275ba.pkl'"
      ]
     },
     "execution_count": 43,
     "metadata": {
      "tags": []
     },
     "output_type": "execute_result"
    }
   ],
   "source": [
    "# Example use case of model_zoo\n",
    "model_zoo.get_checkpoint_url(\"COCO-Detection/faster_rcnn_R_50_FPN_1x.yaml\")"
   ]
  },
  {
   "cell_type": "code",
   "execution_count": null,
   "metadata": {
    "colab": {},
    "colab_type": "code",
    "id": "VGRcwaM773Jo"
   },
   "outputs": [],
   "source": [
    "# Changed from original: Create evaluator for COCOEvaluator only \n",
    "# Since we are only using bounding boxes to begin with, our evaluator can be simple COCO style\n",
    "def get_evaluator(cfg, dataset_name, output_folder=None):\n",
    "  \"\"\"\n",
    "  Create a COCOEvaluator\n",
    "  \"\"\"\n",
    "  if output_folder is None:\n",
    "    output_folder = os.path.join(cfg.OUTPUT_DIR, \"inference\")\n",
    "  evaluator = COCOEvaluator(\n",
    "      dataset_name=dataset_name,\n",
    "      cfg=cfg,\n",
    "      distributed=False,\n",
    "      output_dir=output_folder\n",
    "  )\n",
    "  return evaluator"
   ]
  },
  {
   "cell_type": "code",
   "execution_count": null,
   "metadata": {
    "colab": {},
    "colab_type": "code",
    "id": "kujKs5gN9u2-"
   },
   "outputs": [],
   "source": [
    "# Create testing function\n",
    "def do_test(cfg, model):\n",
    "  results = OrderedDict()\n",
    "  for dataset_name in cfg.DATASETS.TEST:\n",
    "    data_loader = build_detection_test_loader(cfg, dataset_name)\n",
    "    # Create the evaluator\n",
    "    evaluator = get_evaluator(\n",
    "        cfg, \n",
    "        dataset_name,\n",
    "        output_folder=os.path.join(cfg.OUTPUT_DIR, \"inference\", dataset_name)\n",
    "    )\n",
    "    # Make inference on dataset\n",
    "    results_i = inference_on_dataset(model,\n",
    "                                     data_loader,\n",
    "                                     evaluator)\n",
    "    # Update results dictionary\n",
    "    results[dataset_name] = results_i\n",
    "\n",
    "    print(\"### Returning results_i...\")\n",
    "    #print(results_i)\n",
    "    #print(f\"### Average Precision: {results_i['AP']}\")\n",
    "    # Let's get some communication happening\n",
    "    if comm.is_main_process():\n",
    "      logger.info(\"Evaluation results for {} in csv format:\".format(dataset_name))\n",
    "      ## wandb.log()? TODO/NOTE: This may be something Weights & Biases can track\n",
    "      #print(\"### Calculating results...\")\n",
    "      print_csv_format(results_i)\n",
    "    \n",
    "    # Check to see length of results\n",
    "    if len(results) == 1:\n",
    "      results = list(results.values())[0]\n",
    "    #print(\"### Returning results...\")\n",
    "    #print(results)\n",
    "\n",
    "    # TODO : log results_i dict with different parameters\n",
    "    print(\"### Saving results to Weights & Biases...\")\n",
    "    wandb.log(results_i)\n",
    "\n",
    "    return results\n"
   ]
  },
  {
   "cell_type": "markdown",
   "metadata": {
    "colab_type": "text",
    "id": "5QOmcDNIBO3T"
   },
   "source": [
    "Source code for Checkpointer: https://detectron2.readthedocs.io/_modules/fvcore/common/checkpoint.html\n",
    "\n",
    "Maybe information from the Checkpointers can be saved to Weights & Biases? Or at least used to track in my own tracking."
   ]
  },
  {
   "cell_type": "code",
   "execution_count": null,
   "metadata": {
    "colab": {},
    "colab_type": "code",
    "id": "XM5ocNdR_2R3"
   },
   "outputs": [],
   "source": [
    "# Create training function\n",
    "def do_train(cfg, model, resume=False):\n",
    "  # Set model to training mode\n",
    "  model.train()\n",
    "  # Create optimizer from config file (returns torch.nn.optimizer.Optimizer)\n",
    "  optimizer = build_optimizer(cfg, model)\n",
    "  # Create scheduler for learning rate (returns torch.optim.lr._LR_scheduler)\n",
    "  scheduler = build_lr_scheduler(cfg, optimizer)\n",
    "  print(f\"Scheduler: {scheduler}\")\n",
    "\n",
    "  # Create checkpointer\n",
    "  checkpointer = DetectionCheckpointer(\n",
    "      model, save_dir=cfg.OUTPUT_DIR, optimizer=optimizer, scheduler=scheduler\n",
    "  )\n",
    "\n",
    "  # Create start iteration (refernces checkpointer) - https://detectron2.readthedocs.io/modules/checkpoint.html#detectron2.checkpoint.Checkpointer.resume_or_load\n",
    "  start_iter = (\n",
    "      # This can be 0\n",
    "      checkpointer.resume_or_load(cfg.MODEL.WEIGHTS, # Use predefined model weights (pretrained model)\n",
    "                                  resume=resume).get(\"iteration\", -1) + 1\n",
    "  )\n",
    "  # Set max number of iterations\n",
    "  max_iter = cfg.SOLVER.MAX_ITER\n",
    "\n",
    "  # Create periodiccheckpoint\n",
    "  periodic_checkpointer = PeriodicCheckpointer(checkpointer=checkpointer,\n",
    "                                               # How often to make checkpoints?\n",
    "                                               period=cfg.SOLVER.CHECKPOINT_PERIOD,\n",
    "                                               max_iter=max_iter)\n",
    "  \n",
    "  # Create writers (for saving checkpoints?)\n",
    "  writers = (\n",
    "      [\n",
    "       # Print out common metrics such as iteration time, ETA, memory, all losses, learning rate\n",
    "       CommonMetricPrinter(max_iter=max_iter),\n",
    "       # Write scalars to a JSON file such as loss values, time and more\n",
    "       JSONWriter(os.path.join(cfg.OUTPUT_DIR, \"metrics.json\")),\n",
    "       # Write all scalars such as loss values to a TensorBoard file for easy visualization\n",
    "       TensorboardXWriter(cfg.OUTPUT_DIR),\n",
    "      ]\n",
    "      if comm.is_main_process()\n",
    "      else []\n",
    "  )\n",
    "\n",
    "  ### Original note from script: ###\n",
    "  # compared to \"train_net.py\", we do not support accurate timing and precise BN\n",
    "  # here, because they are not trivial to implement\n",
    "\n",
    "  # Build a training data loader based off the training dataset name in the config\n",
    "  data_loader = build_detection_train_loader(cfg)\n",
    "\n",
    "  # Start logging\n",
    "  logger.info(\"Starting training from iteration {}\".format(start_iter))\n",
    "\n",
    "  # Store events\n",
    "  with EventStorage(start_iter) as storage:\n",
    "    # Loop through zipped data loader and iteration\n",
    "    for data, iteration in zip(data_loader, range(start_iter, max_iter)):\n",
    "      iteration = iteration + 1\n",
    "      storage.step() # update stroage with step - https://detectron2.readthedocs.io/modules/utils.html#detectron2.utils.events.EventStorage.step\n",
    "\n",
    "      # Create loss dictionary by trying to model data\n",
    "      loss_dict = model(data)\n",
    "      losses = sum(loss_dict.values())\n",
    "      # Are losses infinite? If so, something is wrong\n",
    "      assert torch.isfinite(losses).all(), loss_dict\n",
    "\n",
    "      # TODO - Not quite sure what's happening here\n",
    "      loss_dict_reduced = {k: v.item() for k, v in comm.reduce_dict(loss_dict).items()}\n",
    "      # Sum up losses\n",
    "      losses_reduced = sum(loss for loss in loss_dict_reduced.values())\n",
    "      \n",
    "      # # TODO: wandb.log()? log the losses\n",
    "      # wandb.log({\n",
    "      #     \"Total loss\": losses_reduced\n",
    "      # })\n",
    "\n",
    "      # Update storage\n",
    "      if comm.is_main_process():\n",
    "        # Store informate in storage - https://detectron2.readthedocs.io/modules/utils.html#detectron2.utils.events.EventStorage.put_scalars\n",
    "        storage.put_scalars(total_loss=losses_reduced,\n",
    "                            **loss_dict_reduced)\n",
    "      \n",
    "      # Start doing PyTorch things\n",
    "      optimizer.zero_grad()\n",
    "      losses.backward()\n",
    "      optimizer.step()\n",
    "      # Add learning rate to storage information\n",
    "      storage.put_scalar(\"lr\", optimizer.param_groups[0][\"lr\"], smoothing_hint=False)\n",
    "      # This is required for your learning rate to change!!!! (not having this meant my learning rate was staying at 0)\n",
    "      scheduler.step()\n",
    "\n",
    "      # Perform evaluation?\n",
    "      if (\n",
    "          cfg.TEST.EVAL_PERIOD > 0\n",
    "          and iteration % cfg.TEST.EVAL_PERIOD == 0\n",
    "          and iteration != max_iter\n",
    "      ):\n",
    "          do_test(cfg, model)\n",
    "          # TODO - compared to \"train_net.py\", the test results are not dumped to EventStorage\n",
    "          comm.synchronize()\n",
    "      \n",
    "      # Log different metrics with writers\n",
    "      if iteration - start_iter > 5 and (iteration % 20 == 0 or iteration == max_iter):\n",
    "        for writer in writers:\n",
    "          writer.write()\n",
    "      \n",
    "      # Update the periodic_checkpointer\n",
    "      periodic_checkpointer.step(iteration)"
   ]
  },
  {
   "cell_type": "code",
   "execution_count": null,
   "metadata": {
    "colab": {},
    "colab_type": "code",
    "id": "ePUueRP-MLTx"
   },
   "outputs": [],
   "source": [
    "# Create setup function\n",
    "def setup(args):\n",
    "  \"\"\"\n",
    "  Create configs and perform basic setups.\n",
    "  \"\"\"\n",
    "  cfg = get_cfg()\n",
    "  cfg.merge_from_file(args.config_file) # This will take some kind of model.yaml file\n",
    "  cfg.merge_from_list(args.opts)\n",
    "  cfg.freeze()\n",
    "  default_setup(\n",
    "      cfg, args\n",
    "  ) # this logs the config and arguments passed to the command line to the output file\n",
    "\n",
    "  # Load config YAML as dict\n",
    "  cfg_yaml = cfg.load_yaml_with_base(os.path.join(cfg.OUTPUT_DIR, \"config.yaml\"))\n",
    "\n",
    "  # default_config = get_cfg()\n",
    "  # default_config_loaded = default_config.load_yaml_with_base(\"output/config.yaml\")\n",
    "  # default_config_loaded\n",
    "\n",
    "  # TODO: turn config into YAML and save to weights & biases\n",
    "  # TODO: Init wandb and add configs\n",
    "  # Setup a new weights & biases run every time we run the setup() function\n",
    "  wandb.init(project=\"airbnb-object-detection\", \n",
    "             sync_tensorboard=True)\n",
    "  \n",
    "  #print(\"### Printing config_yaml file to go into Weights & Biases\")\n",
    "  #print(cfg_yaml)\n",
    "  wandb.config.update(cfg_yaml)\n",
    "\n",
    "  return cfg"
   ]
  },
  {
   "cell_type": "code",
   "execution_count": null,
   "metadata": {
    "colab": {},
    "colab_type": "code",
    "id": "Uj0bgT2uMueN"
   },
   "outputs": [],
   "source": [
    "# Create main function\n",
    "def main(args):\n",
    "  \n",
    "  # Create the config file\n",
    "  cfg = setup(args)\n",
    "\n",
    "  # Build the model\n",
    "  model = build_model(cfg)\n",
    "  \n",
    "  # Log what's going on\n",
    "  logger.info(\"Model:\\n{}\".format(model))\n",
    "\n",
    "  # TODO: Fix this (if it doesn't work)\n",
    "  #wandb.watch(model, log=\"all\")\n",
    "\n",
    "  # Only do evaluation if the args say so\n",
    "  if args.eval_only:\n",
    "    DetectionCheckpointer(model, save_dir=cfg.OUTPUT_DIR).resume_or_load(\n",
    "        cfg.MODEL.WEIGHTS, resume=args.resume\n",
    "    )\n",
    "    return do_test(cfg, model)\n",
    "\n",
    "  # Do distributed training? (depends on number of GPUs available)\n",
    "  distributed = comm.get_world_size() > 1\n",
    "  if distributed:\n",
    "    # Put the model on multiple devices if available\n",
    "    model = DistributedDataParallel(\n",
    "        model, \n",
    "        device_ids=[comm.get_local_rank()], \n",
    "        broadcast_buffers=False\n",
    "    )\n",
    "\n",
    "  # Train the model\n",
    "  do_train(cfg, model)\n",
    "  # TODO - May want to evaluate in a different step?\n",
    "  return do_test(cfg, model)"
   ]
  },
  {
   "cell_type": "markdown",
   "metadata": {
    "colab_type": "text",
    "id": "mBoioYvTLvqH"
   },
   "source": [
    "## TODO: Setup different experiments for `models_to_try`"
   ]
  },
  {
   "cell_type": "code",
   "execution_count": null,
   "metadata": {
    "colab": {
     "base_uri": "https://localhost:8080/",
     "height": 138
    },
    "colab_type": "code",
    "id": "jlJBGMmld_8P",
    "outputId": "57932132-e7e6-467d-8868-61f2557de7a4"
   },
   "outputs": [
    {
     "data": {
      "text/plain": [
       "{'R101-FPN-3x': 'COCO-Detection/faster_rcnn_R_101_FPN_3x.yaml',\n",
       " 'R50-FPN-1x': 'COCO-Detection/faster_rcnn_R_50_FPN_1x.yaml',\n",
       " 'R50-FPN-3x': 'COCO-Detection/faster_rcnn_R_50_FPN_3x.yaml',\n",
       " 'RN-R101-3x': 'COCO-Detection/retinanet_R_101_FPN_3x.yaml',\n",
       " 'RN-R50-1x': 'COCO-Detection/retinanet_R_50_FPN_1x.yaml',\n",
       " 'RN-R50-3x': 'COCO-Detection/retinanet_R_50_FPN_3x.yaml',\n",
       " 'X101-FPN-3x': 'COCO-Detection/faster_rcnn_X_101_32x8d_FPN_3x.yaml'}"
      ]
     },
     "execution_count": 51,
     "metadata": {
      "tags": []
     },
     "output_type": "execute_result"
    }
   ],
   "source": [
    "models_to_try"
   ]
  },
  {
   "cell_type": "code",
   "execution_count": null,
   "metadata": {
    "colab": {
     "base_uri": "https://localhost:8080/",
     "height": 35
    },
    "colab_type": "code",
    "id": "2jBmeP8OeJ6L",
    "outputId": "5ee6c12f-ff58-4861-9116-98ee471cda1d"
   },
   "outputs": [
    {
     "data": {
      "text/plain": [
       "'COCO-Detection/faster_rcnn_R_50_FPN_1x.yaml'"
      ]
     },
     "execution_count": 52,
     "metadata": {
      "tags": []
     },
     "output_type": "execute_result"
    }
   ],
   "source": [
    "models_to_try[\"R50-FPN-1x\"]"
   ]
  },
  {
   "cell_type": "code",
   "execution_count": null,
   "metadata": {
    "colab": {
     "base_uri": "https://localhost:8080/",
     "height": 35
    },
    "colab_type": "code",
    "id": "rjyWVEnleSnO",
    "outputId": "f705ffd7-1c8b-4cad-95bf-940635c726e8"
   },
   "outputs": [
    {
     "data": {
      "text/plain": [
       "'https://dl.fbaipublicfiles.com/detectron2/COCO-Detection/faster_rcnn_R_50_FPN_1x/137257794/model_final_b275ba.pkl'"
      ]
     },
     "execution_count": 53,
     "metadata": {
      "tags": []
     },
     "output_type": "execute_result"
    }
   ],
   "source": [
    "model_zoo.get_checkpoint_url('COCO-Detection/faster_rcnn_R_50_FPN_1x.yaml')"
   ]
  },
  {
   "cell_type": "code",
   "execution_count": null,
   "metadata": {
    "colab": {
     "base_uri": "https://localhost:8080/",
     "height": 35
    },
    "colab_type": "code",
    "id": "4a0Feq-6ePaz",
    "outputId": "2e28da6c-ea3c-4cf7-9bdd-49b30b44a569"
   },
   "outputs": [
    {
     "data": {
      "text/plain": [
       "'/usr/local/lib/python3.6/dist-packages/detectron2/model_zoo/configs/COCO-Detection/faster_rcnn_R_50_FPN_1x.yaml'"
      ]
     },
     "execution_count": 54,
     "metadata": {
      "tags": []
     },
     "output_type": "execute_result"
    }
   ],
   "source": [
    "model_zoo.get_config_file(\"COCO-Detection/faster_rcnn_R_50_FPN_1x.yaml\")"
   ]
  },
  {
   "cell_type": "markdown",
   "metadata": {
    "colab_type": "text",
    "id": "c4tzLJ-QxW-2"
   },
   "source": [
    "Let's use a MAX_ITER of ~30 whilst we're building a small model.\n",
    "\n",
    "We'll also change some defaults:\n",
    "* `SOLVER.IMS_PER_BATCH` = 16 -> 2 (lower for memory issues)\n",
    "* `DATALOADER.NUM_WORKERS` = 4 -> 2 (lower for memory issues)\n",
    "\n",
    "These lowering settings are based on the example Detectron2 tutorial notebook (which runs in Colab), we can update them later once we figure out what resources we're using.\n",
    "\n",
    "See this post for an example of resource use: https://lambdalabs.com/blog/weights-and-bias-gpu-cpu-utilization/"
   ]
  },
  {
   "cell_type": "code",
   "execution_count": null,
   "metadata": {
    "colab": {
     "base_uri": "https://localhost:8080/",
     "height": 55
    },
    "colab_type": "code",
    "id": "6C2jupOidZmO",
    "outputId": "04131c2a-f1dd-444c-8511-2927b98a0e1e"
   },
   "outputs": [
    {
     "data": {
      "text/plain": [
       "Namespace(config_file='/usr/local/lib/python3.6/dist-packages/detectron2/model_zoo/configs/COCO-Detection/faster_rcnn_R_50_FPN_3x.yaml', dist_url='tcp://127.0.0.1:49152', eval_only=False, machine_rank=0, num_gpus=1, num_machines=1, opts=['MODEL.WEIGHTS', 'https://dl.fbaipublicfiles.com/detectron2/COCO-Detection/faster_rcnn_R_50_FPN_3x/137849458/model_final_280758.pkl', 'DATASETS.TRAIN', \"('cmaker-bathtub-treehouse-train',)\", 'DATASETS.TEST', \"('cmaker-bathtub-treehouse-validation',)\", 'DATALOADER.NUM_WORKERS', '2', 'SOLVER.IMS_PER_BATCH', '2', 'SOLVER.BASE_LR', '0.00025', 'SOLVER.MAX_ITER', '3000', 'MODEL.ROI_HEADS.NUM_CLASSES', '3'], resume=False)"
      ]
     },
     "execution_count": 77,
     "metadata": {
      "tags": []
     },
     "output_type": "execute_result"
    }
   ],
   "source": [
    "# Setup arg parser\n",
    "parser = default_argument_parser() # default in Detectron2\n",
    "args = parser.parse_args(\"--config-file /usr/local/lib/python3.6/dist-packages/detectron2/model_zoo/configs/COCO-Detection/faster_rcnn_R_50_FPN_3x.yaml \\\n",
    "                          MODEL.WEIGHTS https://dl.fbaipublicfiles.com/detectron2/COCO-Detection/faster_rcnn_R_50_FPN_3x/137849458/model_final_280758.pkl \\\n",
    "                          DATASETS.TRAIN ('cmaker-bathtub-treehouse-train',) \\\n",
    "                          DATASETS.TEST ('cmaker-bathtub-treehouse-validation',) \\\n",
    "                          DATALOADER.NUM_WORKERS 2 \\\n",
    "                          SOLVER.IMS_PER_BATCH 2 \\\n",
    "                          SOLVER.BASE_LR 0.00025 \\\n",
    "                          SOLVER.MAX_ITER 3000 \\\n",
    "                          MODEL.ROI_HEADS.NUM_CLASSES 3\".split())\n",
    "# TODO: Add args to Weights & Biases\n",
    "args"
   ]
  },
  {
   "cell_type": "markdown",
   "metadata": {
    "colab_type": "text",
    "id": "FiAQDPnTCmz3"
   },
   "source": [
    "## Run custom training loop"
   ]
  },
  {
   "cell_type": "code",
   "execution_count": null,
   "metadata": {
    "colab": {
     "base_uri": "https://localhost:8080/",
     "height": 1000
    },
    "colab_type": "code",
    "id": "7PUh74wHd299",
    "outputId": "cb56042b-3ba6-4f34-d0af-d1f7082be85f"
   },
   "outputs": [
    {
     "name": "stdout",
     "output_type": "stream",
     "text": [
      "\u001b[32m[03/18 06:21:27 detectron2]: \u001b[0mRank of current process: 0. World size: 1\n",
      "\u001b[32m[03/18 06:21:27 detectron2]: \u001b[0mEnvironment info:\n",
      "------------------------  ---------------------------------------------------------------\n",
      "sys.platform              linux\n",
      "Python                    3.6.9 (default, Nov  7 2019, 10:44:02) [GCC 8.3.0]\n",
      "numpy                     1.18.1\n",
      "detectron2                0.1.1 @/usr/local/lib/python3.6/dist-packages/detectron2\n",
      "detectron2 compiler       GCC 7.3\n",
      "detectron2 CUDA compiler  10.0\n",
      "detectron2 arch flags     sm_35, sm_37, sm_50, sm_52, sm_60, sm_61, sm_70, sm_75\n",
      "DETECTRON2_ENV_MODULE     <not set>\n",
      "PyTorch                   1.4.0+cu100 @/usr/local/lib/python3.6/dist-packages/torch\n",
      "PyTorch debug build       False\n",
      "CUDA available            True\n",
      "GPU 0                     Tesla T4\n",
      "CUDA_HOME                 /usr/local/cuda\n",
      "NVCC                      Cuda compilation tools, release 10.0, V10.0.130\n",
      "Pillow                    7.0.0\n",
      "torchvision               0.5.0+cu100 @/usr/local/lib/python3.6/dist-packages/torchvision\n",
      "torchvision arch flags    sm_35, sm_50, sm_60, sm_70, sm_75\n",
      "cv2                       4.1.2\n",
      "------------------------  ---------------------------------------------------------------\n",
      "PyTorch built with:\n",
      "  - GCC 7.3\n",
      "  - Intel(R) Math Kernel Library Version 2019.0.4 Product Build 20190411 for Intel(R) 64 architecture applications\n",
      "  - Intel(R) MKL-DNN v0.21.1 (Git Hash 7d2fd500bc78936d1d648ca713b901012f470dbc)\n",
      "  - OpenMP 201511 (a.k.a. OpenMP 4.5)\n",
      "  - NNPACK is enabled\n",
      "  - CUDA Runtime 10.0\n",
      "  - NVCC architecture flags: -gencode;arch=compute_37,code=sm_37;-gencode;arch=compute_50,code=sm_50;-gencode;arch=compute_60,code=sm_60;-gencode;arch=compute_61,code=sm_61;-gencode;arch=compute_70,code=sm_70;-gencode;arch=compute_75,code=sm_75;-gencode;arch=compute_37,code=compute_37\n",
      "  - CuDNN 7.6.3\n",
      "  - Magma 2.5.1\n",
      "  - Build settings: BLAS=MKL, BUILD_NAMEDTENSOR=OFF, BUILD_TYPE=Release, CXX_FLAGS= -Wno-deprecated -fvisibility-inlines-hidden -fopenmp -DUSE_FBGEMM -DUSE_QNNPACK -DUSE_PYTORCH_QNNPACK -O2 -fPIC -Wno-narrowing -Wall -Wextra -Wno-missing-field-initializers -Wno-type-limits -Wno-array-bounds -Wno-unknown-pragmas -Wno-sign-compare -Wno-unused-parameter -Wno-unused-variable -Wno-unused-function -Wno-unused-result -Wno-strict-overflow -Wno-strict-aliasing -Wno-error=deprecated-declarations -Wno-stringop-overflow -Wno-error=pedantic -Wno-error=redundant-decls -Wno-error=old-style-cast -fdiagnostics-color=always -faligned-new -Wno-unused-but-set-variable -Wno-maybe-uninitialized -fno-math-errno -fno-trapping-math -Wno-stringop-overflow, DISABLE_NUMA=1, PERF_WITH_AVX=1, PERF_WITH_AVX2=1, PERF_WITH_AVX512=1, USE_CUDA=ON, USE_EXCEPTION_PTR=1, USE_GFLAGS=OFF, USE_GLOG=OFF, USE_MKL=ON, USE_MKLDNN=ON, USE_MPI=OFF, USE_NCCL=ON, USE_NNPACK=ON, USE_OPENMP=ON, USE_STATIC_DISPATCH=OFF, \n",
      "\n",
      "\u001b[32m[03/18 06:21:27 detectron2]: \u001b[0mCommand line arguments: Namespace(config_file='/usr/local/lib/python3.6/dist-packages/detectron2/model_zoo/configs/COCO-Detection/faster_rcnn_R_50_FPN_3x.yaml', dist_url='tcp://127.0.0.1:49152', eval_only=False, machine_rank=0, num_gpus=1, num_machines=1, opts=['MODEL.WEIGHTS', 'https://dl.fbaipublicfiles.com/detectron2/COCO-Detection/faster_rcnn_R_50_FPN_3x/137849458/model_final_280758.pkl', 'DATASETS.TRAIN', \"('cmaker-bathtub-treehouse-train',)\", 'DATASETS.TEST', \"('cmaker-bathtub-treehouse-validation',)\", 'DATALOADER.NUM_WORKERS', '2', 'SOLVER.IMS_PER_BATCH', '2', 'SOLVER.BASE_LR', '0.00025', 'SOLVER.MAX_ITER', '3000', 'MODEL.ROI_HEADS.NUM_CLASSES', '3'], resume=False)\n",
      "\u001b[32m[03/18 06:21:27 detectron2]: \u001b[0mContents of args.config_file=/usr/local/lib/python3.6/dist-packages/detectron2/model_zoo/configs/COCO-Detection/faster_rcnn_R_50_FPN_3x.yaml:\n",
      "_BASE_: \"../Base-RCNN-FPN.yaml\"\n",
      "MODEL:\n",
      "  WEIGHTS: \"detectron2://ImageNetPretrained/MSRA/R-50.pkl\"\n",
      "  MASK_ON: False\n",
      "  RESNETS:\n",
      "    DEPTH: 50\n",
      "SOLVER:\n",
      "  STEPS: (210000, 250000)\n",
      "  MAX_ITER: 270000\n",
      "\n",
      "\u001b[32m[03/18 06:21:27 detectron2]: \u001b[0mRunning with full config:\n",
      "CUDNN_BENCHMARK: False\n",
      "DATALOADER:\n",
      "  ASPECT_RATIO_GROUPING: True\n",
      "  FILTER_EMPTY_ANNOTATIONS: True\n",
      "  NUM_WORKERS: 2\n",
      "  REPEAT_THRESHOLD: 0.0\n",
      "  SAMPLER_TRAIN: TrainingSampler\n",
      "DATASETS:\n",
      "  PRECOMPUTED_PROPOSAL_TOPK_TEST: 1000\n",
      "  PRECOMPUTED_PROPOSAL_TOPK_TRAIN: 2000\n",
      "  PROPOSAL_FILES_TEST: ()\n",
      "  PROPOSAL_FILES_TRAIN: ()\n",
      "  TEST: ('cmaker-bathtub-treehouse-validation',)\n",
      "  TRAIN: ('cmaker-bathtub-treehouse-train',)\n",
      "GLOBAL:\n",
      "  HACK: 1.0\n",
      "INPUT:\n",
      "  CROP:\n",
      "    ENABLED: False\n",
      "    SIZE: [0.9, 0.9]\n",
      "    TYPE: relative_range\n",
      "  FORMAT: BGR\n",
      "  MASK_FORMAT: polygon\n",
      "  MAX_SIZE_TEST: 1333\n",
      "  MAX_SIZE_TRAIN: 1333\n",
      "  MIN_SIZE_TEST: 800\n",
      "  MIN_SIZE_TRAIN: (640, 672, 704, 736, 768, 800)\n",
      "  MIN_SIZE_TRAIN_SAMPLING: choice\n",
      "MODEL:\n",
      "  ANCHOR_GENERATOR:\n",
      "    ANGLES: [[-90, 0, 90]]\n",
      "    ASPECT_RATIOS: [[0.5, 1.0, 2.0]]\n",
      "    NAME: DefaultAnchorGenerator\n",
      "    OFFSET: 0.0\n",
      "    SIZES: [[32], [64], [128], [256], [512]]\n",
      "  BACKBONE:\n",
      "    FREEZE_AT: 2\n",
      "    NAME: build_resnet_fpn_backbone\n",
      "  DEVICE: cuda\n",
      "  FPN:\n",
      "    FUSE_TYPE: sum\n",
      "    IN_FEATURES: ['res2', 'res3', 'res4', 'res5']\n",
      "    NORM: \n",
      "    OUT_CHANNELS: 256\n",
      "  KEYPOINT_ON: False\n",
      "  LOAD_PROPOSALS: False\n",
      "  MASK_ON: False\n",
      "  META_ARCHITECTURE: GeneralizedRCNN\n",
      "  PANOPTIC_FPN:\n",
      "    COMBINE:\n",
      "      ENABLED: True\n",
      "      INSTANCES_CONFIDENCE_THRESH: 0.5\n",
      "      OVERLAP_THRESH: 0.5\n",
      "      STUFF_AREA_LIMIT: 4096\n",
      "    INSTANCE_LOSS_WEIGHT: 1.0\n",
      "  PIXEL_MEAN: [103.53, 116.28, 123.675]\n",
      "  PIXEL_STD: [1.0, 1.0, 1.0]\n",
      "  PROPOSAL_GENERATOR:\n",
      "    MIN_SIZE: 0\n",
      "    NAME: RPN\n",
      "  RESNETS:\n",
      "    DEFORM_MODULATED: False\n",
      "    DEFORM_NUM_GROUPS: 1\n",
      "    DEFORM_ON_PER_STAGE: [False, False, False, False]\n",
      "    DEPTH: 50\n",
      "    NORM: FrozenBN\n",
      "    NUM_GROUPS: 1\n",
      "    OUT_FEATURES: ['res2', 'res3', 'res4', 'res5']\n",
      "    RES2_OUT_CHANNELS: 256\n",
      "    RES5_DILATION: 1\n",
      "    STEM_OUT_CHANNELS: 64\n",
      "    STRIDE_IN_1X1: True\n",
      "    WIDTH_PER_GROUP: 64\n",
      "  RETINANET:\n",
      "    BBOX_REG_WEIGHTS: (1.0, 1.0, 1.0, 1.0)\n",
      "    FOCAL_LOSS_ALPHA: 0.25\n",
      "    FOCAL_LOSS_GAMMA: 2.0\n",
      "    IN_FEATURES: ['p3', 'p4', 'p5', 'p6', 'p7']\n",
      "    IOU_LABELS: [0, -1, 1]\n",
      "    IOU_THRESHOLDS: [0.4, 0.5]\n",
      "    NMS_THRESH_TEST: 0.5\n",
      "    NUM_CLASSES: 80\n",
      "    NUM_CONVS: 4\n",
      "    PRIOR_PROB: 0.01\n",
      "    SCORE_THRESH_TEST: 0.05\n",
      "    SMOOTH_L1_LOSS_BETA: 0.1\n",
      "    TOPK_CANDIDATES_TEST: 1000\n",
      "  ROI_BOX_CASCADE_HEAD:\n",
      "    BBOX_REG_WEIGHTS: ((10.0, 10.0, 5.0, 5.0), (20.0, 20.0, 10.0, 10.0), (30.0, 30.0, 15.0, 15.0))\n",
      "    IOUS: (0.5, 0.6, 0.7)\n",
      "  ROI_BOX_HEAD:\n",
      "    BBOX_REG_WEIGHTS: (10.0, 10.0, 5.0, 5.0)\n",
      "    CLS_AGNOSTIC_BBOX_REG: False\n",
      "    CONV_DIM: 256\n",
      "    FC_DIM: 1024\n",
      "    NAME: FastRCNNConvFCHead\n",
      "    NORM: \n",
      "    NUM_CONV: 0\n",
      "    NUM_FC: 2\n",
      "    POOLER_RESOLUTION: 7\n",
      "    POOLER_SAMPLING_RATIO: 0\n",
      "    POOLER_TYPE: ROIAlignV2\n",
      "    SMOOTH_L1_BETA: 0.0\n",
      "    TRAIN_ON_PRED_BOXES: False\n",
      "  ROI_HEADS:\n",
      "    BATCH_SIZE_PER_IMAGE: 512\n",
      "    IN_FEATURES: ['p2', 'p3', 'p4', 'p5']\n",
      "    IOU_LABELS: [0, 1]\n",
      "    IOU_THRESHOLDS: [0.5]\n",
      "    NAME: StandardROIHeads\n",
      "    NMS_THRESH_TEST: 0.5\n",
      "    NUM_CLASSES: 3\n",
      "    POSITIVE_FRACTION: 0.25\n",
      "    PROPOSAL_APPEND_GT: True\n",
      "    SCORE_THRESH_TEST: 0.05\n",
      "  ROI_KEYPOINT_HEAD:\n",
      "    CONV_DIMS: (512, 512, 512, 512, 512, 512, 512, 512)\n",
      "    LOSS_WEIGHT: 1.0\n",
      "    MIN_KEYPOINTS_PER_IMAGE: 1\n",
      "    NAME: KRCNNConvDeconvUpsampleHead\n",
      "    NORMALIZE_LOSS_BY_VISIBLE_KEYPOINTS: True\n",
      "    NUM_KEYPOINTS: 17\n",
      "    POOLER_RESOLUTION: 14\n",
      "    POOLER_SAMPLING_RATIO: 0\n",
      "    POOLER_TYPE: ROIAlignV2\n",
      "  ROI_MASK_HEAD:\n",
      "    CLS_AGNOSTIC_MASK: False\n",
      "    CONV_DIM: 256\n",
      "    NAME: MaskRCNNConvUpsampleHead\n",
      "    NORM: \n",
      "    NUM_CONV: 4\n",
      "    POOLER_RESOLUTION: 14\n",
      "    POOLER_SAMPLING_RATIO: 0\n",
      "    POOLER_TYPE: ROIAlignV2\n",
      "  RPN:\n",
      "    BATCH_SIZE_PER_IMAGE: 256\n",
      "    BBOX_REG_WEIGHTS: (1.0, 1.0, 1.0, 1.0)\n",
      "    BOUNDARY_THRESH: -1\n",
      "    HEAD_NAME: StandardRPNHead\n",
      "    IN_FEATURES: ['p2', 'p3', 'p4', 'p5', 'p6']\n",
      "    IOU_LABELS: [0, -1, 1]\n",
      "    IOU_THRESHOLDS: [0.3, 0.7]\n",
      "    LOSS_WEIGHT: 1.0\n",
      "    NMS_THRESH: 0.7\n",
      "    POSITIVE_FRACTION: 0.5\n",
      "    POST_NMS_TOPK_TEST: 1000\n",
      "    POST_NMS_TOPK_TRAIN: 1000\n",
      "    PRE_NMS_TOPK_TEST: 1000\n",
      "    PRE_NMS_TOPK_TRAIN: 2000\n",
      "    SMOOTH_L1_BETA: 0.0\n",
      "  SEM_SEG_HEAD:\n",
      "    COMMON_STRIDE: 4\n",
      "    CONVS_DIM: 128\n",
      "    IGNORE_VALUE: 255\n",
      "    IN_FEATURES: ['p2', 'p3', 'p4', 'p5']\n",
      "    LOSS_WEIGHT: 1.0\n",
      "    NAME: SemSegFPNHead\n",
      "    NORM: GN\n",
      "    NUM_CLASSES: 54\n",
      "  WEIGHTS: https://dl.fbaipublicfiles.com/detectron2/COCO-Detection/faster_rcnn_R_50_FPN_3x/137849458/model_final_280758.pkl\n",
      "OUTPUT_DIR: ./output\n",
      "SEED: -1\n",
      "SOLVER:\n",
      "  BASE_LR: 0.00025\n",
      "  BIAS_LR_FACTOR: 1.0\n",
      "  CHECKPOINT_PERIOD: 5000\n",
      "  GAMMA: 0.1\n",
      "  IMS_PER_BATCH: 2\n",
      "  LR_SCHEDULER_NAME: WarmupMultiStepLR\n",
      "  MAX_ITER: 3000\n",
      "  MOMENTUM: 0.9\n",
      "  STEPS: (210000, 250000)\n",
      "  WARMUP_FACTOR: 0.001\n",
      "  WARMUP_ITERS: 1000\n",
      "  WARMUP_METHOD: linear\n",
      "  WEIGHT_DECAY: 0.0001\n",
      "  WEIGHT_DECAY_BIAS: 0.0001\n",
      "  WEIGHT_DECAY_NORM: 0.0\n",
      "TEST:\n",
      "  AUG:\n",
      "    ENABLED: False\n",
      "    FLIP: True\n",
      "    MAX_SIZE: 4000\n",
      "    MIN_SIZES: (400, 500, 600, 700, 800, 900, 1000, 1100, 1200)\n",
      "  DETECTIONS_PER_IMAGE: 100\n",
      "  EVAL_PERIOD: 0\n",
      "  EXPECTED_RESULTS: []\n",
      "  KEYPOINT_OKS_SIGMAS: []\n",
      "  PRECISE_BN:\n",
      "    ENABLED: False\n",
      "    NUM_ITER: 200\n",
      "VERSION: 2\n",
      "VIS_PERIOD: 0\n",
      "\u001b[32m[03/18 06:21:27 detectron2]: \u001b[0mFull config saved to /content/output/config.yaml\n",
      "\u001b[32m[03/18 06:21:27 d2.utils.env]: \u001b[0mUsing a generated random seed 27589881\n"
     ]
    },
    {
     "data": {
      "text/html": [
       "\n",
       "                Logging results to <a href=\"https://wandb.com\" target=\"_blank\">Weights & Biases</a> <a href=\"https://docs.wandb.com/integrations/jupyter.html\" target=\"_blank\">(Documentation)</a>.<br/>\n",
       "                Project page: <a href=\"https://app.wandb.ai/mrdbourke/airbnb-object-detection\" target=\"_blank\">https://app.wandb.ai/mrdbourke/airbnb-object-detection</a><br/>\n",
       "                Run page: <a href=\"https://app.wandb.ai/mrdbourke/airbnb-object-detection/runs/3knk0w1h\" target=\"_blank\">https://app.wandb.ai/mrdbourke/airbnb-object-detection/runs/3knk0w1h</a><br/>\n",
       "            "
      ],
      "text/plain": [
       "<IPython.core.display.HTML object>"
      ]
     },
     "metadata": {
      "tags": []
     },
     "output_type": "display_data"
    },
    {
     "name": "stdout",
     "output_type": "stream",
     "text": [
      "\u001b[32m[03/18 06:21:28 detectron2]: \u001b[0mModel:\n",
      "GeneralizedRCNN(\n",
      "  (backbone): FPN(\n",
      "    (fpn_lateral2): Conv2d(256, 256, kernel_size=(1, 1), stride=(1, 1))\n",
      "    (fpn_output2): Conv2d(256, 256, kernel_size=(3, 3), stride=(1, 1), padding=(1, 1))\n",
      "    (fpn_lateral3): Conv2d(512, 256, kernel_size=(1, 1), stride=(1, 1))\n",
      "    (fpn_output3): Conv2d(256, 256, kernel_size=(3, 3), stride=(1, 1), padding=(1, 1))\n",
      "    (fpn_lateral4): Conv2d(1024, 256, kernel_size=(1, 1), stride=(1, 1))\n",
      "    (fpn_output4): Conv2d(256, 256, kernel_size=(3, 3), stride=(1, 1), padding=(1, 1))\n",
      "    (fpn_lateral5): Conv2d(2048, 256, kernel_size=(1, 1), stride=(1, 1))\n",
      "    (fpn_output5): Conv2d(256, 256, kernel_size=(3, 3), stride=(1, 1), padding=(1, 1))\n",
      "    (top_block): LastLevelMaxPool()\n",
      "    (bottom_up): ResNet(\n",
      "      (stem): BasicStem(\n",
      "        (conv1): Conv2d(\n",
      "          3, 64, kernel_size=(7, 7), stride=(2, 2), padding=(3, 3), bias=False\n",
      "          (norm): FrozenBatchNorm2d(num_features=64, eps=1e-05)\n",
      "        )\n",
      "      )\n",
      "      (res2): Sequential(\n",
      "        (0): BottleneckBlock(\n",
      "          (shortcut): Conv2d(\n",
      "            64, 256, kernel_size=(1, 1), stride=(1, 1), bias=False\n",
      "            (norm): FrozenBatchNorm2d(num_features=256, eps=1e-05)\n",
      "          )\n",
      "          (conv1): Conv2d(\n",
      "            64, 64, kernel_size=(1, 1), stride=(1, 1), bias=False\n",
      "            (norm): FrozenBatchNorm2d(num_features=64, eps=1e-05)\n",
      "          )\n",
      "          (conv2): Conv2d(\n",
      "            64, 64, kernel_size=(3, 3), stride=(1, 1), padding=(1, 1), bias=False\n",
      "            (norm): FrozenBatchNorm2d(num_features=64, eps=1e-05)\n",
      "          )\n",
      "          (conv3): Conv2d(\n",
      "            64, 256, kernel_size=(1, 1), stride=(1, 1), bias=False\n",
      "            (norm): FrozenBatchNorm2d(num_features=256, eps=1e-05)\n",
      "          )\n",
      "        )\n",
      "        (1): BottleneckBlock(\n",
      "          (conv1): Conv2d(\n",
      "            256, 64, kernel_size=(1, 1), stride=(1, 1), bias=False\n",
      "            (norm): FrozenBatchNorm2d(num_features=64, eps=1e-05)\n",
      "          )\n",
      "          (conv2): Conv2d(\n",
      "            64, 64, kernel_size=(3, 3), stride=(1, 1), padding=(1, 1), bias=False\n",
      "            (norm): FrozenBatchNorm2d(num_features=64, eps=1e-05)\n",
      "          )\n",
      "          (conv3): Conv2d(\n",
      "            64, 256, kernel_size=(1, 1), stride=(1, 1), bias=False\n",
      "            (norm): FrozenBatchNorm2d(num_features=256, eps=1e-05)\n",
      "          )\n",
      "        )\n",
      "        (2): BottleneckBlock(\n",
      "          (conv1): Conv2d(\n",
      "            256, 64, kernel_size=(1, 1), stride=(1, 1), bias=False\n",
      "            (norm): FrozenBatchNorm2d(num_features=64, eps=1e-05)\n",
      "          )\n",
      "          (conv2): Conv2d(\n",
      "            64, 64, kernel_size=(3, 3), stride=(1, 1), padding=(1, 1), bias=False\n",
      "            (norm): FrozenBatchNorm2d(num_features=64, eps=1e-05)\n",
      "          )\n",
      "          (conv3): Conv2d(\n",
      "            64, 256, kernel_size=(1, 1), stride=(1, 1), bias=False\n",
      "            (norm): FrozenBatchNorm2d(num_features=256, eps=1e-05)\n",
      "          )\n",
      "        )\n",
      "      )\n",
      "      (res3): Sequential(\n",
      "        (0): BottleneckBlock(\n",
      "          (shortcut): Conv2d(\n",
      "            256, 512, kernel_size=(1, 1), stride=(2, 2), bias=False\n",
      "            (norm): FrozenBatchNorm2d(num_features=512, eps=1e-05)\n",
      "          )\n",
      "          (conv1): Conv2d(\n",
      "            256, 128, kernel_size=(1, 1), stride=(2, 2), bias=False\n",
      "            (norm): FrozenBatchNorm2d(num_features=128, eps=1e-05)\n",
      "          )\n",
      "          (conv2): Conv2d(\n",
      "            128, 128, kernel_size=(3, 3), stride=(1, 1), padding=(1, 1), bias=False\n",
      "            (norm): FrozenBatchNorm2d(num_features=128, eps=1e-05)\n",
      "          )\n",
      "          (conv3): Conv2d(\n",
      "            128, 512, kernel_size=(1, 1), stride=(1, 1), bias=False\n",
      "            (norm): FrozenBatchNorm2d(num_features=512, eps=1e-05)\n",
      "          )\n",
      "        )\n",
      "        (1): BottleneckBlock(\n",
      "          (conv1): Conv2d(\n",
      "            512, 128, kernel_size=(1, 1), stride=(1, 1), bias=False\n",
      "            (norm): FrozenBatchNorm2d(num_features=128, eps=1e-05)\n",
      "          )\n",
      "          (conv2): Conv2d(\n",
      "            128, 128, kernel_size=(3, 3), stride=(1, 1), padding=(1, 1), bias=False\n",
      "            (norm): FrozenBatchNorm2d(num_features=128, eps=1e-05)\n",
      "          )\n",
      "          (conv3): Conv2d(\n",
      "            128, 512, kernel_size=(1, 1), stride=(1, 1), bias=False\n",
      "            (norm): FrozenBatchNorm2d(num_features=512, eps=1e-05)\n",
      "          )\n",
      "        )\n",
      "        (2): BottleneckBlock(\n",
      "          (conv1): Conv2d(\n",
      "            512, 128, kernel_size=(1, 1), stride=(1, 1), bias=False\n",
      "            (norm): FrozenBatchNorm2d(num_features=128, eps=1e-05)\n",
      "          )\n",
      "          (conv2): Conv2d(\n",
      "            128, 128, kernel_size=(3, 3), stride=(1, 1), padding=(1, 1), bias=False\n",
      "            (norm): FrozenBatchNorm2d(num_features=128, eps=1e-05)\n",
      "          )\n",
      "          (conv3): Conv2d(\n",
      "            128, 512, kernel_size=(1, 1), stride=(1, 1), bias=False\n",
      "            (norm): FrozenBatchNorm2d(num_features=512, eps=1e-05)\n",
      "          )\n",
      "        )\n",
      "        (3): BottleneckBlock(\n",
      "          (conv1): Conv2d(\n",
      "            512, 128, kernel_size=(1, 1), stride=(1, 1), bias=False\n",
      "            (norm): FrozenBatchNorm2d(num_features=128, eps=1e-05)\n",
      "          )\n",
      "          (conv2): Conv2d(\n",
      "            128, 128, kernel_size=(3, 3), stride=(1, 1), padding=(1, 1), bias=False\n",
      "            (norm): FrozenBatchNorm2d(num_features=128, eps=1e-05)\n",
      "          )\n",
      "          (conv3): Conv2d(\n",
      "            128, 512, kernel_size=(1, 1), stride=(1, 1), bias=False\n",
      "            (norm): FrozenBatchNorm2d(num_features=512, eps=1e-05)\n",
      "          )\n",
      "        )\n",
      "      )\n",
      "      (res4): Sequential(\n",
      "        (0): BottleneckBlock(\n",
      "          (shortcut): Conv2d(\n",
      "            512, 1024, kernel_size=(1, 1), stride=(2, 2), bias=False\n",
      "            (norm): FrozenBatchNorm2d(num_features=1024, eps=1e-05)\n",
      "          )\n",
      "          (conv1): Conv2d(\n",
      "            512, 256, kernel_size=(1, 1), stride=(2, 2), bias=False\n",
      "            (norm): FrozenBatchNorm2d(num_features=256, eps=1e-05)\n",
      "          )\n",
      "          (conv2): Conv2d(\n",
      "            256, 256, kernel_size=(3, 3), stride=(1, 1), padding=(1, 1), bias=False\n",
      "            (norm): FrozenBatchNorm2d(num_features=256, eps=1e-05)\n",
      "          )\n",
      "          (conv3): Conv2d(\n",
      "            256, 1024, kernel_size=(1, 1), stride=(1, 1), bias=False\n",
      "            (norm): FrozenBatchNorm2d(num_features=1024, eps=1e-05)\n",
      "          )\n",
      "        )\n",
      "        (1): BottleneckBlock(\n",
      "          (conv1): Conv2d(\n",
      "            1024, 256, kernel_size=(1, 1), stride=(1, 1), bias=False\n",
      "            (norm): FrozenBatchNorm2d(num_features=256, eps=1e-05)\n",
      "          )\n",
      "          (conv2): Conv2d(\n",
      "            256, 256, kernel_size=(3, 3), stride=(1, 1), padding=(1, 1), bias=False\n",
      "            (norm): FrozenBatchNorm2d(num_features=256, eps=1e-05)\n",
      "          )\n",
      "          (conv3): Conv2d(\n",
      "            256, 1024, kernel_size=(1, 1), stride=(1, 1), bias=False\n",
      "            (norm): FrozenBatchNorm2d(num_features=1024, eps=1e-05)\n",
      "          )\n",
      "        )\n",
      "        (2): BottleneckBlock(\n",
      "          (conv1): Conv2d(\n",
      "            1024, 256, kernel_size=(1, 1), stride=(1, 1), bias=False\n",
      "            (norm): FrozenBatchNorm2d(num_features=256, eps=1e-05)\n",
      "          )\n",
      "          (conv2): Conv2d(\n",
      "            256, 256, kernel_size=(3, 3), stride=(1, 1), padding=(1, 1), bias=False\n",
      "            (norm): FrozenBatchNorm2d(num_features=256, eps=1e-05)\n",
      "          )\n",
      "          (conv3): Conv2d(\n",
      "            256, 1024, kernel_size=(1, 1), stride=(1, 1), bias=False\n",
      "            (norm): FrozenBatchNorm2d(num_features=1024, eps=1e-05)\n",
      "          )\n",
      "        )\n",
      "        (3): BottleneckBlock(\n",
      "          (conv1): Conv2d(\n",
      "            1024, 256, kernel_size=(1, 1), stride=(1, 1), bias=False\n",
      "            (norm): FrozenBatchNorm2d(num_features=256, eps=1e-05)\n",
      "          )\n",
      "          (conv2): Conv2d(\n",
      "            256, 256, kernel_size=(3, 3), stride=(1, 1), padding=(1, 1), bias=False\n",
      "            (norm): FrozenBatchNorm2d(num_features=256, eps=1e-05)\n",
      "          )\n",
      "          (conv3): Conv2d(\n",
      "            256, 1024, kernel_size=(1, 1), stride=(1, 1), bias=False\n",
      "            (norm): FrozenBatchNorm2d(num_features=1024, eps=1e-05)\n",
      "          )\n",
      "        )\n",
      "        (4): BottleneckBlock(\n",
      "          (conv1): Conv2d(\n",
      "            1024, 256, kernel_size=(1, 1), stride=(1, 1), bias=False\n",
      "            (norm): FrozenBatchNorm2d(num_features=256, eps=1e-05)\n",
      "          )\n",
      "          (conv2): Conv2d(\n",
      "            256, 256, kernel_size=(3, 3), stride=(1, 1), padding=(1, 1), bias=False\n",
      "            (norm): FrozenBatchNorm2d(num_features=256, eps=1e-05)\n",
      "          )\n",
      "          (conv3): Conv2d(\n",
      "            256, 1024, kernel_size=(1, 1), stride=(1, 1), bias=False\n",
      "            (norm): FrozenBatchNorm2d(num_features=1024, eps=1e-05)\n",
      "          )\n",
      "        )\n",
      "        (5): BottleneckBlock(\n",
      "          (conv1): Conv2d(\n",
      "            1024, 256, kernel_size=(1, 1), stride=(1, 1), bias=False\n",
      "            (norm): FrozenBatchNorm2d(num_features=256, eps=1e-05)\n",
      "          )\n",
      "          (conv2): Conv2d(\n",
      "            256, 256, kernel_size=(3, 3), stride=(1, 1), padding=(1, 1), bias=False\n",
      "            (norm): FrozenBatchNorm2d(num_features=256, eps=1e-05)\n",
      "          )\n",
      "          (conv3): Conv2d(\n",
      "            256, 1024, kernel_size=(1, 1), stride=(1, 1), bias=False\n",
      "            (norm): FrozenBatchNorm2d(num_features=1024, eps=1e-05)\n",
      "          )\n",
      "        )\n",
      "      )\n",
      "      (res5): Sequential(\n",
      "        (0): BottleneckBlock(\n",
      "          (shortcut): Conv2d(\n",
      "            1024, 2048, kernel_size=(1, 1), stride=(2, 2), bias=False\n",
      "            (norm): FrozenBatchNorm2d(num_features=2048, eps=1e-05)\n",
      "          )\n",
      "          (conv1): Conv2d(\n",
      "            1024, 512, kernel_size=(1, 1), stride=(2, 2), bias=False\n",
      "            (norm): FrozenBatchNorm2d(num_features=512, eps=1e-05)\n",
      "          )\n",
      "          (conv2): Conv2d(\n",
      "            512, 512, kernel_size=(3, 3), stride=(1, 1), padding=(1, 1), bias=False\n",
      "            (norm): FrozenBatchNorm2d(num_features=512, eps=1e-05)\n",
      "          )\n",
      "          (conv3): Conv2d(\n",
      "            512, 2048, kernel_size=(1, 1), stride=(1, 1), bias=False\n",
      "            (norm): FrozenBatchNorm2d(num_features=2048, eps=1e-05)\n",
      "          )\n",
      "        )\n",
      "        (1): BottleneckBlock(\n",
      "          (conv1): Conv2d(\n",
      "            2048, 512, kernel_size=(1, 1), stride=(1, 1), bias=False\n",
      "            (norm): FrozenBatchNorm2d(num_features=512, eps=1e-05)\n",
      "          )\n",
      "          (conv2): Conv2d(\n",
      "            512, 512, kernel_size=(3, 3), stride=(1, 1), padding=(1, 1), bias=False\n",
      "            (norm): FrozenBatchNorm2d(num_features=512, eps=1e-05)\n",
      "          )\n",
      "          (conv3): Conv2d(\n",
      "            512, 2048, kernel_size=(1, 1), stride=(1, 1), bias=False\n",
      "            (norm): FrozenBatchNorm2d(num_features=2048, eps=1e-05)\n",
      "          )\n",
      "        )\n",
      "        (2): BottleneckBlock(\n",
      "          (conv1): Conv2d(\n",
      "            2048, 512, kernel_size=(1, 1), stride=(1, 1), bias=False\n",
      "            (norm): FrozenBatchNorm2d(num_features=512, eps=1e-05)\n",
      "          )\n",
      "          (conv2): Conv2d(\n",
      "            512, 512, kernel_size=(3, 3), stride=(1, 1), padding=(1, 1), bias=False\n",
      "            (norm): FrozenBatchNorm2d(num_features=512, eps=1e-05)\n",
      "          )\n",
      "          (conv3): Conv2d(\n",
      "            512, 2048, kernel_size=(1, 1), stride=(1, 1), bias=False\n",
      "            (norm): FrozenBatchNorm2d(num_features=2048, eps=1e-05)\n",
      "          )\n",
      "        )\n",
      "      )\n",
      "    )\n",
      "  )\n",
      "  (proposal_generator): RPN(\n",
      "    (anchor_generator): DefaultAnchorGenerator(\n",
      "      (cell_anchors): BufferList()\n",
      "    )\n",
      "    (rpn_head): StandardRPNHead(\n",
      "      (conv): Conv2d(256, 256, kernel_size=(3, 3), stride=(1, 1), padding=(1, 1))\n",
      "      (objectness_logits): Conv2d(256, 3, kernel_size=(1, 1), stride=(1, 1))\n",
      "      (anchor_deltas): Conv2d(256, 12, kernel_size=(1, 1), stride=(1, 1))\n",
      "    )\n",
      "  )\n",
      "  (roi_heads): StandardROIHeads(\n",
      "    (box_pooler): ROIPooler(\n",
      "      (level_poolers): ModuleList(\n",
      "        (0): ROIAlign(output_size=(7, 7), spatial_scale=0.25, sampling_ratio=0, aligned=True)\n",
      "        (1): ROIAlign(output_size=(7, 7), spatial_scale=0.125, sampling_ratio=0, aligned=True)\n",
      "        (2): ROIAlign(output_size=(7, 7), spatial_scale=0.0625, sampling_ratio=0, aligned=True)\n",
      "        (3): ROIAlign(output_size=(7, 7), spatial_scale=0.03125, sampling_ratio=0, aligned=True)\n",
      "      )\n",
      "    )\n",
      "    (box_head): FastRCNNConvFCHead(\n",
      "      (fc1): Linear(in_features=12544, out_features=1024, bias=True)\n",
      "      (fc2): Linear(in_features=1024, out_features=1024, bias=True)\n",
      "    )\n",
      "    (box_predictor): FastRCNNOutputLayers(\n",
      "      (cls_score): Linear(in_features=1024, out_features=4, bias=True)\n",
      "      (bbox_pred): Linear(in_features=1024, out_features=12, bias=True)\n",
      "    )\n",
      "  )\n",
      ")\n",
      "Scheduler: <detectron2.solver.lr_scheduler.WarmupMultiStepLR object at 0x7f4629735eb8>\n",
      "\u001b[32m[03/18 06:21:28 fvcore.common.checkpoint]: \u001b[0mLoading checkpoint from https://dl.fbaipublicfiles.com/detectron2/COCO-Detection/faster_rcnn_R_50_FPN_3x/137849458/model_final_280758.pkl\n",
      "\u001b[32m[03/18 06:21:28 fvcore.common.checkpoint]: \u001b[0mReading a file from 'Detectron2 Model Zoo'\n",
      "\u001b[5m\u001b[31mWARNING\u001b[0m \u001b[32m[03/18 06:21:28 fvcore.common.checkpoint]: \u001b[0m'roi_heads.box_predictor.cls_score.weight' has shape (81, 1024) in the checkpoint but (4, 1024) in the model! Skipped.\n",
      "\u001b[5m\u001b[31mWARNING\u001b[0m \u001b[32m[03/18 06:21:28 fvcore.common.checkpoint]: \u001b[0m'roi_heads.box_predictor.cls_score.bias' has shape (81,) in the checkpoint but (4,) in the model! Skipped.\n",
      "\u001b[5m\u001b[31mWARNING\u001b[0m \u001b[32m[03/18 06:21:28 fvcore.common.checkpoint]: \u001b[0m'roi_heads.box_predictor.bbox_pred.weight' has shape (320, 1024) in the checkpoint but (12, 1024) in the model! Skipped.\n",
      "\u001b[5m\u001b[31mWARNING\u001b[0m \u001b[32m[03/18 06:21:28 fvcore.common.checkpoint]: \u001b[0m'roi_heads.box_predictor.bbox_pred.bias' has shape (320,) in the checkpoint but (12,) in the model! Skipped.\n",
      "\u001b[32m[03/18 06:21:28 fvcore.common.checkpoint]: \u001b[0mSome model parameters are not in the checkpoint:\n",
      "  \u001b[34mroi_heads.box_predictor.cls_score.{weight, bias}\u001b[0m\n",
      "  \u001b[34mroi_heads.box_predictor.bbox_pred.{weight, bias}\u001b[0m\n",
      "\u001b[32m[03/18 06:21:28 d2.data.build]: \u001b[0mRemoved 0 images with no usable annotations. 873 images left.\n",
      "\u001b[32m[03/18 06:21:28 d2.data.common]: \u001b[0mSerializing 873 elements to byte tensors and concatenating them all ...\n",
      "\u001b[32m[03/18 06:21:28 d2.data.common]: \u001b[0mSerialized dataset takes 0.25 MiB\n",
      "\u001b[32m[03/18 06:21:28 d2.data.detection_utils]: \u001b[0mTransformGens used in training: [ResizeShortestEdge(short_edge_length=(640, 672, 704, 736, 768, 800), max_size=1333, sample_style='choice'), RandomFlip()]\n",
      "\u001b[32m[03/18 06:21:28 d2.data.build]: \u001b[0mUsing training sampler TrainingSampler\n",
      "\u001b[32m[03/18 06:21:28 detectron2]: \u001b[0mStarting training from iteration 0\n",
      "\u001b[32m[03/18 06:21:38 d2.utils.events]: \u001b[0m eta: N/A  iter: 20  total_loss: 1.588  loss_cls: 1.457  loss_box_reg: 0.115  loss_rpn_cls: 0.011  loss_rpn_loc: 0.012      lr: 0.000005  max_mem: 3365M\n",
      "\u001b[32m[03/18 06:21:46 d2.utils.events]: \u001b[0m eta: N/A  iter: 40  total_loss: 1.505  loss_cls: 1.352  loss_box_reg: 0.116  loss_rpn_cls: 0.012  loss_rpn_loc: 0.008      lr: 0.000010  max_mem: 3366M\n",
      "\u001b[32m[03/18 06:21:56 d2.utils.events]: \u001b[0m eta: N/A  iter: 60  total_loss: 1.197  loss_cls: 1.058  loss_box_reg: 0.093  loss_rpn_cls: 0.017  loss_rpn_loc: 0.017      lr: 0.000015  max_mem: 3366M\n",
      "\u001b[32m[03/18 06:22:05 d2.utils.events]: \u001b[0m eta: N/A  iter: 80  total_loss: 0.941  loss_cls: 0.787  loss_box_reg: 0.100  loss_rpn_cls: 0.017  loss_rpn_loc: 0.011      lr: 0.000020  max_mem: 3366M\n",
      "\u001b[32m[03/18 06:22:14 d2.utils.events]: \u001b[0m eta: N/A  iter: 100  total_loss: 0.662  loss_cls: 0.532  loss_box_reg: 0.109  loss_rpn_cls: 0.014  loss_rpn_loc: 0.008      lr: 0.000025  max_mem: 3366M\n",
      "\u001b[32m[03/18 06:22:24 d2.utils.events]: \u001b[0m eta: N/A  iter: 120  total_loss: 0.462  loss_cls: 0.332  loss_box_reg: 0.105  loss_rpn_cls: 0.006  loss_rpn_loc: 0.013      lr: 0.000030  max_mem: 3366M\n",
      "\u001b[32m[03/18 06:22:33 d2.utils.events]: \u001b[0m eta: N/A  iter: 140  total_loss: 0.384  loss_cls: 0.237  loss_box_reg: 0.097  loss_rpn_cls: 0.010  loss_rpn_loc: 0.022      lr: 0.000035  max_mem: 3366M\n",
      "\u001b[32m[03/18 06:22:42 d2.utils.events]: \u001b[0m eta: N/A  iter: 160  total_loss: 0.339  loss_cls: 0.181  loss_box_reg: 0.113  loss_rpn_cls: 0.012  loss_rpn_loc: 0.009      lr: 0.000040  max_mem: 3366M\n",
      "\u001b[32m[03/18 06:22:51 d2.utils.events]: \u001b[0m eta: N/A  iter: 180  total_loss: 0.312  loss_cls: 0.173  loss_box_reg: 0.116  loss_rpn_cls: 0.009  loss_rpn_loc: 0.008      lr: 0.000045  max_mem: 3366M\n",
      "\u001b[32m[03/18 06:23:01 d2.utils.events]: \u001b[0m eta: N/A  iter: 200  total_loss: 0.269  loss_cls: 0.139  loss_box_reg: 0.098  loss_rpn_cls: 0.009  loss_rpn_loc: 0.014      lr: 0.000050  max_mem: 3366M\n",
      "\u001b[32m[03/18 06:23:09 d2.utils.events]: \u001b[0m eta: N/A  iter: 220  total_loss: 0.264  loss_cls: 0.137  loss_box_reg: 0.097  loss_rpn_cls: 0.009  loss_rpn_loc: 0.011      lr: 0.000055  max_mem: 3366M\n",
      "\u001b[32m[03/18 06:23:19 d2.utils.events]: \u001b[0m eta: N/A  iter: 240  total_loss: 0.293  loss_cls: 0.132  loss_box_reg: 0.096  loss_rpn_cls: 0.005  loss_rpn_loc: 0.012      lr: 0.000060  max_mem: 3366M\n",
      "\u001b[32m[03/18 06:23:28 d2.utils.events]: \u001b[0m eta: N/A  iter: 260  total_loss: 0.278  loss_cls: 0.137  loss_box_reg: 0.101  loss_rpn_cls: 0.009  loss_rpn_loc: 0.014      lr: 0.000065  max_mem: 3366M\n",
      "\u001b[32m[03/18 06:23:37 d2.utils.events]: \u001b[0m eta: N/A  iter: 280  total_loss: 0.273  loss_cls: 0.132  loss_box_reg: 0.113  loss_rpn_cls: 0.005  loss_rpn_loc: 0.010      lr: 0.000070  max_mem: 3366M\n",
      "\u001b[32m[03/18 06:23:47 d2.utils.events]: \u001b[0m eta: N/A  iter: 300  total_loss: 0.296  loss_cls: 0.131  loss_box_reg: 0.101  loss_rpn_cls: 0.008  loss_rpn_loc: 0.024      lr: 0.000075  max_mem: 3366M\n",
      "\u001b[32m[03/18 06:23:56 d2.utils.events]: \u001b[0m eta: N/A  iter: 320  total_loss: 0.309  loss_cls: 0.153  loss_box_reg: 0.139  loss_rpn_cls: 0.007  loss_rpn_loc: 0.009      lr: 0.000080  max_mem: 3366M\n",
      "\u001b[32m[03/18 06:24:05 d2.utils.events]: \u001b[0m eta: N/A  iter: 340  total_loss: 0.271  loss_cls: 0.127  loss_box_reg: 0.117  loss_rpn_cls: 0.011  loss_rpn_loc: 0.010      lr: 0.000085  max_mem: 3366M\n",
      "\u001b[32m[03/18 06:24:14 d2.utils.events]: \u001b[0m eta: N/A  iter: 360  total_loss: 0.232  loss_cls: 0.108  loss_box_reg: 0.102  loss_rpn_cls: 0.005  loss_rpn_loc: 0.010      lr: 0.000090  max_mem: 3366M\n",
      "\u001b[32m[03/18 06:24:23 d2.utils.events]: \u001b[0m eta: N/A  iter: 380  total_loss: 0.254  loss_cls: 0.124  loss_box_reg: 0.117  loss_rpn_cls: 0.007  loss_rpn_loc: 0.011      lr: 0.000095  max_mem: 3366M\n",
      "\u001b[32m[03/18 06:24:33 d2.utils.events]: \u001b[0m eta: N/A  iter: 400  total_loss: 0.243  loss_cls: 0.100  loss_box_reg: 0.114  loss_rpn_cls: 0.004  loss_rpn_loc: 0.012      lr: 0.000100  max_mem: 3366M\n",
      "\u001b[32m[03/18 06:24:43 d2.utils.events]: \u001b[0m eta: N/A  iter: 420  total_loss: 0.250  loss_cls: 0.100  loss_box_reg: 0.104  loss_rpn_cls: 0.006  loss_rpn_loc: 0.016      lr: 0.000105  max_mem: 3366M\n",
      "\u001b[32m[03/18 06:24:52 d2.utils.events]: \u001b[0m eta: N/A  iter: 440  total_loss: 0.245  loss_cls: 0.115  loss_box_reg: 0.124  loss_rpn_cls: 0.006  loss_rpn_loc: 0.011      lr: 0.000110  max_mem: 3366M\n",
      "\u001b[32m[03/18 06:25:01 d2.utils.events]: \u001b[0m eta: N/A  iter: 460  total_loss: 0.237  loss_cls: 0.109  loss_box_reg: 0.113  loss_rpn_cls: 0.004  loss_rpn_loc: 0.008      lr: 0.000115  max_mem: 3366M\n",
      "\u001b[32m[03/18 06:25:11 d2.utils.events]: \u001b[0m eta: N/A  iter: 480  total_loss: 0.256  loss_cls: 0.097  loss_box_reg: 0.116  loss_rpn_cls: 0.003  loss_rpn_loc: 0.007      lr: 0.000120  max_mem: 3366M\n",
      "\u001b[32m[03/18 06:25:20 d2.utils.events]: \u001b[0m eta: N/A  iter: 500  total_loss: 0.231  loss_cls: 0.100  loss_box_reg: 0.092  loss_rpn_cls: 0.007  loss_rpn_loc: 0.008      lr: 0.000125  max_mem: 3366M\n",
      "\u001b[32m[03/18 06:25:29 d2.utils.events]: \u001b[0m eta: N/A  iter: 520  total_loss: 0.234  loss_cls: 0.105  loss_box_reg: 0.107  loss_rpn_cls: 0.004  loss_rpn_loc: 0.005      lr: 0.000130  max_mem: 3366M\n",
      "\u001b[32m[03/18 06:25:38 d2.utils.events]: \u001b[0m eta: N/A  iter: 540  total_loss: 0.238  loss_cls: 0.112  loss_box_reg: 0.118  loss_rpn_cls: 0.005  loss_rpn_loc: 0.008      lr: 0.000135  max_mem: 3366M\n",
      "\u001b[32m[03/18 06:25:47 d2.utils.events]: \u001b[0m eta: N/A  iter: 560  total_loss: 0.214  loss_cls: 0.086  loss_box_reg: 0.109  loss_rpn_cls: 0.004  loss_rpn_loc: 0.009      lr: 0.000140  max_mem: 3366M\n",
      "\u001b[32m[03/18 06:25:57 d2.utils.events]: \u001b[0m eta: N/A  iter: 580  total_loss: 0.234  loss_cls: 0.091  loss_box_reg: 0.115  loss_rpn_cls: 0.008  loss_rpn_loc: 0.015      lr: 0.000145  max_mem: 3366M\n",
      "\u001b[32m[03/18 06:26:07 d2.utils.events]: \u001b[0m eta: N/A  iter: 600  total_loss: 0.256  loss_cls: 0.096  loss_box_reg: 0.111  loss_rpn_cls: 0.002  loss_rpn_loc: 0.013      lr: 0.000150  max_mem: 3366M\n",
      "\u001b[32m[03/18 06:26:16 d2.utils.events]: \u001b[0m eta: N/A  iter: 620  total_loss: 0.198  loss_cls: 0.080  loss_box_reg: 0.100  loss_rpn_cls: 0.002  loss_rpn_loc: 0.011      lr: 0.000155  max_mem: 3366M\n",
      "\u001b[32m[03/18 06:26:26 d2.utils.events]: \u001b[0m eta: N/A  iter: 640  total_loss: 0.231  loss_cls: 0.098  loss_box_reg: 0.103  loss_rpn_cls: 0.007  loss_rpn_loc: 0.008      lr: 0.000160  max_mem: 3366M\n",
      "\u001b[32m[03/18 06:26:35 d2.utils.events]: \u001b[0m eta: N/A  iter: 660  total_loss: 0.225  loss_cls: 0.085  loss_box_reg: 0.113  loss_rpn_cls: 0.004  loss_rpn_loc: 0.006      lr: 0.000165  max_mem: 3366M\n",
      "\u001b[32m[03/18 06:26:44 d2.utils.events]: \u001b[0m eta: N/A  iter: 680  total_loss: 0.207  loss_cls: 0.079  loss_box_reg: 0.113  loss_rpn_cls: 0.004  loss_rpn_loc: 0.012      lr: 0.000170  max_mem: 3366M\n",
      "\u001b[32m[03/18 06:26:54 d2.utils.events]: \u001b[0m eta: N/A  iter: 700  total_loss: 0.196  loss_cls: 0.077  loss_box_reg: 0.112  loss_rpn_cls: 0.002  loss_rpn_loc: 0.006      lr: 0.000175  max_mem: 3366M\n",
      "\u001b[32m[03/18 06:27:03 d2.utils.events]: \u001b[0m eta: N/A  iter: 720  total_loss: 0.214  loss_cls: 0.078  loss_box_reg: 0.099  loss_rpn_cls: 0.008  loss_rpn_loc: 0.008      lr: 0.000180  max_mem: 3366M\n",
      "\u001b[32m[03/18 06:27:12 d2.utils.events]: \u001b[0m eta: N/A  iter: 740  total_loss: 0.206  loss_cls: 0.078  loss_box_reg: 0.092  loss_rpn_cls: 0.004  loss_rpn_loc: 0.015      lr: 0.000185  max_mem: 3366M\n",
      "\u001b[32m[03/18 06:27:22 d2.utils.events]: \u001b[0m eta: N/A  iter: 760  total_loss: 0.228  loss_cls: 0.082  loss_box_reg: 0.101  loss_rpn_cls: 0.006  loss_rpn_loc: 0.014      lr: 0.000190  max_mem: 3366M\n",
      "\u001b[32m[03/18 06:27:31 d2.utils.events]: \u001b[0m eta: N/A  iter: 780  total_loss: 0.207  loss_cls: 0.078  loss_box_reg: 0.111  loss_rpn_cls: 0.003  loss_rpn_loc: 0.008      lr: 0.000195  max_mem: 3366M\n",
      "\u001b[32m[03/18 06:27:41 d2.utils.events]: \u001b[0m eta: N/A  iter: 800  total_loss: 0.214  loss_cls: 0.079  loss_box_reg: 0.110  loss_rpn_cls: 0.005  loss_rpn_loc: 0.013      lr: 0.000200  max_mem: 3366M\n",
      "\u001b[32m[03/18 06:27:51 d2.utils.events]: \u001b[0m eta: N/A  iter: 820  total_loss: 0.205  loss_cls: 0.068  loss_box_reg: 0.108  loss_rpn_cls: 0.003  loss_rpn_loc: 0.014      lr: 0.000205  max_mem: 3366M\n",
      "\u001b[32m[03/18 06:28:00 d2.utils.events]: \u001b[0m eta: N/A  iter: 840  total_loss: 0.205  loss_cls: 0.079  loss_box_reg: 0.119  loss_rpn_cls: 0.002  loss_rpn_loc: 0.010      lr: 0.000210  max_mem: 3366M\n",
      "\u001b[32m[03/18 06:28:09 d2.utils.events]: \u001b[0m eta: N/A  iter: 860  total_loss: 0.216  loss_cls: 0.086  loss_box_reg: 0.118  loss_rpn_cls: 0.005  loss_rpn_loc: 0.009      lr: 0.000215  max_mem: 3366M\n",
      "\u001b[32m[03/18 06:28:18 d2.utils.events]: \u001b[0m eta: N/A  iter: 880  total_loss: 0.205  loss_cls: 0.061  loss_box_reg: 0.116  loss_rpn_cls: 0.003  loss_rpn_loc: 0.011      lr: 0.000220  max_mem: 3366M\n",
      "\u001b[32m[03/18 06:28:28 d2.utils.events]: \u001b[0m eta: N/A  iter: 900  total_loss: 0.205  loss_cls: 0.067  loss_box_reg: 0.113  loss_rpn_cls: 0.004  loss_rpn_loc: 0.018      lr: 0.000225  max_mem: 3366M\n",
      "\u001b[32m[03/18 06:28:38 d2.utils.events]: \u001b[0m eta: N/A  iter: 920  total_loss: 0.206  loss_cls: 0.076  loss_box_reg: 0.096  loss_rpn_cls: 0.007  loss_rpn_loc: 0.009      lr: 0.000230  max_mem: 3366M\n",
      "\u001b[32m[03/18 06:28:47 d2.utils.events]: \u001b[0m eta: N/A  iter: 940  total_loss: 0.188  loss_cls: 0.065  loss_box_reg: 0.095  loss_rpn_cls: 0.003  loss_rpn_loc: 0.014      lr: 0.000235  max_mem: 3366M\n",
      "\u001b[32m[03/18 06:28:57 d2.utils.events]: \u001b[0m eta: N/A  iter: 960  total_loss: 0.183  loss_cls: 0.062  loss_box_reg: 0.086  loss_rpn_cls: 0.004  loss_rpn_loc: 0.012      lr: 0.000240  max_mem: 3366M\n",
      "\u001b[32m[03/18 06:29:06 d2.utils.events]: \u001b[0m eta: N/A  iter: 980  total_loss: 0.174  loss_cls: 0.058  loss_box_reg: 0.098  loss_rpn_cls: 0.002  loss_rpn_loc: 0.007      lr: 0.000245  max_mem: 3366M\n",
      "\u001b[32m[03/18 06:29:16 d2.utils.events]: \u001b[0m eta: N/A  iter: 1000  total_loss: 0.167  loss_cls: 0.053  loss_box_reg: 0.098  loss_rpn_cls: 0.001  loss_rpn_loc: 0.013      lr: 0.000250  max_mem: 3366M\n",
      "\u001b[32m[03/18 06:29:26 d2.utils.events]: \u001b[0m eta: N/A  iter: 1020  total_loss: 0.148  loss_cls: 0.053  loss_box_reg: 0.072  loss_rpn_cls: 0.003  loss_rpn_loc: 0.014      lr: 0.000250  max_mem: 3366M\n",
      "\u001b[32m[03/18 06:29:35 d2.utils.events]: \u001b[0m eta: N/A  iter: 1040  total_loss: 0.206  loss_cls: 0.073  loss_box_reg: 0.102  loss_rpn_cls: 0.003  loss_rpn_loc: 0.013      lr: 0.000250  max_mem: 3366M\n",
      "\u001b[32m[03/18 06:29:45 d2.utils.events]: \u001b[0m eta: N/A  iter: 1060  total_loss: 0.155  loss_cls: 0.055  loss_box_reg: 0.086  loss_rpn_cls: 0.004  loss_rpn_loc: 0.012      lr: 0.000250  max_mem: 3366M\n",
      "\u001b[32m[03/18 06:29:55 d2.utils.events]: \u001b[0m eta: N/A  iter: 1080  total_loss: 0.162  loss_cls: 0.057  loss_box_reg: 0.082  loss_rpn_cls: 0.003  loss_rpn_loc: 0.008      lr: 0.000250  max_mem: 3366M\n",
      "\u001b[32m[03/18 06:30:04 d2.utils.events]: \u001b[0m eta: N/A  iter: 1100  total_loss: 0.157  loss_cls: 0.047  loss_box_reg: 0.087  loss_rpn_cls: 0.003  loss_rpn_loc: 0.012      lr: 0.000250  max_mem: 3366M\n",
      "\u001b[32m[03/18 06:30:14 d2.utils.events]: \u001b[0m eta: N/A  iter: 1120  total_loss: 0.176  loss_cls: 0.063  loss_box_reg: 0.076  loss_rpn_cls: 0.002  loss_rpn_loc: 0.015      lr: 0.000250  max_mem: 3367M\n",
      "\u001b[32m[03/18 06:30:23 d2.utils.events]: \u001b[0m eta: N/A  iter: 1140  total_loss: 0.163  loss_cls: 0.052  loss_box_reg: 0.090  loss_rpn_cls: 0.002  loss_rpn_loc: 0.008      lr: 0.000250  max_mem: 3367M\n",
      "\u001b[32m[03/18 06:30:33 d2.utils.events]: \u001b[0m eta: N/A  iter: 1160  total_loss: 0.168  loss_cls: 0.057  loss_box_reg: 0.085  loss_rpn_cls: 0.001  loss_rpn_loc: 0.014      lr: 0.000250  max_mem: 3367M\n",
      "\u001b[32m[03/18 06:30:43 d2.utils.events]: \u001b[0m eta: N/A  iter: 1180  total_loss: 0.165  loss_cls: 0.061  loss_box_reg: 0.072  loss_rpn_cls: 0.003  loss_rpn_loc: 0.013      lr: 0.000250  max_mem: 3367M\n",
      "\u001b[32m[03/18 06:30:52 d2.utils.events]: \u001b[0m eta: N/A  iter: 1200  total_loss: 0.157  loss_cls: 0.054  loss_box_reg: 0.077  loss_rpn_cls: 0.004  loss_rpn_loc: 0.012      lr: 0.000250  max_mem: 3367M\n",
      "\u001b[32m[03/18 06:31:01 d2.utils.events]: \u001b[0m eta: N/A  iter: 1220  total_loss: 0.174  loss_cls: 0.063  loss_box_reg: 0.088  loss_rpn_cls: 0.002  loss_rpn_loc: 0.010      lr: 0.000250  max_mem: 3367M\n",
      "\u001b[32m[03/18 06:31:11 d2.utils.events]: \u001b[0m eta: N/A  iter: 1240  total_loss: 0.160  loss_cls: 0.051  loss_box_reg: 0.076  loss_rpn_cls: 0.006  loss_rpn_loc: 0.012      lr: 0.000250  max_mem: 3367M\n",
      "\u001b[32m[03/18 06:31:21 d2.utils.events]: \u001b[0m eta: N/A  iter: 1260  total_loss: 0.151  loss_cls: 0.061  loss_box_reg: 0.076  loss_rpn_cls: 0.001  loss_rpn_loc: 0.008      lr: 0.000250  max_mem: 3367M\n",
      "\u001b[32m[03/18 06:31:30 d2.utils.events]: \u001b[0m eta: N/A  iter: 1280  total_loss: 0.126  loss_cls: 0.050  loss_box_reg: 0.063  loss_rpn_cls: 0.001  loss_rpn_loc: 0.009      lr: 0.000250  max_mem: 3367M\n",
      "\u001b[32m[03/18 06:31:39 d2.utils.events]: \u001b[0m eta: N/A  iter: 1300  total_loss: 0.141  loss_cls: 0.047  loss_box_reg: 0.071  loss_rpn_cls: 0.006  loss_rpn_loc: 0.011      lr: 0.000250  max_mem: 3367M\n",
      "\u001b[32m[03/18 06:31:49 d2.utils.events]: \u001b[0m eta: N/A  iter: 1320  total_loss: 0.121  loss_cls: 0.040  loss_box_reg: 0.059  loss_rpn_cls: 0.002  loss_rpn_loc: 0.009      lr: 0.000250  max_mem: 3367M\n",
      "\u001b[32m[03/18 06:31:59 d2.utils.events]: \u001b[0m eta: N/A  iter: 1340  total_loss: 0.142  loss_cls: 0.055  loss_box_reg: 0.075  loss_rpn_cls: 0.003  loss_rpn_loc: 0.008      lr: 0.000250  max_mem: 3367M\n",
      "\u001b[32m[03/18 06:32:08 d2.utils.events]: \u001b[0m eta: N/A  iter: 1360  total_loss: 0.157  loss_cls: 0.059  loss_box_reg: 0.082  loss_rpn_cls: 0.002  loss_rpn_loc: 0.010      lr: 0.000250  max_mem: 3367M\n",
      "\u001b[32m[03/18 06:32:18 d2.utils.events]: \u001b[0m eta: N/A  iter: 1380  total_loss: 0.146  loss_cls: 0.047  loss_box_reg: 0.070  loss_rpn_cls: 0.004  loss_rpn_loc: 0.014      lr: 0.000250  max_mem: 3367M\n",
      "\u001b[32m[03/18 06:32:28 d2.utils.events]: \u001b[0m eta: N/A  iter: 1400  total_loss: 0.136  loss_cls: 0.051  loss_box_reg: 0.069  loss_rpn_cls: 0.002  loss_rpn_loc: 0.010      lr: 0.000250  max_mem: 3367M\n",
      "\u001b[32m[03/18 06:32:37 d2.utils.events]: \u001b[0m eta: N/A  iter: 1420  total_loss: 0.142  loss_cls: 0.060  loss_box_reg: 0.071  loss_rpn_cls: 0.002  loss_rpn_loc: 0.012      lr: 0.000250  max_mem: 3367M\n",
      "\u001b[32m[03/18 06:32:47 d2.utils.events]: \u001b[0m eta: N/A  iter: 1440  total_loss: 0.136  loss_cls: 0.048  loss_box_reg: 0.066  loss_rpn_cls: 0.002  loss_rpn_loc: 0.012      lr: 0.000250  max_mem: 3367M\n",
      "\u001b[32m[03/18 06:32:57 d2.utils.events]: \u001b[0m eta: N/A  iter: 1460  total_loss: 0.135  loss_cls: 0.041  loss_box_reg: 0.065  loss_rpn_cls: 0.001  loss_rpn_loc: 0.017      lr: 0.000250  max_mem: 3367M\n",
      "\u001b[32m[03/18 06:33:06 d2.utils.events]: \u001b[0m eta: N/A  iter: 1480  total_loss: 0.148  loss_cls: 0.056  loss_box_reg: 0.065  loss_rpn_cls: 0.002  loss_rpn_loc: 0.017      lr: 0.000250  max_mem: 3367M\n",
      "\u001b[32m[03/18 06:33:16 d2.utils.events]: \u001b[0m eta: N/A  iter: 1500  total_loss: 0.124  loss_cls: 0.039  loss_box_reg: 0.061  loss_rpn_cls: 0.003  loss_rpn_loc: 0.009      lr: 0.000250  max_mem: 3367M\n",
      "\u001b[32m[03/18 06:33:25 d2.utils.events]: \u001b[0m eta: N/A  iter: 1520  total_loss: 0.127  loss_cls: 0.047  loss_box_reg: 0.068  loss_rpn_cls: 0.001  loss_rpn_loc: 0.007      lr: 0.000250  max_mem: 3367M\n",
      "\u001b[32m[03/18 06:33:34 d2.utils.events]: \u001b[0m eta: N/A  iter: 1540  total_loss: 0.131  loss_cls: 0.046  loss_box_reg: 0.065  loss_rpn_cls: 0.003  loss_rpn_loc: 0.008      lr: 0.000250  max_mem: 3367M\n",
      "\u001b[32m[03/18 06:33:43 d2.utils.events]: \u001b[0m eta: N/A  iter: 1560  total_loss: 0.122  loss_cls: 0.046  loss_box_reg: 0.053  loss_rpn_cls: 0.001  loss_rpn_loc: 0.012      lr: 0.000250  max_mem: 3367M\n",
      "\u001b[32m[03/18 06:33:53 d2.utils.events]: \u001b[0m eta: N/A  iter: 1580  total_loss: 0.130  loss_cls: 0.047  loss_box_reg: 0.061  loss_rpn_cls: 0.001  loss_rpn_loc: 0.011      lr: 0.000250  max_mem: 3367M\n",
      "\u001b[32m[03/18 06:34:02 d2.utils.events]: \u001b[0m eta: N/A  iter: 1600  total_loss: 0.134  loss_cls: 0.045  loss_box_reg: 0.063  loss_rpn_cls: 0.001  loss_rpn_loc: 0.011      lr: 0.000250  max_mem: 3367M\n",
      "\u001b[32m[03/18 06:34:12 d2.utils.events]: \u001b[0m eta: N/A  iter: 1620  total_loss: 0.130  loss_cls: 0.044  loss_box_reg: 0.059  loss_rpn_cls: 0.001  loss_rpn_loc: 0.011      lr: 0.000250  max_mem: 3367M\n",
      "\u001b[32m[03/18 06:34:21 d2.utils.events]: \u001b[0m eta: N/A  iter: 1640  total_loss: 0.121  loss_cls: 0.042  loss_box_reg: 0.060  loss_rpn_cls: 0.002  loss_rpn_loc: 0.012      lr: 0.000250  max_mem: 3367M\n",
      "\u001b[32m[03/18 06:34:31 d2.utils.events]: \u001b[0m eta: N/A  iter: 1660  total_loss: 0.129  loss_cls: 0.042  loss_box_reg: 0.065  loss_rpn_cls: 0.001  loss_rpn_loc: 0.008      lr: 0.000250  max_mem: 3367M\n",
      "\u001b[32m[03/18 06:34:40 d2.utils.events]: \u001b[0m eta: N/A  iter: 1680  total_loss: 0.104  loss_cls: 0.038  loss_box_reg: 0.050  loss_rpn_cls: 0.000  loss_rpn_loc: 0.008      lr: 0.000250  max_mem: 3367M\n",
      "\u001b[32m[03/18 06:34:50 d2.utils.events]: \u001b[0m eta: N/A  iter: 1700  total_loss: 0.127  loss_cls: 0.048  loss_box_reg: 0.065  loss_rpn_cls: 0.001  loss_rpn_loc: 0.007      lr: 0.000250  max_mem: 3367M\n",
      "\u001b[32m[03/18 06:34:59 d2.utils.events]: \u001b[0m eta: N/A  iter: 1720  total_loss: 0.127  loss_cls: 0.043  loss_box_reg: 0.057  loss_rpn_cls: 0.003  loss_rpn_loc: 0.012      lr: 0.000250  max_mem: 3367M\n",
      "\u001b[32m[03/18 06:35:09 d2.utils.events]: \u001b[0m eta: N/A  iter: 1740  total_loss: 0.118  loss_cls: 0.042  loss_box_reg: 0.063  loss_rpn_cls: 0.001  loss_rpn_loc: 0.009      lr: 0.000250  max_mem: 3367M\n",
      "\u001b[32m[03/18 06:35:18 d2.utils.events]: \u001b[0m eta: N/A  iter: 1760  total_loss: 0.105  loss_cls: 0.039  loss_box_reg: 0.058  loss_rpn_cls: 0.001  loss_rpn_loc: 0.008      lr: 0.000250  max_mem: 3367M\n",
      "\u001b[32m[03/18 06:35:27 d2.utils.events]: \u001b[0m eta: N/A  iter: 1780  total_loss: 0.127  loss_cls: 0.042  loss_box_reg: 0.055  loss_rpn_cls: 0.002  loss_rpn_loc: 0.015      lr: 0.000250  max_mem: 3367M\n",
      "\u001b[32m[03/18 06:35:36 d2.utils.events]: \u001b[0m eta: N/A  iter: 1800  total_loss: 0.124  loss_cls: 0.039  loss_box_reg: 0.061  loss_rpn_cls: 0.003  loss_rpn_loc: 0.017      lr: 0.000250  max_mem: 3367M\n",
      "\u001b[32m[03/18 06:35:46 d2.utils.events]: \u001b[0m eta: N/A  iter: 1820  total_loss: 0.121  loss_cls: 0.040  loss_box_reg: 0.048  loss_rpn_cls: 0.001  loss_rpn_loc: 0.013      lr: 0.000250  max_mem: 3367M\n",
      "\u001b[32m[03/18 06:35:55 d2.utils.events]: \u001b[0m eta: N/A  iter: 1840  total_loss: 0.115  loss_cls: 0.034  loss_box_reg: 0.045  loss_rpn_cls: 0.001  loss_rpn_loc: 0.007      lr: 0.000250  max_mem: 3367M\n",
      "\u001b[32m[03/18 06:36:04 d2.utils.events]: \u001b[0m eta: N/A  iter: 1860  total_loss: 0.104  loss_cls: 0.033  loss_box_reg: 0.056  loss_rpn_cls: 0.002  loss_rpn_loc: 0.010      lr: 0.000250  max_mem: 3367M\n",
      "\u001b[32m[03/18 06:36:13 d2.utils.events]: \u001b[0m eta: N/A  iter: 1880  total_loss: 0.122  loss_cls: 0.041  loss_box_reg: 0.048  loss_rpn_cls: 0.001  loss_rpn_loc: 0.015      lr: 0.000250  max_mem: 3367M\n",
      "\u001b[32m[03/18 06:36:22 d2.utils.events]: \u001b[0m eta: N/A  iter: 1900  total_loss: 0.135  loss_cls: 0.051  loss_box_reg: 0.061  loss_rpn_cls: 0.001  loss_rpn_loc: 0.006      lr: 0.000250  max_mem: 3367M\n",
      "\u001b[32m[03/18 06:36:32 d2.utils.events]: \u001b[0m eta: N/A  iter: 1920  total_loss: 0.140  loss_cls: 0.047  loss_box_reg: 0.076  loss_rpn_cls: 0.000  loss_rpn_loc: 0.010      lr: 0.000250  max_mem: 3367M\n",
      "\u001b[32m[03/18 06:36:41 d2.utils.events]: \u001b[0m eta: N/A  iter: 1940  total_loss: 0.118  loss_cls: 0.038  loss_box_reg: 0.055  loss_rpn_cls: 0.001  loss_rpn_loc: 0.011      lr: 0.000250  max_mem: 3367M\n",
      "\u001b[32m[03/18 06:36:50 d2.utils.events]: \u001b[0m eta: N/A  iter: 1960  total_loss: 0.118  loss_cls: 0.039  loss_box_reg: 0.062  loss_rpn_cls: 0.003  loss_rpn_loc: 0.006      lr: 0.000250  max_mem: 3367M\n",
      "\u001b[32m[03/18 06:37:00 d2.utils.events]: \u001b[0m eta: N/A  iter: 1980  total_loss: 0.103  loss_cls: 0.037  loss_box_reg: 0.049  loss_rpn_cls: 0.004  loss_rpn_loc: 0.007      lr: 0.000250  max_mem: 3367M\n",
      "\u001b[32m[03/18 06:37:09 d2.utils.events]: \u001b[0m eta: N/A  iter: 2000  total_loss: 0.130  loss_cls: 0.035  loss_box_reg: 0.055  loss_rpn_cls: 0.002  loss_rpn_loc: 0.013      lr: 0.000250  max_mem: 3367M\n",
      "\u001b[32m[03/18 06:37:19 d2.utils.events]: \u001b[0m eta: N/A  iter: 2020  total_loss: 0.120  loss_cls: 0.034  loss_box_reg: 0.040  loss_rpn_cls: 0.001  loss_rpn_loc: 0.027      lr: 0.000250  max_mem: 3367M\n",
      "\u001b[32m[03/18 06:37:29 d2.utils.events]: \u001b[0m eta: N/A  iter: 2040  total_loss: 0.130  loss_cls: 0.045  loss_box_reg: 0.061  loss_rpn_cls: 0.001  loss_rpn_loc: 0.006      lr: 0.000250  max_mem: 3367M\n",
      "\u001b[32m[03/18 06:37:39 d2.utils.events]: \u001b[0m eta: N/A  iter: 2060  total_loss: 0.101  loss_cls: 0.040  loss_box_reg: 0.049  loss_rpn_cls: 0.001  loss_rpn_loc: 0.010      lr: 0.000250  max_mem: 3367M\n",
      "\u001b[32m[03/18 06:37:48 d2.utils.events]: \u001b[0m eta: N/A  iter: 2080  total_loss: 0.123  loss_cls: 0.040  loss_box_reg: 0.058  loss_rpn_cls: 0.001  loss_rpn_loc: 0.008      lr: 0.000250  max_mem: 3367M\n",
      "\u001b[32m[03/18 06:37:57 d2.utils.events]: \u001b[0m eta: N/A  iter: 2100  total_loss: 0.127  loss_cls: 0.045  loss_box_reg: 0.063  loss_rpn_cls: 0.002  loss_rpn_loc: 0.011      lr: 0.000250  max_mem: 3367M\n",
      "\u001b[32m[03/18 06:38:07 d2.utils.events]: \u001b[0m eta: N/A  iter: 2120  total_loss: 0.116  loss_cls: 0.044  loss_box_reg: 0.060  loss_rpn_cls: 0.004  loss_rpn_loc: 0.009      lr: 0.000250  max_mem: 3367M\n",
      "\u001b[32m[03/18 06:38:17 d2.utils.events]: \u001b[0m eta: N/A  iter: 2140  total_loss: 0.125  loss_cls: 0.041  loss_box_reg: 0.061  loss_rpn_cls: 0.003  loss_rpn_loc: 0.010      lr: 0.000250  max_mem: 3367M\n",
      "\u001b[32m[03/18 06:38:27 d2.utils.events]: \u001b[0m eta: N/A  iter: 2160  total_loss: 0.101  loss_cls: 0.037  loss_box_reg: 0.057  loss_rpn_cls: 0.001  loss_rpn_loc: 0.007      lr: 0.000250  max_mem: 3367M\n",
      "\u001b[32m[03/18 06:38:36 d2.utils.events]: \u001b[0m eta: N/A  iter: 2180  total_loss: 0.108  loss_cls: 0.035  loss_box_reg: 0.055  loss_rpn_cls: 0.002  loss_rpn_loc: 0.010      lr: 0.000250  max_mem: 3367M\n",
      "\u001b[32m[03/18 06:38:46 d2.utils.events]: \u001b[0m eta: N/A  iter: 2200  total_loss: 0.100  loss_cls: 0.034  loss_box_reg: 0.040  loss_rpn_cls: 0.004  loss_rpn_loc: 0.010      lr: 0.000250  max_mem: 3367M\n",
      "\u001b[32m[03/18 06:38:55 d2.utils.events]: \u001b[0m eta: N/A  iter: 2220  total_loss: 0.110  loss_cls: 0.045  loss_box_reg: 0.055  loss_rpn_cls: 0.002  loss_rpn_loc: 0.004      lr: 0.000250  max_mem: 3367M\n",
      "\u001b[32m[03/18 06:39:04 d2.utils.events]: \u001b[0m eta: N/A  iter: 2240  total_loss: 0.111  loss_cls: 0.035  loss_box_reg: 0.049  loss_rpn_cls: 0.002  loss_rpn_loc: 0.010      lr: 0.000250  max_mem: 3367M\n",
      "\u001b[32m[03/18 06:39:15 d2.utils.events]: \u001b[0m eta: N/A  iter: 2260  total_loss: 0.122  loss_cls: 0.033  loss_box_reg: 0.049  loss_rpn_cls: 0.002  loss_rpn_loc: 0.014      lr: 0.000250  max_mem: 3367M\n",
      "\u001b[32m[03/18 06:39:24 d2.utils.events]: \u001b[0m eta: N/A  iter: 2280  total_loss: 0.108  loss_cls: 0.039  loss_box_reg: 0.050  loss_rpn_cls: 0.001  loss_rpn_loc: 0.008      lr: 0.000250  max_mem: 3367M\n",
      "\u001b[32m[03/18 06:39:33 d2.utils.events]: \u001b[0m eta: N/A  iter: 2300  total_loss: 0.100  loss_cls: 0.034  loss_box_reg: 0.055  loss_rpn_cls: 0.002  loss_rpn_loc: 0.007      lr: 0.000250  max_mem: 3367M\n",
      "\u001b[32m[03/18 06:39:42 d2.utils.events]: \u001b[0m eta: N/A  iter: 2320  total_loss: 0.144  loss_cls: 0.044  loss_box_reg: 0.070  loss_rpn_cls: 0.001  loss_rpn_loc: 0.015      lr: 0.000250  max_mem: 3367M\n",
      "\u001b[32m[03/18 06:39:52 d2.utils.events]: \u001b[0m eta: N/A  iter: 2340  total_loss: 0.107  loss_cls: 0.041  loss_box_reg: 0.053  loss_rpn_cls: 0.001  loss_rpn_loc: 0.013      lr: 0.000250  max_mem: 3367M\n",
      "\u001b[32m[03/18 06:40:01 d2.utils.events]: \u001b[0m eta: N/A  iter: 2360  total_loss: 0.120  loss_cls: 0.041  loss_box_reg: 0.052  loss_rpn_cls: 0.001  loss_rpn_loc: 0.006      lr: 0.000250  max_mem: 3367M\n",
      "\u001b[32m[03/18 06:40:11 d2.utils.events]: \u001b[0m eta: N/A  iter: 2380  total_loss: 0.090  loss_cls: 0.033  loss_box_reg: 0.044  loss_rpn_cls: 0.001  loss_rpn_loc: 0.006      lr: 0.000250  max_mem: 3367M\n",
      "\u001b[32m[03/18 06:40:21 d2.utils.events]: \u001b[0m eta: N/A  iter: 2400  total_loss: 0.113  loss_cls: 0.038  loss_box_reg: 0.048  loss_rpn_cls: 0.001  loss_rpn_loc: 0.009      lr: 0.000250  max_mem: 3367M\n",
      "\u001b[32m[03/18 06:40:30 d2.utils.events]: \u001b[0m eta: N/A  iter: 2420  total_loss: 0.100  loss_cls: 0.036  loss_box_reg: 0.043  loss_rpn_cls: 0.001  loss_rpn_loc: 0.016      lr: 0.000250  max_mem: 3367M\n",
      "\u001b[32m[03/18 06:40:40 d2.utils.events]: \u001b[0m eta: N/A  iter: 2440  total_loss: 0.094  loss_cls: 0.035  loss_box_reg: 0.043  loss_rpn_cls: 0.000  loss_rpn_loc: 0.006      lr: 0.000250  max_mem: 3367M\n",
      "\u001b[32m[03/18 06:40:49 d2.utils.events]: \u001b[0m eta: N/A  iter: 2460  total_loss: 0.095  loss_cls: 0.026  loss_box_reg: 0.043  loss_rpn_cls: 0.002  loss_rpn_loc: 0.010      lr: 0.000250  max_mem: 3367M\n",
      "\u001b[32m[03/18 06:40:58 d2.utils.events]: \u001b[0m eta: N/A  iter: 2480  total_loss: 0.100  loss_cls: 0.038  loss_box_reg: 0.043  loss_rpn_cls: 0.001  loss_rpn_loc: 0.006      lr: 0.000250  max_mem: 3367M\n",
      "\u001b[32m[03/18 06:41:08 d2.utils.events]: \u001b[0m eta: N/A  iter: 2500  total_loss: 0.090  loss_cls: 0.034  loss_box_reg: 0.049  loss_rpn_cls: 0.001  loss_rpn_loc: 0.007      lr: 0.000250  max_mem: 3367M\n",
      "\u001b[32m[03/18 06:41:17 d2.utils.events]: \u001b[0m eta: N/A  iter: 2520  total_loss: 0.107  loss_cls: 0.043  loss_box_reg: 0.046  loss_rpn_cls: 0.001  loss_rpn_loc: 0.006      lr: 0.000250  max_mem: 3367M\n",
      "\u001b[32m[03/18 06:41:27 d2.utils.events]: \u001b[0m eta: N/A  iter: 2540  total_loss: 0.095  loss_cls: 0.042  loss_box_reg: 0.049  loss_rpn_cls: 0.000  loss_rpn_loc: 0.009      lr: 0.000250  max_mem: 3367M\n",
      "\u001b[32m[03/18 06:41:36 d2.utils.events]: \u001b[0m eta: N/A  iter: 2560  total_loss: 0.099  loss_cls: 0.033  loss_box_reg: 0.044  loss_rpn_cls: 0.002  loss_rpn_loc: 0.016      lr: 0.000250  max_mem: 3367M\n",
      "\u001b[32m[03/18 06:41:46 d2.utils.events]: \u001b[0m eta: N/A  iter: 2580  total_loss: 0.118  loss_cls: 0.044  loss_box_reg: 0.055  loss_rpn_cls: 0.001  loss_rpn_loc: 0.011      lr: 0.000250  max_mem: 3367M\n",
      "\u001b[32m[03/18 06:41:56 d2.utils.events]: \u001b[0m eta: N/A  iter: 2600  total_loss: 0.116  loss_cls: 0.045  loss_box_reg: 0.047  loss_rpn_cls: 0.001  loss_rpn_loc: 0.015      lr: 0.000250  max_mem: 3367M\n",
      "\u001b[32m[03/18 06:42:05 d2.utils.events]: \u001b[0m eta: N/A  iter: 2620  total_loss: 0.115  loss_cls: 0.037  loss_box_reg: 0.039  loss_rpn_cls: 0.002  loss_rpn_loc: 0.013      lr: 0.000250  max_mem: 3367M\n",
      "\u001b[32m[03/18 06:42:14 d2.utils.events]: \u001b[0m eta: N/A  iter: 2640  total_loss: 0.086  loss_cls: 0.029  loss_box_reg: 0.041  loss_rpn_cls: 0.002  loss_rpn_loc: 0.008      lr: 0.000250  max_mem: 3367M\n",
      "\u001b[32m[03/18 06:42:24 d2.utils.events]: \u001b[0m eta: N/A  iter: 2660  total_loss: 0.111  loss_cls: 0.040  loss_box_reg: 0.055  loss_rpn_cls: 0.001  loss_rpn_loc: 0.013      lr: 0.000250  max_mem: 3367M\n",
      "\u001b[32m[03/18 06:42:33 d2.utils.events]: \u001b[0m eta: N/A  iter: 2680  total_loss: 0.096  loss_cls: 0.033  loss_box_reg: 0.043  loss_rpn_cls: 0.001  loss_rpn_loc: 0.007      lr: 0.000250  max_mem: 3367M\n",
      "\u001b[32m[03/18 06:42:43 d2.utils.events]: \u001b[0m eta: N/A  iter: 2700  total_loss: 0.097  loss_cls: 0.030  loss_box_reg: 0.050  loss_rpn_cls: 0.001  loss_rpn_loc: 0.007      lr: 0.000250  max_mem: 3367M\n",
      "\u001b[32m[03/18 06:42:52 d2.utils.events]: \u001b[0m eta: N/A  iter: 2720  total_loss: 0.097  loss_cls: 0.029  loss_box_reg: 0.047  loss_rpn_cls: 0.001  loss_rpn_loc: 0.008      lr: 0.000250  max_mem: 3367M\n",
      "\u001b[32m[03/18 06:43:02 d2.utils.events]: \u001b[0m eta: N/A  iter: 2740  total_loss: 0.120  loss_cls: 0.038  loss_box_reg: 0.052  loss_rpn_cls: 0.003  loss_rpn_loc: 0.010      lr: 0.000250  max_mem: 3367M\n",
      "\u001b[32m[03/18 06:43:12 d2.utils.events]: \u001b[0m eta: N/A  iter: 2760  total_loss: 0.117  loss_cls: 0.041  loss_box_reg: 0.054  loss_rpn_cls: 0.002  loss_rpn_loc: 0.007      lr: 0.000250  max_mem: 3367M\n",
      "\u001b[32m[03/18 06:43:21 d2.utils.events]: \u001b[0m eta: N/A  iter: 2780  total_loss: 0.094  loss_cls: 0.031  loss_box_reg: 0.039  loss_rpn_cls: 0.001  loss_rpn_loc: 0.012      lr: 0.000250  max_mem: 3367M\n",
      "\u001b[32m[03/18 06:43:31 d2.utils.events]: \u001b[0m eta: N/A  iter: 2800  total_loss: 0.090  loss_cls: 0.035  loss_box_reg: 0.046  loss_rpn_cls: 0.001  loss_rpn_loc: 0.005      lr: 0.000250  max_mem: 3367M\n",
      "\u001b[32m[03/18 06:43:41 d2.utils.events]: \u001b[0m eta: N/A  iter: 2820  total_loss: 0.099  loss_cls: 0.031  loss_box_reg: 0.048  loss_rpn_cls: 0.001  loss_rpn_loc: 0.008      lr: 0.000250  max_mem: 3367M\n",
      "\u001b[32m[03/18 06:43:50 d2.utils.events]: \u001b[0m eta: N/A  iter: 2840  total_loss: 0.102  loss_cls: 0.037  loss_box_reg: 0.055  loss_rpn_cls: 0.001  loss_rpn_loc: 0.015      lr: 0.000250  max_mem: 3367M\n",
      "\u001b[32m[03/18 06:44:00 d2.utils.events]: \u001b[0m eta: N/A  iter: 2860  total_loss: 0.109  loss_cls: 0.039  loss_box_reg: 0.038  loss_rpn_cls: 0.001  loss_rpn_loc: 0.012      lr: 0.000250  max_mem: 3367M\n",
      "\u001b[32m[03/18 06:44:09 d2.utils.events]: \u001b[0m eta: N/A  iter: 2880  total_loss: 0.089  loss_cls: 0.028  loss_box_reg: 0.046  loss_rpn_cls: 0.001  loss_rpn_loc: 0.007      lr: 0.000250  max_mem: 3367M\n",
      "\u001b[32m[03/18 06:44:19 d2.utils.events]: \u001b[0m eta: N/A  iter: 2900  total_loss: 0.098  loss_cls: 0.029  loss_box_reg: 0.045  loss_rpn_cls: 0.002  loss_rpn_loc: 0.012      lr: 0.000250  max_mem: 3367M\n",
      "\u001b[32m[03/18 06:44:28 d2.utils.events]: \u001b[0m eta: N/A  iter: 2920  total_loss: 0.089  loss_cls: 0.035  loss_box_reg: 0.040  loss_rpn_cls: 0.001  loss_rpn_loc: 0.009      lr: 0.000250  max_mem: 3367M\n",
      "\u001b[32m[03/18 06:44:38 d2.utils.events]: \u001b[0m eta: N/A  iter: 2940  total_loss: 0.104  loss_cls: 0.030  loss_box_reg: 0.036  loss_rpn_cls: 0.001  loss_rpn_loc: 0.011      lr: 0.000250  max_mem: 3367M\n",
      "\u001b[32m[03/18 06:44:48 d2.utils.events]: \u001b[0m eta: N/A  iter: 2960  total_loss: 0.093  loss_cls: 0.031  loss_box_reg: 0.052  loss_rpn_cls: 0.001  loss_rpn_loc: 0.008      lr: 0.000250  max_mem: 3367M\n",
      "\u001b[32m[03/18 06:44:57 d2.utils.events]: \u001b[0m eta: N/A  iter: 2980  total_loss: 0.112  loss_cls: 0.040  loss_box_reg: 0.053  loss_rpn_cls: 0.001  loss_rpn_loc: 0.018      lr: 0.000250  max_mem: 3367M\n",
      "\u001b[32m[03/18 06:45:06 fvcore.common.checkpoint]: \u001b[0mSaving checkpoint to ./output/model_final.pth\n",
      "\u001b[32m[03/18 06:45:07 d2.utils.events]: \u001b[0m eta: N/A  iter: 3000  total_loss: 0.113  loss_cls: 0.038  loss_box_reg: 0.049  loss_rpn_cls: 0.001  loss_rpn_loc: 0.009      lr: 0.000250  max_mem: 3367M\n",
      "\u001b[32m[03/18 06:45:08 fvcore.common.checkpoint]: \u001b[0mSaving checkpoint to ./output/model_final.pth\n",
      "\u001b[32m[03/18 06:45:09 d2.data.common]: \u001b[0mSerializing 48 elements to byte tensors and concatenating them all ...\n",
      "\u001b[32m[03/18 06:45:09 d2.data.common]: \u001b[0mSerialized dataset takes 0.01 MiB\n",
      "\u001b[32m[03/18 06:45:09 d2.evaluation.evaluator]: \u001b[0mStart inference on 48 images\n",
      "\u001b[32m[03/18 06:45:10 d2.evaluation.evaluator]: \u001b[0mInference done 11/48. 0.1062 s / img. ETA=0:00:03\n",
      "\u001b[32m[03/18 06:45:14 d2.evaluation.evaluator]: \u001b[0mTotal inference time: 0:00:04.839375 (0.112544 s / img per device, on 1 devices)\n",
      "\u001b[32m[03/18 06:45:14 d2.evaluation.evaluator]: \u001b[0mTotal inference pure compute time: 0:00:04 (0.109312 s / img per device, on 1 devices)\n",
      "\u001b[32m[03/18 06:45:14 d2.evaluation.coco_evaluation]: \u001b[0mPreparing results for COCO format ...\n",
      "\u001b[32m[03/18 06:45:14 d2.evaluation.coco_evaluation]: \u001b[0mSaving results to ./output/inference/cmaker-bathtub-treehouse-validation/coco_instances_results.json\n",
      "\u001b[32m[03/18 06:45:14 d2.evaluation.coco_evaluation]: \u001b[0mEvaluating predictions ...\n",
      "Loading and preparing results...\n",
      "DONE (t=0.00s)\n",
      "creating index...\n",
      "index created!\n",
      "Running per image evaluation...\n",
      "Evaluate annotation type *bbox*\n",
      "DONE (t=0.03s).\n",
      "Accumulating evaluation results...\n",
      "DONE (t=0.01s).\n",
      " Average Precision  (AP) @[ IoU=0.50:0.95 | area=   all | maxDets=100 ] = 0.541\n",
      " Average Precision  (AP) @[ IoU=0.50      | area=   all | maxDets=100 ] = 0.847\n",
      " Average Precision  (AP) @[ IoU=0.75      | area=   all | maxDets=100 ] = 0.586\n",
      " Average Precision  (AP) @[ IoU=0.50:0.95 | area= small | maxDets=100 ] = -1.000\n",
      " Average Precision  (AP) @[ IoU=0.50:0.95 | area=medium | maxDets=100 ] = -1.000\n",
      " Average Precision  (AP) @[ IoU=0.50:0.95 | area= large | maxDets=100 ] = 0.541\n",
      " Average Recall     (AR) @[ IoU=0.50:0.95 | area=   all | maxDets=  1 ] = 0.555\n",
      " Average Recall     (AR) @[ IoU=0.50:0.95 | area=   all | maxDets= 10 ] = 0.691\n",
      " Average Recall     (AR) @[ IoU=0.50:0.95 | area=   all | maxDets=100 ] = 0.691\n",
      " Average Recall     (AR) @[ IoU=0.50:0.95 | area= small | maxDets=100 ] = -1.000\n",
      " Average Recall     (AR) @[ IoU=0.50:0.95 | area=medium | maxDets=100 ] = -1.000\n",
      " Average Recall     (AR) @[ IoU=0.50:0.95 | area= large | maxDets=100 ] = 0.691\n",
      "\u001b[32m[03/18 06:45:14 d2.evaluation.coco_evaluation]: \u001b[0mEvaluation results for bbox: \n",
      "|   AP   |  AP50  |  AP75  |  APs  |  APm  |  APl   |\n",
      "|:------:|:------:|:------:|:-----:|:-----:|:------:|\n",
      "| 54.107 | 84.730 | 58.596 |  nan  |  nan  | 54.126 |\n",
      "\u001b[32m[03/18 06:45:14 d2.evaluation.coco_evaluation]: \u001b[0mNote that some metrics cannot be computed.\n",
      "\u001b[32m[03/18 06:45:14 d2.evaluation.coco_evaluation]: \u001b[0mPer-category bbox AP: \n",
      "| category   | AP     | category    | AP     | category   | AP     |\n",
      "|:-----------|:-------|:------------|:-------|:-----------|:-------|\n",
      "| Bathtub    | 63.654 | Coffeemaker | 63.736 | Tree house | 34.932 |\n",
      "### Returning results_i...\n",
      "\u001b[32m[03/18 06:45:14 detectron2]: \u001b[0mEvaluation results for cmaker-bathtub-treehouse-validation in csv format:\n",
      "\u001b[32m[03/18 06:45:14 d2.evaluation.testing]: \u001b[0mcopypaste: Task: bbox\n",
      "\u001b[32m[03/18 06:45:14 d2.evaluation.testing]: \u001b[0mcopypaste: AP,AP50,AP75,APs,APm,APl\n",
      "\u001b[32m[03/18 06:45:14 d2.evaluation.testing]: \u001b[0mcopypaste: 54.1072,84.7304,58.5961,nan,nan,54.1255\n",
      "### Saving results to Weights & Biases...\n"
     ]
    }
   ],
   "source": [
    "if __name__ == \"__main__\":\n",
    "  main(args)"
   ]
  },
  {
   "cell_type": "code",
   "execution_count": null,
   "metadata": {
    "colab": {},
    "colab_type": "code",
    "id": "9IOgOR1XMpC8"
   },
   "outputs": [],
   "source": []
  },
  {
   "cell_type": "code",
   "execution_count": null,
   "metadata": {
    "colab": {},
    "colab_type": "code",
    "id": "7OVQdVatMo65"
   },
   "outputs": [],
   "source": []
  },
  {
   "cell_type": "code",
   "execution_count": null,
   "metadata": {
    "colab": {},
    "colab_type": "code",
    "id": "4wwOwfX9Moze"
   },
   "outputs": [],
   "source": []
  },
  {
   "cell_type": "code",
   "execution_count": null,
   "metadata": {
    "colab": {},
    "colab_type": "code",
    "id": "Fq3THmM_Moqi"
   },
   "outputs": [],
   "source": []
  },
  {
   "cell_type": "code",
   "execution_count": null,
   "metadata": {
    "colab": {
     "base_uri": "https://localhost:8080/",
     "height": 35
    },
    "colab_type": "code",
    "id": "KJdgF6lOIo8i",
    "outputId": "41e7d0a9-0b81-44ff-af92-4bec4d8a1b1c"
   },
   "outputs": [
    {
     "data": {
      "text/plain": [
       "0.421105753554186"
      ]
     },
     "execution_count": 48,
     "metadata": {
      "tags": []
     },
     "output_type": "execute_result"
    }
   ],
   "source": [
    "results_dict = OrderedDict([('bbox', \n",
    "                             {'AP': 0.421105753554186, \n",
    "                              'AP50': 2.570381670807977, \n",
    "                              'AP75': 0.0034985830738550883, \n",
    "                              'APs': None, \n",
    "                              'APm': None, \n",
    "                              'APl': 0.5861111021958075})])\n",
    "results_dict[\"bbox\"][\"AP\"]"
   ]
  },
  {
   "cell_type": "markdown",
   "metadata": {
    "colab_type": "text",
    "id": "WTk93hZP1Z2B"
   },
   "source": [
    "# SUCCESS!!!!!!!\n",
    "\n",
    "Model trained with a custom training loop! Now to figure out how to track experiments...."
   ]
  },
  {
   "cell_type": "code",
   "execution_count": null,
   "metadata": {
    "colab": {
     "base_uri": "https://localhost:8080/",
     "height": 286
    },
    "colab_type": "code",
    "id": "9_4mKVj9Pq5B",
    "outputId": "39ea9d58-653d-4785-f72c-4046b2eb0300"
   },
   "outputs": [
    {
     "name": "stderr",
     "output_type": "stream",
     "text": [
      "usage: ipykernel_launcher.py [-h] [--config-file FILE] [--resume]\n",
      "                             [--eval-only] [--num-gpus NUM_GPUS]\n",
      "                             [--num-machines NUM_MACHINES]\n",
      "                             [--machine-rank MACHINE_RANK]\n",
      "                             [--dist-url DIST_URL]\n",
      "                             ...\n",
      "ipykernel_launcher.py: error: unrecognized arguments: -f\n"
     ]
    },
    {
     "ename": "SystemExit",
     "evalue": "ignored",
     "output_type": "error",
     "traceback": [
      "An exception has occurred, use %tb to see the full traceback.\n",
      "\u001b[0;31mSystemExit\u001b[0m\u001b[0;31m:\u001b[0m 2\n"
     ]
    },
    {
     "name": "stderr",
     "output_type": "stream",
     "text": [
      "/usr/local/lib/python3.6/dist-packages/IPython/core/interactiveshell.py:2890: UserWarning: To exit: use 'exit', 'quit', or Ctrl-D.\n",
      "  warn(\"To exit: use 'exit', 'quit', or Ctrl-D.\", stacklevel=1)\n"
     ]
    }
   ],
   "source": [
    "# if __name__ == \"__main__\":\n",
    "#   # Creates an argument parser with common arguments used by Detectron2\n",
    "#   args = default_argument_parser().parse_args()\n",
    "#   print(\"Command Line Args:\", args)\n",
    "#   # Abstracted funciton for launching the main() function with a bunch of different things\n",
    "#   launch(\n",
    "#       main,\n",
    "#       args.num_gpus,\n",
    "#       num_machines=args.num_machines,\n",
    "#       machine_rank=args.machine_rank,\n",
    "#       dist_url=args.dist_url,\n",
    "#       args=(args,),\n",
    "#   )"
   ]
  },
  {
   "cell_type": "markdown",
   "metadata": {
    "colab_type": "text",
    "id": "PsbApLqsvvJ2"
   },
   "source": [
    "## TODO - Draw predictions"
   ]
  },
  {
   "cell_type": "code",
   "execution_count": null,
   "metadata": {
    "colab": {},
    "colab_type": "code",
    "id": "AbkSbi6x64MQ"
   },
   "outputs": [],
   "source": [
    "import detectron2\n",
    "# Load in config file\n",
    "loaded_cfg = get_cfg()\n",
    "loaded_cfg = loaded_cfg.load_yaml_with_base(os.path.join(loaded_cfg.OUTPUT_DIR, \"config.yaml\"))\n",
    "loaded_cfg = detectron2.config.CfgNode(loaded_cfg)\n",
    "# loaded_cfg"
   ]
  },
  {
   "cell_type": "code",
   "execution_count": null,
   "metadata": {
    "colab": {
     "base_uri": "https://localhost:8080/",
     "height": 35
    },
    "colab_type": "code",
    "id": "PdhqOvz777Cg",
    "outputId": "cde2915c-ac3c-48f2-eef0-cd0b03d0f46d"
   },
   "outputs": [
    {
     "data": {
      "text/plain": [
       "0.05"
      ]
     },
     "execution_count": 63,
     "metadata": {
      "tags": []
     },
     "output_type": "execute_result"
    }
   ],
   "source": [
    "loaded_cfg[\"MODEL\"][\"ROI_HEADS\"][\"SCORE_THRESH_TEST\"]"
   ]
  },
  {
   "cell_type": "code",
   "execution_count": null,
   "metadata": {
    "colab": {
     "base_uri": "https://localhost:8080/",
     "height": 35
    },
    "colab_type": "code",
    "id": "GLRQdfny6xgP",
    "outputId": "52fee3ab-4ae3-4f6e-a674-61c519070ee9"
   },
   "outputs": [
    {
     "name": "stdout",
     "output_type": "stream",
     "text": [
      "\u001b[32m[03/18 06:09:17 fvcore.common.checkpoint]: \u001b[0mLoading checkpoint from ./output/model_final.pth\n"
     ]
    }
   ],
   "source": [
    "from detectron2.engine import DefaultPredictor\n",
    "# Setup predictor\n",
    "loaded_cfg[\"MODEL\"][\"WEIGHTS\"] = os.path.join(loaded_cfg[\"OUTPUT_DIR\"], \"model_final.pth\")\n",
    "loaded_cfg[\"MODEL\"][\"ROI_HEADS\"][\"SCORE_THRESH_TEST\"] = 0.7   # set the testing threshold for this model\n",
    "loaded_cfg[\"DATASETS\"][\"TEST\"] = (\"cmaker-bathtub-treehouse-validation\", )\n",
    "predictor = DefaultPredictor(loaded_cfg)"
   ]
  },
  {
   "cell_type": "code",
   "execution_count": null,
   "metadata": {
    "colab": {
     "base_uri": "https://localhost:8080/",
     "height": 435
    },
    "colab_type": "code",
    "id": "U5LhISJqWXgM",
    "outputId": "8fffef88-767a-4e68-c1e0-48365dcf3705"
   },
   "outputs": [
    {
     "name": "stdout",
     "output_type": "stream",
     "text": [
      "{'instances': Instances(num_instances=2, image_height=768, image_width=1024, fields=[pred_boxes: Boxes(tensor([[ 332.9039,  238.9931, 1021.1638,  768.0000],\n",
      "        [  75.1831,  523.6356,  566.5775,  768.0000]], device='cuda:0')), scores: tensor([0.8273, 0.7050], device='cuda:0'), pred_classes: tensor([0, 0], device='cuda:0')])}\n"
     ]
    },
    {
     "data": {
      "image/png": "[encoded data removed]",
      "text/plain": [
       "<PIL.Image.Image image mode=RGB size=512x384 at 0x7F462B8B3438>"
      ]
     },
     "metadata": {
      "tags": []
     },
     "output_type": "display_data"
    }
   ],
   "source": [
    "from detectron2.utils.visualizer import ColorMode\n",
    "#dataset_dicts = get_balloon_dicts(\"balloon/val\")\n",
    "for d in random.sample(val_img_dicts, 1):    \n",
    "    im = cv2.imread(d[\"file_name\"])\n",
    "    outputs = predictor(im)\n",
    "    print(outputs)\n",
    "    v = Visualizer(im[:, :, ::-1],\n",
    "                   metadata=cmaker_bathtub_metadata, \n",
    "                   scale=0.5 \n",
    "                   #instance_mode=ColorMode.IMAGE_BW   # remove the colors of unsegmented pixels\n",
    "    )\n",
    "    v = v.draw_instance_predictions(outputs[\"instances\"].to(\"cpu\"))\n",
    "    cv2_imshow(v.get_image()[:, :, ::-1])"
   ]
  }
 ],
 "metadata": {
  "accelerator": "GPU",
  "colab": {
   "collapsed_sections": [],
   "name": "06-detectron2-experiment-tracking.ipynb",
   "provenance": []
  },
  "kernelspec": {
   "display_name": "Python 3",
   "language": "python",
   "name": "python3"
  },
  "language_info": {
   "codemirror_mode": {
    "name": "ipython",
    "version": 3
   },
   "file_extension": ".py",
   "mimetype": "text/x-python",
   "name": "python",
   "nbconvert_exporter": "python",
   "pygments_lexer": "ipython3",
   "version": "3.7.4"
  }
 },
 "nbformat": 4,
 "nbformat_minor": 4
}
